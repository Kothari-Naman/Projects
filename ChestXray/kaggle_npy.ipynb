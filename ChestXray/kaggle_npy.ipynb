{
 "cells": [
  {
   "cell_type": "code",
   "execution_count": 1,
   "id": "b9e41dd0",
   "metadata": {},
   "outputs": [
    {
     "name": "stderr",
     "output_type": "stream",
     "text": [
      "C:\\Users\\Naman kothari\\anaconda3\\Lib\\site-packages\\torch\\utils\\_pytree.py:185: FutureWarning: optree is installed but the version is too old to support PyTorch Dynamo in C++ pytree. C++ pytree support is disabled. Please consider upgrading optree using `python3 -m pip install --upgrade 'optree>=0.13.0'`.\n",
      "  warnings.warn(\n"
     ]
    }
   ],
   "source": [
    "import os\n",
    "import pandas as pd\n",
    "import numpy as np\n",
    "import matplotlib.pyplot as plt\n",
    "from PIL import Image\n",
    "import tqdm as tqdm\n",
    "import torch"
   ]
  },
  {
   "cell_type": "code",
   "execution_count": 9,
   "id": "d858dee4",
   "metadata": {},
   "outputs": [],
   "source": [
    "df = pd.read_csv(r\"C:\\Users\\Naman kothari\\Desktop\\PadChestPA_1980\\PadChestPA_1980_eng.csv\")\n",
    "reports = df.Eng_Reports.to_list()"
   ]
  },
  {
   "cell_type": "code",
   "execution_count": null,
   "id": "18ab34cc",
   "metadata": {},
   "outputs": [],
   "source": []
  },
  {
   "cell_type": "code",
   "execution_count": 3,
   "id": "54b75dc9",
   "metadata": {},
   "outputs": [
    {
     "name": "stderr",
     "output_type": "stream",
     "text": [
      "100%|█████████████████████████████████████████████████████████████████████████████| 9405/9405 [00:40<00:00, 231.05it/s]\n"
     ]
    }
   ],
   "source": [
    "base_dir = r\"C:\\Users\\Naman kothari\\Desktop\\PadChestPA_1980\\images-224-9k\"\n",
    "all_img = []\n",
    "for path in tqdm.tqdm(os.listdir(base_dir)):\n",
    "    file_path = os.path.join(base_dir,path)\n",
    "    arr = plt.imread(file_path)\n",
    "    all_img.append(arr)"
   ]
  },
  {
   "cell_type": "code",
   "execution_count": 5,
   "id": "eb801f4d",
   "metadata": {},
   "outputs": [
    {
     "data": {
      "text/plain": [
       "numpy.ndarray"
      ]
     },
     "execution_count": 5,
     "metadata": {},
     "output_type": "execute_result"
    }
   ],
   "source": [
    "type(all_img[0])"
   ]
  },
  {
   "cell_type": "code",
   "execution_count": 7,
   "id": "39821cc8",
   "metadata": {},
   "outputs": [
    {
     "data": {
      "text/plain": [
       "(9405, 224, 224)"
      ]
     },
     "execution_count": 7,
     "metadata": {},
     "output_type": "execute_result"
    }
   ],
   "source": [
    "all_img = np.stack(all_img,axis=0)\n",
    "all_img.shape"
   ]
  },
  {
   "cell_type": "code",
   "execution_count": 8,
   "id": "ce43af1f",
   "metadata": {},
   "outputs": [],
   "source": [
    "np.savez_compressed(r\"C:\\Users\\Naman kothari\\Desktop\\PadChestPA_1980\\all_img.npz\", all_img)\n"
   ]
  },
  {
   "cell_type": "code",
   "execution_count": null,
   "id": "fd22b343",
   "metadata": {},
   "outputs": [],
   "source": [
    "torch.save(all_img,r\"C:\\Users\\Naman kothari\\Desktop\\PadChestPA_1980\\all_img_torch.pt\")"
   ]
  },
  {
   "cell_type": "code",
   "execution_count": null,
   "id": "8237f395",
   "metadata": {},
   "outputs": [],
   "source": []
  },
  {
   "cell_type": "code",
   "execution_count": null,
   "id": "a0a1b5fb",
   "metadata": {},
   "outputs": [],
   "source": []
  }
 ],
 "metadata": {
  "kernelspec": {
   "display_name": "Python 3 (ipykernel)",
   "language": "python",
   "name": "python3"
  },
  "language_info": {
   "codemirror_mode": {
    "name": "ipython",
    "version": 3
   },
   "file_extension": ".py",
   "mimetype": "text/x-python",
   "name": "python",
   "nbconvert_exporter": "python",
   "pygments_lexer": "ipython3",
   "version": "3.11.5"
  }
 },
 "nbformat": 4,
 "nbformat_minor": 5
}
