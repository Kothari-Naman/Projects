{
 "cells": [
  {
   "cell_type": "markdown",
   "metadata": {},
   "source": [
    "This notebook requires 2 files, The xray images in a compressed numpy array format and the csv file containing the reports."
   ]
  },
  {
   "cell_type": "code",
   "execution_count": 1,
   "metadata": {
    "_cell_guid": "b1076dfc-b9ad-4769-8c92-a6c4dae69d19",
    "_uuid": "8f2839f25d086af736a60e9eeb907d3b93b6e0e5",
    "execution": {
     "iopub.execute_input": "2025-08-09T14:52:23.626512Z",
     "iopub.status.busy": "2025-08-09T14:52:23.625798Z",
     "iopub.status.idle": "2025-08-09T14:52:24.019147Z",
     "shell.execute_reply": "2025-08-09T14:52:24.018318Z",
     "shell.execute_reply.started": "2025-08-09T14:52:23.626475Z"
    },
    "trusted": true
   },
   "outputs": [
    {
     "name": "stdout",
     "output_type": "stream",
     "text": [
      "/kaggle/input/best_finetuned/pytorch/default/1/best (2).pt\n",
      "/kaggle/input/best_model_normal_training/pytorch/default/1/best.pt\n",
      "/kaggle/input/padchest-array/PadChestPA_1980_eng.csv\n",
      "/kaggle/input/padchest-array/all_img.npz\n"
     ]
    }
   ],
   "source": [
    "# This Python 3 environment comes with many helpful analytics libraries installed\n",
    "# It is defined by the kaggle/python Docker image: https://github.com/kaggle/docker-python\n",
    "# For example, here's several helpful packages to load\n",
    "\n",
    "import numpy as np # linear algebra\n",
    "import pandas as pd # data processing, CSV file I/O (e.g. pd.read_csv)\n",
    "\n",
    "# Input data files are available in the read-only \"../input/\" directory\n",
    "# For example, running this (by clicking run or pressing Shift+Enter) will list all files under the input directory\n",
    "\n",
    "import os\n",
    "for dirname, _, filenames in os.walk('/kaggle/input'):\n",
    "    for filename in filenames:\n",
    "        print(os.path.join(dirname, filename))\n",
    "\n",
    "# You can write up to 20GB to the current directory (/kaggle/working/) that gets preserved as output when you create a version using \"Save & Run All\" \n",
    "# You can also write temporary files to /kaggle/temp/, but they won't be saved outside of the current session"
   ]
  },
  {
   "cell_type": "code",
   "execution_count": 2,
   "metadata": {
    "execution": {
     "iopub.execute_input": "2025-08-09T14:52:26.817329Z",
     "iopub.status.busy": "2025-08-09T14:52:26.816970Z",
     "iopub.status.idle": "2025-08-09T14:53:04.581321Z",
     "shell.execute_reply": "2025-08-09T14:53:04.580585Z",
     "shell.execute_reply.started": "2025-08-09T14:52:26.817308Z"
    },
    "trusted": true
   },
   "outputs": [
    {
     "name": "stderr",
     "output_type": "stream",
     "text": [
      "2025-08-09 14:52:47.683391: E external/local_xla/xla/stream_executor/cuda/cuda_fft.cc:477] Unable to register cuFFT factory: Attempting to register factory for plugin cuFFT when one has already been registered\n",
      "WARNING: All log messages before absl::InitializeLog() is called are written to STDERR\n",
      "E0000 00:00:1754751168.063950      36 cuda_dnn.cc:8310] Unable to register cuDNN factory: Attempting to register factory for plugin cuDNN when one has already been registered\n",
      "E0000 00:00:1754751168.167756      36 cuda_blas.cc:1418] Unable to register cuBLAS factory: Attempting to register factory for plugin cuBLAS when one has already been registered\n"
     ]
    }
   ],
   "source": [
    "import os\n",
    "import math\n",
    "import random\n",
    "import pandas as pd\n",
    "import numpy as np\n",
    "import matplotlib.pyplot as plt\n",
    "import copy\n",
    "from dataclasses import dataclass\n",
    "from typing import List, Dict\n",
    "\n",
    "import torch\n",
    "import torch.nn as nn\n",
    "import torch.optim as optim\n",
    "from torch.utils.data import TensorDataset, DataLoader, Subset, random_split\n",
    "from transformers import (\n",
    "    ViTModel,\n",
    "    AutoImageProcessor,\n",
    "    GPT2LMHeadModel,\n",
    "    GPT2Config,\n",
    "    AutoTokenizer,\n",
    "    get_linear_schedule_with_warmup,\n",
    ")"
   ]
  },
  {
   "cell_type": "code",
   "execution_count": 3,
   "metadata": {
    "execution": {
     "iopub.execute_input": "2025-08-09T14:53:04.583099Z",
     "iopub.status.busy": "2025-08-09T14:53:04.582424Z",
     "iopub.status.idle": "2025-08-09T14:53:36.216818Z",
     "shell.execute_reply": "2025-08-09T14:53:36.216002Z",
     "shell.execute_reply.started": "2025-08-09T14:53:04.583079Z"
    },
    "trusted": true
   },
   "outputs": [],
   "source": [
    "imgs = torch.tensor(np.load(\"/kaggle/input/padchest-array/all_img.npz\")[\"arr_0\"]).unsqueeze(1).repeat(1,3,1,1).to(torch.float16)\n",
    "df = pd.read_csv('/kaggle/input/padchest-array/PadChestPA_1980_eng.csv')\n",
    "all_reports = df.Eng_Reports.to_list()"
   ]
  },
  {
   "cell_type": "code",
   "execution_count": null,
   "metadata": {
    "_kg_hide-input": true,
    "execution": {
     "iopub.execute_input": "2025-08-09T14:53:36.218017Z",
     "iopub.status.busy": "2025-08-09T14:53:36.217688Z",
     "iopub.status.idle": "2025-08-09T14:53:36.338146Z",
     "shell.execute_reply": "2025-08-09T14:53:36.337397Z",
     "shell.execute_reply.started": "2025-08-09T14:53:36.217993Z"
    },
    "trusted": true
   },
   "outputs": [],
   "source": [
    "import re\n",
    "# This function cleans the english reports and removes unwanted words and phrases that might cause the model to hallucinate.\n",
    "def clean_medical_report(text):\n",
    "    \n",
    "    # Skip if input is already empty or None\n",
    "    if not text or not text.strip():\n",
    "        return None\n",
    "    \n",
    "    # Remove formatting artifacts\n",
    "    text = re.sub(r'\\*\\*Original Report:\\*\\*', '', text)\n",
    "    text = re.sub(r'\\*\\*.*?\\*\\*', '', text)  # Remove **text**\n",
    "    text = re.sub(r'---.*?---', '', text, flags=re.DOTALL)\n",
    "    text = re.sub(r'\\*+', '', text)  # Remove asterisks\n",
    "    # Remove metadata patterns\n",
    "    text = re.sub(r'Comparison with.*?dated.*?\\d{1,2}-\\d{1,2}-\\d{4}', '', text)\n",
    "    \n",
    "    # Clean quotes and whitespace\n",
    "    text = re.sub(r'^\\s*\"', '', text)  # Remove starting quote\n",
    "    text = re.sub(r'\"\\s*$', '', text)  # Remove ending quote\n",
    "    text = re.sub(r'\\s+', ' ', text).strip()  # Clean whitespace\n",
    "    \n",
    "    # **KEY ADDITION: Check if text becomes empty after cleaning**\n",
    "    if not text or len(text.strip()) == 0:\n",
    "        return None  # Return None instead of empty string\n",
    "    \n",
    "    # Ensure proper sentence ending\n",
    "    if text and not text.endswith(('.', '!', '?')):\n",
    "        text += '.'\n",
    "    \n",
    "    return text\n",
    "\n",
    "cleaned_reports = []\n",
    "for report in all_reports:\n",
    "    cleaned = clean_medical_report(report)\n",
    "    if cleaned:  # Only append non-empty strings\n",
    "        cleaned_reports.append(cleaned)\n",
    "\n",
    "print(f\"Original: {len(all_reports)} reports\")\n",
    "print(f\"Cleaned: {len(cleaned_reports)} reports\")\n",
    "print(f\"Removed: {len(all_reports) - len(cleaned_reports)} empty/invalid reports\")\n",
    "\n",
    "\n"
   ]
  },
  {
   "cell_type": "code",
   "execution_count": null,
   "metadata": {
    "trusted": true
   },
   "outputs": [],
   "source": []
  },
  {
   "cell_type": "code",
   "execution_count": 5,
   "metadata": {
    "execution": {
     "iopub.execute_input": "2025-08-09T14:53:36.340294Z",
     "iopub.status.busy": "2025-08-09T14:53:36.340104Z",
     "iopub.status.idle": "2025-08-09T14:53:41.959540Z",
     "shell.execute_reply": "2025-08-09T14:53:41.958772Z",
     "shell.execute_reply.started": "2025-08-09T14:53:36.340279Z"
    },
    "trusted": true
   },
   "outputs": [
    {
     "data": {
      "application/vnd.jupyter.widget-view+json": {
       "model_id": "af0e7c0437ea4737a68368c170afcf9c",
       "version_major": 2,
       "version_minor": 0
      },
      "text/plain": [
       "preprocessor_config.json:   0%|          | 0.00/160 [00:00<?, ?B/s]"
      ]
     },
     "metadata": {},
     "output_type": "display_data"
    },
    {
     "data": {
      "application/vnd.jupyter.widget-view+json": {
       "model_id": "b98aad3e2ac246ccad10261a1566c34f",
       "version_major": 2,
       "version_minor": 0
      },
      "text/plain": [
       "config.json: 0.00B [00:00, ?B/s]"
      ]
     },
     "metadata": {},
     "output_type": "display_data"
    },
    {
     "name": "stderr",
     "output_type": "stream",
     "text": [
      "Fast image processor class <class 'transformers.models.vit.image_processing_vit_fast.ViTImageProcessorFast'> is available for this model. Using slow image processor class. To use the fast image processor class set `use_fast=True`.\n"
     ]
    },
    {
     "data": {
      "application/vnd.jupyter.widget-view+json": {
       "model_id": "c3ebb0db01b94fdda7ff03de91b5da4b",
       "version_major": 2,
       "version_minor": 0
      },
      "text/plain": [
       "model.safetensors:   0%|          | 0.00/22.9M [00:00<?, ?B/s]"
      ]
     },
     "metadata": {},
     "output_type": "display_data"
    },
    {
     "name": "stderr",
     "output_type": "stream",
     "text": [
      "Some weights of ViTModel were not initialized from the model checkpoint at WinKawaks/vit-tiny-patch16-224 and are newly initialized: ['pooler.dense.bias', 'pooler.dense.weight']\n",
      "You should probably TRAIN this model on a down-stream task to be able to use it for predictions and inference.\n"
     ]
    },
    {
     "data": {
      "application/vnd.jupyter.widget-view+json": {
       "model_id": "85f74598781c42bba59a5510f6b4e73a",
       "version_major": 2,
       "version_minor": 0
      },
      "text/plain": [
       "config.json:   0%|          | 0.00/762 [00:00<?, ?B/s]"
      ]
     },
     "metadata": {},
     "output_type": "display_data"
    },
    {
     "data": {
      "application/vnd.jupyter.widget-view+json": {
       "model_id": "552f455f60004ff39c621ff2ec79fffc",
       "version_major": 2,
       "version_minor": 0
      },
      "text/plain": [
       "model.safetensors:   0%|          | 0.00/353M [00:00<?, ?B/s]"
      ]
     },
     "metadata": {},
     "output_type": "display_data"
    },
    {
     "name": "stderr",
     "output_type": "stream",
     "text": [
      "Some weights of GPT2LMHeadModel were not initialized from the model checkpoint at distilgpt2 and are newly initialized: ['transformer.h.0.crossattention.c_attn.bias', 'transformer.h.0.crossattention.c_attn.weight', 'transformer.h.0.crossattention.c_proj.bias', 'transformer.h.0.crossattention.c_proj.weight', 'transformer.h.0.crossattention.q_attn.bias', 'transformer.h.0.crossattention.q_attn.weight', 'transformer.h.0.ln_cross_attn.bias', 'transformer.h.0.ln_cross_attn.weight', 'transformer.h.1.crossattention.c_attn.bias', 'transformer.h.1.crossattention.c_attn.weight', 'transformer.h.1.crossattention.c_proj.bias', 'transformer.h.1.crossattention.c_proj.weight', 'transformer.h.1.crossattention.q_attn.bias', 'transformer.h.1.crossattention.q_attn.weight', 'transformer.h.1.ln_cross_attn.bias', 'transformer.h.1.ln_cross_attn.weight', 'transformer.h.2.crossattention.c_attn.bias', 'transformer.h.2.crossattention.c_attn.weight', 'transformer.h.2.crossattention.c_proj.bias', 'transformer.h.2.crossattention.c_proj.weight', 'transformer.h.2.crossattention.q_attn.bias', 'transformer.h.2.crossattention.q_attn.weight', 'transformer.h.2.ln_cross_attn.bias', 'transformer.h.2.ln_cross_attn.weight', 'transformer.h.3.crossattention.c_attn.bias', 'transformer.h.3.crossattention.c_attn.weight', 'transformer.h.3.crossattention.c_proj.bias', 'transformer.h.3.crossattention.c_proj.weight', 'transformer.h.3.crossattention.q_attn.bias', 'transformer.h.3.crossattention.q_attn.weight', 'transformer.h.3.ln_cross_attn.bias', 'transformer.h.3.ln_cross_attn.weight', 'transformer.h.4.crossattention.c_attn.bias', 'transformer.h.4.crossattention.c_attn.weight', 'transformer.h.4.crossattention.c_proj.bias', 'transformer.h.4.crossattention.c_proj.weight', 'transformer.h.4.crossattention.q_attn.bias', 'transformer.h.4.crossattention.q_attn.weight', 'transformer.h.4.ln_cross_attn.bias', 'transformer.h.4.ln_cross_attn.weight', 'transformer.h.5.crossattention.c_attn.bias', 'transformer.h.5.crossattention.c_attn.weight', 'transformer.h.5.crossattention.c_proj.bias', 'transformer.h.5.crossattention.c_proj.weight', 'transformer.h.5.crossattention.q_attn.bias', 'transformer.h.5.crossattention.q_attn.weight', 'transformer.h.5.ln_cross_attn.bias', 'transformer.h.5.ln_cross_attn.weight']\n",
      "You should probably TRAIN this model on a down-stream task to be able to use it for predictions and inference.\n"
     ]
    },
    {
     "data": {
      "application/vnd.jupyter.widget-view+json": {
       "model_id": "6e6f03c584af4bd4908aede1b24d0fc5",
       "version_major": 2,
       "version_minor": 0
      },
      "text/plain": [
       "generation_config.json:   0%|          | 0.00/124 [00:00<?, ?B/s]"
      ]
     },
     "metadata": {},
     "output_type": "display_data"
    },
    {
     "data": {
      "application/vnd.jupyter.widget-view+json": {
       "model_id": "3a4ad9e710654d2981a48d0b2ef9bfa2",
       "version_major": 2,
       "version_minor": 0
      },
      "text/plain": [
       "tokenizer_config.json:   0%|          | 0.00/26.0 [00:00<?, ?B/s]"
      ]
     },
     "metadata": {},
     "output_type": "display_data"
    },
    {
     "data": {
      "application/vnd.jupyter.widget-view+json": {
       "model_id": "fc8a00a0c6924bdb806355229433337f",
       "version_major": 2,
       "version_minor": 0
      },
      "text/plain": [
       "vocab.json:   0%|          | 0.00/1.04M [00:00<?, ?B/s]"
      ]
     },
     "metadata": {},
     "output_type": "display_data"
    },
    {
     "data": {
      "application/vnd.jupyter.widget-view+json": {
       "model_id": "2f5f6634ec8f413b97a21f44431c53fa",
       "version_major": 2,
       "version_minor": 0
      },
      "text/plain": [
       "merges.txt:   0%|          | 0.00/456k [00:00<?, ?B/s]"
      ]
     },
     "metadata": {},
     "output_type": "display_data"
    },
    {
     "data": {
      "application/vnd.jupyter.widget-view+json": {
       "model_id": "ab562c5169c947f48939d36c8f252d94",
       "version_major": 2,
       "version_minor": 0
      },
      "text/plain": [
       "tokenizer.json:   0%|          | 0.00/1.36M [00:00<?, ?B/s]"
      ]
     },
     "metadata": {},
     "output_type": "display_data"
    }
   ],
   "source": [
    "vit_name = \"WinKawaks/vit-tiny-patch16-224\"  \n",
    "image_processor = AutoImageProcessor.from_pretrained(vit_name)\n",
    "vit_encoder = ViTModel.from_pretrained(vit_name)\n",
    "\n",
    "# GPT-2 small with cross-attention enabled to accept encoder outputs\n",
    "gpt2_cfg = GPT2Config.from_pretrained(\"distilgpt2\")\n",
    "gpt2_cfg.add_cross_attention = True            # enable cross-attn safely\n",
    "text_decoder = GPT2LMHeadModel.from_pretrained(\"distilgpt2\", config=gpt2_cfg)\n",
    "tokenizer = AutoTokenizer.from_pretrained(\"distilgpt2\")\n",
    "if tokenizer.pad_token is None:\n",
    "    tokenizer.pad_token = tokenizer.eos_token"
   ]
  },
  {
   "cell_type": "code",
   "execution_count": 6,
   "metadata": {
    "execution": {
     "iopub.execute_input": "2025-08-09T14:53:41.960629Z",
     "iopub.status.busy": "2025-08-09T14:53:41.960347Z",
     "iopub.status.idle": "2025-08-09T14:53:41.966136Z",
     "shell.execute_reply": "2025-08-09T14:53:41.965081Z",
     "shell.execute_reply.started": "2025-08-09T14:53:41.960604Z"
    },
    "trusted": true
   },
   "outputs": [],
   "source": [
    "# Simple projection from ViT encoder hidden dim to GPT-2 hidden dim\n",
    "enc_dim = vit_encoder.config.hidden_size\n",
    "dec_dim = text_decoder.config.n_embd\n",
    "proj = nn.Linear(enc_dim, dec_dim)"
   ]
  },
  {
   "cell_type": "code",
   "execution_count": null,
   "metadata": {
    "trusted": true
   },
   "outputs": [],
   "source": []
  },
  {
   "cell_type": "code",
   "execution_count": null,
   "metadata": {
    "execution": {
     "iopub.execute_input": "2025-08-09T14:53:41.967658Z",
     "iopub.status.busy": "2025-08-09T14:53:41.966991Z",
     "iopub.status.idle": "2025-08-09T14:53:41.982588Z",
     "shell.execute_reply": "2025-08-09T14:53:41.981845Z",
     "shell.execute_reply.started": "2025-08-09T14:53:41.967631Z"
    },
    "trusted": true
   },
   "outputs": [],
   "source": [
    "# main model\n",
    "class VisionTextModel(nn.Module):\n",
    "    def __init__(self,vit,proj,gpt2):\n",
    "        super().__init__() \n",
    "        self.vit = vit\n",
    "        self.proj = proj\n",
    "        self.gpt2 = gpt2\n",
    "\n",
    "    def forward(self, pixel_values, input_ids, attention_mask, labels=None):\n",
    "\n",
    "        vit_out = self.vit(pixel_values=pixel_values)\n",
    "        gpt_in = self.proj(vit_out.last_hidden_state)\n",
    "\n",
    "        outputs = self.gpt2(\n",
    "            input_ids=input_ids,\n",
    "            attention_mask=attention_mask,\n",
    "            encoder_hidden_states=gpt_in,\n",
    "            encoder_attention_mask=torch.ones(gpt_in.size()[:-1], dtype=torch.long, device=gpt_in.device),\n",
    "            labels=labels\n",
    "        )\n",
    "        return outputs"
   ]
  },
  {
   "cell_type": "code",
   "execution_count": 8,
   "metadata": {
    "execution": {
     "iopub.execute_input": "2025-08-09T05:00:40.756408Z",
     "iopub.status.busy": "2025-08-09T05:00:40.756087Z",
     "iopub.status.idle": "2025-08-09T05:00:41.121210Z",
     "shell.execute_reply": "2025-08-09T05:00:41.120468Z",
     "shell.execute_reply.started": "2025-08-09T05:00:40.756382Z"
    },
    "trusted": true
   },
   "outputs": [
    {
     "data": {
      "text/plain": [
       "DataParallel(\n",
       "  (module): VisionTextModel(\n",
       "    (vit): ViTModel(\n",
       "      (embeddings): ViTEmbeddings(\n",
       "        (patch_embeddings): ViTPatchEmbeddings(\n",
       "          (projection): Conv2d(3, 192, kernel_size=(16, 16), stride=(16, 16))\n",
       "        )\n",
       "        (dropout): Dropout(p=0.0, inplace=False)\n",
       "      )\n",
       "      (encoder): ViTEncoder(\n",
       "        (layer): ModuleList(\n",
       "          (0-11): 12 x ViTLayer(\n",
       "            (attention): ViTAttention(\n",
       "              (attention): ViTSelfAttention(\n",
       "                (query): Linear(in_features=192, out_features=192, bias=True)\n",
       "                (key): Linear(in_features=192, out_features=192, bias=True)\n",
       "                (value): Linear(in_features=192, out_features=192, bias=True)\n",
       "              )\n",
       "              (output): ViTSelfOutput(\n",
       "                (dense): Linear(in_features=192, out_features=192, bias=True)\n",
       "                (dropout): Dropout(p=0.0, inplace=False)\n",
       "              )\n",
       "            )\n",
       "            (intermediate): ViTIntermediate(\n",
       "              (dense): Linear(in_features=192, out_features=768, bias=True)\n",
       "              (intermediate_act_fn): GELUActivation()\n",
       "            )\n",
       "            (output): ViTOutput(\n",
       "              (dense): Linear(in_features=768, out_features=192, bias=True)\n",
       "              (dropout): Dropout(p=0.0, inplace=False)\n",
       "            )\n",
       "            (layernorm_before): LayerNorm((192,), eps=1e-12, elementwise_affine=True)\n",
       "            (layernorm_after): LayerNorm((192,), eps=1e-12, elementwise_affine=True)\n",
       "          )\n",
       "        )\n",
       "      )\n",
       "      (layernorm): LayerNorm((192,), eps=1e-12, elementwise_affine=True)\n",
       "      (pooler): ViTPooler(\n",
       "        (dense): Linear(in_features=192, out_features=192, bias=True)\n",
       "        (activation): Tanh()\n",
       "      )\n",
       "    )\n",
       "    (proj): Linear(in_features=192, out_features=768, bias=True)\n",
       "    (gpt2): GPT2LMHeadModel(\n",
       "      (transformer): GPT2Model(\n",
       "        (wte): Embedding(50257, 768)\n",
       "        (wpe): Embedding(1024, 768)\n",
       "        (drop): Dropout(p=0.1, inplace=False)\n",
       "        (h): ModuleList(\n",
       "          (0-5): 6 x GPT2Block(\n",
       "            (ln_1): LayerNorm((768,), eps=1e-05, elementwise_affine=True)\n",
       "            (attn): GPT2Attention(\n",
       "              (c_attn): Conv1D(nf=2304, nx=768)\n",
       "              (c_proj): Conv1D(nf=768, nx=768)\n",
       "              (attn_dropout): Dropout(p=0.1, inplace=False)\n",
       "              (resid_dropout): Dropout(p=0.1, inplace=False)\n",
       "            )\n",
       "            (ln_2): LayerNorm((768,), eps=1e-05, elementwise_affine=True)\n",
       "            (crossattention): GPT2Attention(\n",
       "              (c_attn): Conv1D(nf=1536, nx=768)\n",
       "              (q_attn): Conv1D(nf=768, nx=768)\n",
       "              (c_proj): Conv1D(nf=768, nx=768)\n",
       "              (attn_dropout): Dropout(p=0.1, inplace=False)\n",
       "              (resid_dropout): Dropout(p=0.1, inplace=False)\n",
       "            )\n",
       "            (ln_cross_attn): LayerNorm((768,), eps=1e-05, elementwise_affine=True)\n",
       "            (mlp): GPT2MLP(\n",
       "              (c_fc): Conv1D(nf=3072, nx=768)\n",
       "              (c_proj): Conv1D(nf=768, nx=3072)\n",
       "              (act): NewGELUActivation()\n",
       "              (dropout): Dropout(p=0.1, inplace=False)\n",
       "            )\n",
       "          )\n",
       "        )\n",
       "        (ln_f): LayerNorm((768,), eps=1e-05, elementwise_affine=True)\n",
       "      )\n",
       "      (lm_head): Linear(in_features=768, out_features=50257, bias=False)\n",
       "    )\n",
       "  )\n",
       ")"
      ]
     },
     "execution_count": 8,
     "metadata": {},
     "output_type": "execute_result"
    }
   ],
   "source": [
    "device = \"cuda\" if torch.cuda.is_available() else \"cpu\"\n",
    "model = VisionTextModel(vit_encoder, proj, text_decoder).to(device)\n",
    "model.gpt2.gradient_checkpointing_enable()\n",
    "model.vit.gradient_checkpointing_enable()\n",
    "model.gpt2.config.use_cache = False\n",
    "model = nn.DataParallel(model)\n",
    "model"
   ]
  },
  {
   "cell_type": "code",
   "execution_count": null,
   "metadata": {
    "execution": {
     "iopub.execute_input": "2025-08-09T14:53:46.570925Z",
     "iopub.status.busy": "2025-08-09T14:53:46.570724Z",
     "iopub.status.idle": "2025-08-09T14:53:48.501790Z",
     "shell.execute_reply": "2025-08-09T14:53:48.500984Z",
     "shell.execute_reply.started": "2025-08-09T14:53:46.570910Z"
    },
    "trusted": true
   },
   "outputs": [],
   "source": [
    "enc = tokenizer(\n",
    "    cleaned_reports,\n",
    "    max_length=384,\n",
    "    padding=\"max_length\",\n",
    "    truncation=True,\n",
    "    return_tensors=\"pt\"\n",
    ")\n",
    "input_ids = enc[\"input_ids\"]          \n",
    "attention_mask = enc[\"attention_mask\"] \n",
    "labels = input_ids.clone()\n",
    "labels[attention_mask == 0] = -100"
   ]
  },
  {
   "cell_type": "code",
   "execution_count": null,
   "metadata": {
    "trusted": true
   },
   "outputs": [],
   "source": []
  },
  {
   "cell_type": "code",
   "execution_count": 15,
   "metadata": {
    "execution": {
     "iopub.execute_input": "2025-08-09T14:56:23.632023Z",
     "iopub.status.busy": "2025-08-09T14:56:23.631751Z",
     "iopub.status.idle": "2025-08-09T14:56:23.636138Z",
     "shell.execute_reply": "2025-08-09T14:56:23.635492Z",
     "shell.execute_reply.started": "2025-08-09T14:56:23.632002Z"
    },
    "trusted": true
   },
   "outputs": [],
   "source": [
    "epochs = 15\n",
    "lr = 2e-5\n",
    "weight_decay = 0.02\n",
    "batch_size = 32  \n",
    "grad_accum_steps = 2\n",
    "use_fp16 = True\n",
    "max_grad_norm = 1.0"
   ]
  },
  {
   "cell_type": "code",
   "execution_count": 16,
   "metadata": {
    "execution": {
     "iopub.execute_input": "2025-08-09T14:56:23.838056Z",
     "iopub.status.busy": "2025-08-09T14:56:23.837801Z",
     "iopub.status.idle": "2025-08-09T14:56:23.843298Z",
     "shell.execute_reply": "2025-08-09T14:56:23.842661Z",
     "shell.execute_reply.started": "2025-08-09T14:56:23.838034Z"
    },
    "trusted": true
   },
   "outputs": [],
   "source": [
    "dataset = TensorDataset(imgs, input_ids, attention_mask, labels)\n",
    "train_ds, test_ds = random_split(dataset, [0.8, 0.2], generator=torch.Generator().manual_seed(42))\n",
    "train_loader,test_loader = DataLoader(train_ds,batch_size=batch_size,shuffle=True),DataLoader(test_ds,batch_size=batch_size,shuffle=False)"
   ]
  },
  {
   "cell_type": "code",
   "execution_count": null,
   "metadata": {
    "execution": {
     "iopub.execute_input": "2025-08-09T03:15:02.809324Z",
     "iopub.status.busy": "2025-08-09T03:15:02.808684Z",
     "iopub.status.idle": "2025-08-09T03:15:02.823330Z",
     "shell.execute_reply": "2025-08-09T03:15:02.822495Z",
     "shell.execute_reply.started": "2025-08-09T03:15:02.809297Z"
    },
    "trusted": true
   },
   "outputs": [
    {
     "name": "stderr",
     "output_type": "stream",
     "text": [
      "/tmp/ipykernel_36/2926929195.py:10: FutureWarning: `torch.cuda.amp.GradScaler(args...)` is deprecated. Please use `torch.amp.GradScaler('cuda', args...)` instead.\n",
      "  scaler = torch.cuda.amp.GradScaler(enabled=use_fp16)\n"
     ]
    }
   ],
   "source": [
    "no_decay = [\"bias\", \"LayerNorm.weight\", \"layer_norm.weight\"] # its a good practice to not apply weight decay or l2 regularization to bias and layernorm layers for stable training.\n",
    "param_groups = [\n",
    "    {\"params\": [p for n, p in model.named_parameters() if not any(nd in n for nd in no_decay)],\n",
    "     \"weight_decay\": weight_decay},\n",
    "    {\"params\": [p for n, p in model.named_parameters() if any(nd in n for nd in no_decay)],\n",
    "     \"weight_decay\": 0.0},\n",
    "]\n",
    "optimizer = torch.optim.AdamW(param_groups, lr=lr)\n",
    "\n",
    "scaler = torch.cuda.amp.GradScaler(enabled=use_fp16)"
   ]
  },
  {
   "cell_type": "code",
   "execution_count": null,
   "metadata": {
    "execution": {
     "iopub.execute_input": "2025-08-09T03:15:03.387639Z",
     "iopub.status.busy": "2025-08-09T03:15:03.386719Z",
     "iopub.status.idle": "2025-08-09T03:15:03.392190Z",
     "shell.execute_reply": "2025-08-09T03:15:03.391316Z",
     "shell.execute_reply.started": "2025-08-09T03:15:03.387611Z"
    },
    "trusted": true
   },
   "outputs": [],
   "source": [
    "for p in model.module.vit.parameters():# freeze the encoder\n",
    "    p.requires_grad=False"
   ]
  },
  {
   "cell_type": "code",
   "execution_count": null,
   "metadata": {
    "execution": {
     "iopub.execute_input": "2025-08-09T03:15:20.968566Z",
     "iopub.status.busy": "2025-08-09T03:15:20.967880Z",
     "iopub.status.idle": "2025-08-09T04:40:14.815218Z",
     "shell.execute_reply": "2025-08-09T04:40:14.814636Z",
     "shell.execute_reply.started": "2025-08-09T03:15:20.968532Z"
    },
    "trusted": true
   },
   "outputs": [
    {
     "name": "stderr",
     "output_type": "stream",
     "text": [
      "Train 1:   0%|          | 0/236 [00:00<?, ?it/s]/usr/local/lib/python3.11/dist-packages/torch/utils/checkpoint.py:87: UserWarning: None of the inputs have requires_grad=True. Gradients will be None\n",
      "  warnings.warn(\n",
      "`loss_type=None` was set in the config but it is unrecognised.Using the default loss: `ForCausalLMLoss`.\n",
      "`loss_type=None` was set in the config but it is unrecognised.Using the default loss: `ForCausalLMLoss`.\n",
      "/usr/local/lib/python3.11/dist-packages/torch/nn/parallel/_functions.py:70: UserWarning: Was asked to gather along dimension 0, but all input tensors were scalars; will instead unsqueeze and return a vector.\n",
      "  warnings.warn(\n",
      "                                                          \r"
     ]
    },
    {
     "name": "stdout",
     "output_type": "stream",
     "text": [
      "Epoch 1 done | avg_train_loss=3.3294 | avg_test_loss=2.4118\n",
      "Saved improved checkpoint to /kaggle/working/epoch_001.pt (eval_loss=2.4118)\n",
      "Updated best checkpoint: /kaggle/working/best.pt (eval_loss=2.4118)\n"
     ]
    },
    {
     "name": "stderr",
     "output_type": "stream",
     "text": [
      "                                                          \r"
     ]
    },
    {
     "name": "stdout",
     "output_type": "stream",
     "text": [
      "Epoch 2 done | avg_train_loss=2.4431 | avg_test_loss=2.1230\n",
      "Saved improved checkpoint to /kaggle/working/epoch_002.pt (eval_loss=2.1230)\n",
      "Updated best checkpoint: /kaggle/working/best.pt (eval_loss=2.1230)\n"
     ]
    },
    {
     "name": "stderr",
     "output_type": "stream",
     "text": [
      "                                                          \r"
     ]
    },
    {
     "name": "stdout",
     "output_type": "stream",
     "text": [
      "Epoch 3 done | avg_train_loss=2.2110 | avg_test_loss=1.9783\n",
      "Saved improved checkpoint to /kaggle/working/epoch_003.pt (eval_loss=1.9783)\n",
      "Updated best checkpoint: /kaggle/working/best.pt (eval_loss=1.9783)\n"
     ]
    },
    {
     "name": "stderr",
     "output_type": "stream",
     "text": [
      "                                                          \r"
     ]
    },
    {
     "name": "stdout",
     "output_type": "stream",
     "text": [
      "Epoch 4 done | avg_train_loss=2.0736 | avg_test_loss=1.8994\n",
      "Saved improved checkpoint to /kaggle/working/epoch_004.pt (eval_loss=1.8994)\n",
      "Removed old improved checkpoint: epoch_001.pt\n",
      "Updated best checkpoint: /kaggle/working/best.pt (eval_loss=1.8994)\n"
     ]
    },
    {
     "name": "stderr",
     "output_type": "stream",
     "text": [
      "                                                          \r"
     ]
    },
    {
     "name": "stdout",
     "output_type": "stream",
     "text": [
      "Epoch 5 done | avg_train_loss=1.9596 | avg_test_loss=1.8345\n",
      "Saved improved checkpoint to /kaggle/working/epoch_005.pt (eval_loss=1.8345)\n",
      "Removed old improved checkpoint: epoch_002.pt\n",
      "Updated best checkpoint: /kaggle/working/best.pt (eval_loss=1.8345)\n"
     ]
    },
    {
     "name": "stderr",
     "output_type": "stream",
     "text": [
      "                                                          \r"
     ]
    },
    {
     "name": "stdout",
     "output_type": "stream",
     "text": [
      "Epoch 6 done | avg_train_loss=1.8776 | avg_test_loss=1.7899\n",
      "Saved improved checkpoint to /kaggle/working/epoch_006.pt (eval_loss=1.7899)\n",
      "Removed old improved checkpoint: epoch_003.pt\n",
      "Updated best checkpoint: /kaggle/working/best.pt (eval_loss=1.7899)\n"
     ]
    },
    {
     "name": "stderr",
     "output_type": "stream",
     "text": [
      "                                                          \r"
     ]
    },
    {
     "name": "stdout",
     "output_type": "stream",
     "text": [
      "Epoch 7 done | avg_train_loss=1.8136 | avg_test_loss=1.7560\n",
      "Saved improved checkpoint to /kaggle/working/epoch_007.pt (eval_loss=1.7560)\n",
      "Removed old improved checkpoint: epoch_004.pt\n",
      "Updated best checkpoint: /kaggle/working/best.pt (eval_loss=1.7560)\n"
     ]
    },
    {
     "name": "stderr",
     "output_type": "stream",
     "text": [
      "                                                          \r"
     ]
    },
    {
     "name": "stdout",
     "output_type": "stream",
     "text": [
      "Epoch 8 done | avg_train_loss=1.7448 | avg_test_loss=1.7333\n",
      "Saved improved checkpoint to /kaggle/working/epoch_008.pt (eval_loss=1.7333)\n",
      "Removed old improved checkpoint: epoch_005.pt\n",
      "Updated best checkpoint: /kaggle/working/best.pt (eval_loss=1.7333)\n"
     ]
    },
    {
     "name": "stderr",
     "output_type": "stream",
     "text": [
      "                                                          \r"
     ]
    },
    {
     "name": "stdout",
     "output_type": "stream",
     "text": [
      "Epoch 9 done | avg_train_loss=1.6815 | avg_test_loss=1.7098\n",
      "Saved improved checkpoint to /kaggle/working/epoch_009.pt (eval_loss=1.7098)\n",
      "Removed old improved checkpoint: epoch_006.pt\n",
      "Updated best checkpoint: /kaggle/working/best.pt (eval_loss=1.7098)\n"
     ]
    },
    {
     "name": "stderr",
     "output_type": "stream",
     "text": [
      "                                                           \r"
     ]
    },
    {
     "name": "stdout",
     "output_type": "stream",
     "text": [
      "Epoch 10 done | avg_train_loss=1.6358 | avg_test_loss=1.6879\n",
      "Saved improved checkpoint to /kaggle/working/epoch_010.pt (eval_loss=1.6879)\n",
      "Removed old improved checkpoint: epoch_007.pt\n",
      "Updated best checkpoint: /kaggle/working/best.pt (eval_loss=1.6879)\n"
     ]
    },
    {
     "name": "stderr",
     "output_type": "stream",
     "text": [
      "                                                           \r"
     ]
    },
    {
     "name": "stdout",
     "output_type": "stream",
     "text": [
      "Epoch 11 done | avg_train_loss=1.5890 | avg_test_loss=1.6741\n",
      "Saved improved checkpoint to /kaggle/working/epoch_011.pt (eval_loss=1.6741)\n",
      "Removed old improved checkpoint: epoch_008.pt\n",
      "Updated best checkpoint: /kaggle/working/best.pt (eval_loss=1.6741)\n"
     ]
    },
    {
     "name": "stderr",
     "output_type": "stream",
     "text": [
      "                                                           \r"
     ]
    },
    {
     "name": "stdout",
     "output_type": "stream",
     "text": [
      "Epoch 12 done | avg_train_loss=1.5491 | avg_test_loss=1.6744\n",
      "No improvement (eval_loss=1.6744 >= best=1.6741), skipping save\n"
     ]
    },
    {
     "name": "stderr",
     "output_type": "stream",
     "text": [
      "                                                           \r"
     ]
    },
    {
     "name": "stdout",
     "output_type": "stream",
     "text": [
      "Epoch 13 done | avg_train_loss=1.5006 | avg_test_loss=1.6661\n",
      "Saved improved checkpoint to /kaggle/working/epoch_013.pt (eval_loss=1.6661)\n",
      "Removed old improved checkpoint: epoch_009.pt\n",
      "Updated best checkpoint: /kaggle/working/best.pt (eval_loss=1.6661)\n"
     ]
    },
    {
     "name": "stderr",
     "output_type": "stream",
     "text": [
      "                                                           \r"
     ]
    },
    {
     "name": "stdout",
     "output_type": "stream",
     "text": [
      "Epoch 14 done | avg_train_loss=1.4637 | avg_test_loss=1.6574\n",
      "Saved improved checkpoint to /kaggle/working/epoch_014.pt (eval_loss=1.6574)\n",
      "Removed old improved checkpoint: epoch_010.pt\n",
      "Updated best checkpoint: /kaggle/working/best.pt (eval_loss=1.6574)\n"
     ]
    },
    {
     "name": "stderr",
     "output_type": "stream",
     "text": [
      "                                                           \r"
     ]
    },
    {
     "name": "stdout",
     "output_type": "stream",
     "text": [
      "Epoch 15 done | avg_train_loss=1.4224 | avg_test_loss=1.6603\n",
      "No improvement (eval_loss=1.6603 >= best=1.6574), skipping save\n",
      "Training complete.\n",
      "Saved loss plot to /kaggle/working/loss_curve.png\n"
     ]
    },
    {
     "data": {
      "image/png": "[encoded data removed]",
      "text/plain": [
       "<Figure size 600x400 with 1 Axes>"
      ]
     },
     "metadata": {},
     "output_type": "display_data"
    }
   ],
   "source": [
    "import tqdm as tqdm\n",
    "import glob\n",
    "ckpt_dir = \"/kaggle/working/\"\n",
    "os.makedirs(ckpt_dir, exist_ok=True)\n",
    "\n",
    "train_losses = []\n",
    "eval_losses = []\n",
    "\n",
    "best_eval_loss = math.inf\n",
    "best_ckpt_path = None\n",
    "\n",
    "for epoch in range(epochs):\n",
    "    model.train()\n",
    "    running_loss = 0.0\n",
    "\n",
    "    for step, batch in tqdm.tqdm(\n",
    "        enumerate(train_loader, start=1),\n",
    "        total=len(train_loader),\n",
    "        leave=False,\n",
    "        desc=f\"Train {epoch+1}\"\n",
    "    ):\n",
    "        img, input_ids, attention_mask, labels = batch\n",
    "        img = img.to(device, non_blocking=True)\n",
    "        input_ids = input_ids.to(device, non_blocking=True)\n",
    "        attention_mask = attention_mask.to(device, non_blocking=True)\n",
    "        labels = labels.to(device, non_blocking=True)\n",
    "\n",
    "        with torch.amp.autocast(device_type=\"cuda\",enabled=use_fp16): # mixed precision training for faster training\n",
    "            outputs = model(\n",
    "                pixel_values=img,\n",
    "                input_ids=input_ids,\n",
    "                attention_mask=attention_mask,\n",
    "                labels=labels,\n",
    "            )\n",
    "            loss = outputs.loss\n",
    "            if loss.dim() > 0:\n",
    "                loss = loss.mean()\n",
    "            loss = loss / grad_accum_steps\n",
    "\n",
    "        scaler.scale(loss).backward()\n",
    "        running_loss += loss.item() * grad_accum_steps\n",
    "\n",
    "        if step % grad_accum_steps == 0:# Graadient accumulation to effectively use large batch size on small GPUs\n",
    "            scaler.unscale_(optimizer)\n",
    "            torch.nn.utils.clip_grad_norm_(model.parameters(), max_grad_norm)\n",
    "            scaler.step(optimizer)\n",
    "            scaler.update()\n",
    "            optimizer.zero_grad(set_to_none=True)\n",
    "\n",
    "        \n",
    "    epoch_train_loss = running_loss / max(1, len(train_loader))\n",
    "    train_losses.append(epoch_train_loss)\n",
    "\n",
    "    model.eval()\n",
    "    test_running_loss = 0.0\n",
    "    test_batches = 0\n",
    "    with torch.no_grad():\n",
    "        for batch in tqdm.tqdm(\n",
    "            test_loader,\n",
    "            total=len(test_loader),\n",
    "            leave=False,\n",
    "            desc=f\"Eval {epoch+1}\"\n",
    "        ):\n",
    "            img, input_ids, attention_mask, labels = batch\n",
    "            img = img.to(device, non_blocking=True)\n",
    "            input_ids = input_ids.to(device, non_blocking=True)\n",
    "            attention_mask = attention_mask.to(device, non_blocking=True)\n",
    "            labels = labels.to(device, non_blocking=True)\n",
    "\n",
    "            with torch.amp.autocast(device_type=\"cuda\",enabled=use_fp16):\n",
    "                outputs = model(\n",
    "                    pixel_values=img,\n",
    "                    input_ids=input_ids,\n",
    "                    attention_mask=attention_mask,\n",
    "                    labels=labels,\n",
    "                )\n",
    "                loss = outputs.loss\n",
    "                if loss.dim() > 0:\n",
    "                    loss = loss.mean()\n",
    "\n",
    "            test_running_loss += loss.item()\n",
    "            test_batches += 1\n",
    "\n",
    "    epoch_test_loss = test_running_loss / max(1, test_batches)\n",
    "    eval_losses.append(epoch_test_loss)\n",
    "\n",
    "    print(f\"Epoch {epoch+1} done | avg_train_loss={epoch_train_loss:.4f} | avg_test_loss={epoch_test_loss:.4f}\")\n",
    "\n",
    "    if epoch_test_loss < best_eval_loss:\n",
    "        # Update best eval loss\n",
    "        best_eval_loss = epoch_test_loss\n",
    "        \n",
    "        # Save the improved model\n",
    "        ckpt_path = os.path.join(ckpt_dir, f\"epoch_{epoch+1:03d}.pt\")\n",
    "        save_obj = {\n",
    "            \"epoch\": epoch + 1,\n",
    "            \"model_state_dict\": model.state_dict(),\n",
    "            \"optimizer_state_dict\": optimizer.state_dict(),\n",
    "            \"scaler_state_dict\": scaler.state_dict(),\n",
    "            \"avg_train_loss\": epoch_train_loss,\n",
    "            \"avg_eval_loss\": epoch_test_loss,\n",
    "            \"grad_accum_steps\": grad_accum_steps,\n",
    "            \"max_grad_norm\": max_grad_norm,\n",
    "            \"use_fp16\": use_fp16,\n",
    "        }\n",
    "        torch.save(save_obj, ckpt_path)\n",
    "        print(f\"Saved improved checkpoint to {ckpt_path} (eval_loss={epoch_test_loss:.4f})\")\n",
    "        \n",
    "        # Keep only latest 3 improved checkpoints\n",
    "        checkpoint_pattern = os.path.join(ckpt_dir, \"epoch_*.pt\")\n",
    "        checkpoint_files = glob.glob(checkpoint_pattern)\n",
    "        \n",
    "        if len(checkpoint_files) > 3:  \n",
    "            # Sort by modification time (newest first)\n",
    "            checkpoint_files.sort(key=os.path.getmtime, reverse=True)\n",
    "            \n",
    "            # Remove old checkpoints (keep only the latest 3)\n",
    "            old_checkpoints = checkpoint_files[3:]\n",
    "            \n",
    "            for old_ckpt in old_checkpoints:\n",
    "                try:\n",
    "                    os.remove(old_ckpt)\n",
    "                    print(f\"Removed old improved checkpoint: {os.path.basename(old_ckpt)}\")\n",
    "                except Exception as e:\n",
    "                    print(f\"Error removing {os.path.basename(old_ckpt)}: {e}\")\n",
    "        \n",
    "        # Also save as best.pt (the most recent improvement)\n",
    "        best_ckpt_path = os.path.join(ckpt_dir, \"best.pt\")\n",
    "        torch.save(save_obj, best_ckpt_path)\n",
    "        print(f\"Updated best checkpoint: {best_ckpt_path} (eval_loss={best_eval_loss:.4f})\")\n",
    "        \n",
    "    else:\n",
    "        print(f\"No improvement (eval_loss={epoch_test_loss:.4f} >= best={best_eval_loss:.4f}), skipping save\")\n",
    "    \n",
    "print(\"Training complete.\")\n",
    "    \n",
    "\n",
    "plt.figure(figsize=(6,4))\n",
    "plt.plot(range(1, len(train_losses)+1), train_losses, label=\"Train loss\")\n",
    "plt.plot(range(1, len(eval_losses)+1), eval_losses, label=\"Eval loss\")\n",
    "plt.xlabel(\"Epoch\")\n",
    "plt.ylabel(\"Loss\")\n",
    "plt.title(\"Training/Eval Loss\")\n",
    "plt.legend()\n",
    "plt.grid(True, alpha=0.3)\n",
    "plot_path = \"/kaggle/working/loss_curve.png\"\n",
    "plt.savefig(plot_path, bbox_inches=\"tight\", dpi=150)\n",
    "print(f\"Saved loss plot to {plot_path}\")\n"
   ]
  },
  {
   "cell_type": "code",
   "execution_count": null,
   "metadata": {
    "trusted": true
   },
   "outputs": [],
   "source": []
  },
  {
   "cell_type": "code",
   "execution_count": null,
   "metadata": {
    "trusted": true
   },
   "outputs": [],
   "source": []
  },
  {
   "cell_type": "code",
   "execution_count": null,
   "metadata": {
    "execution": {
     "iopub.execute_input": "2025-08-09T06:44:59.719072Z",
     "iopub.status.busy": "2025-08-09T06:44:59.718145Z",
     "iopub.status.idle": "2025-08-09T06:45:01.424511Z",
     "shell.execute_reply": "2025-08-09T06:45:01.423645Z",
     "shell.execute_reply.started": "2025-08-09T06:44:59.719046Z"
    },
    "trusted": true
   },
   "outputs": [
    {
     "name": "stderr",
     "output_type": "stream",
     "text": [
      "The attention mask is not set and cannot be inferred from input because pad token is same as eos token. As a consequence, you may observe unexpected behavior. Please pass your input's `attention_mask` to obtain reliable results.\n"
     ]
    },
    {
     "name": "stdout",
     "output_type": "stream",
     "text": [
      "\n",
      "--- SINGLE IMAGE RESULTS ---\n",
      "Predicted: changed in radiologic interpretation. The original report is unchanged from the prior examination.\" \"The heart size appears normal with no cardiomegaly or mediastinal shift observed, and there are clear lungs bilaterally consistent for acute cardiac failure (CVC). There's a small right pleural effusion on both sides\n",
      "________________________\n",
      "Ground Truth: Opacification of the left lung base is indeterminate, with a possible retrocardiac mass suggestive of a neumonadic process. Further diagnostic workup, including radiologist consultation after completion of treatment, is recommended.\n"
     ]
    }
   ],
   "source": [
    "# best_ckpt = \"/kaggle/working/best.pt\"\n",
    "# model = VisionTextModel(vit_encoder, proj, text_decoder).to(device)\n",
    "# model = nn.DataParallel(model)\n",
    "# state = torch.load(best_ckpt, map_location=device)\n",
    "# model.load_state_dict(state[\"model_state_dict\"])\n",
    "# print(f\"Loaded best checkpoint from {best_ckpt}\")\n",
    "# if tokenizer.bos_token_id is not None:\n",
    "#     model.module.gpt2.config.decoder_start_token_id = tokenizer.bos_token_id\n",
    "\n",
    "model.eval()\n",
    "with torch.no_grad():\n",
    "    batch = next(iter(test_loader))\n",
    "    img, input_ids, attention_mask, labels = batch\n",
    "    \n",
    "    image_index = 7  \n",
    "    single_img = img[image_index:image_index+1].to(device, non_blocking=True)\n",
    "    single_labels = labels[image_index:image_index+1]\n",
    "    \n",
    "    encoder_outputs = model.module.vit(pixel_values=single_img)\n",
    "    projected = model.module.proj(encoder_outputs.last_hidden_state)\n",
    "    \n",
    "    encoder_attention_mask = torch.ones(\n",
    "        projected.size()[:-1], \n",
    "        dtype=torch.long, \n",
    "        device=projected.device\n",
    "    )\n",
    "    \n",
    "    start_token = tokenizer.bos_token_id if tokenizer.bos_token_id else tokenizer.eos_token_id\n",
    "    input_ids_start = torch.full((1, 1), start_token, dtype=torch.long, device=device)\n",
    "    \n",
    "    generated_ids = model.module.gpt2.generate(\n",
    "        input_ids=input_ids_start,\n",
    "        encoder_hidden_states=projected,        \n",
    "        encoder_attention_mask=encoder_attention_mask, \n",
    "        \n",
    "        # Generation settings for quality output\n",
    "        max_new_tokens=64,\n",
    "        do_sample=True,                         \n",
    "        repetition_penalty=1.2,                # Prevent loops\n",
    "        no_repeat_ngram_size=3,               # Prevent n-gram repetition\n",
    "        pad_token_id=tokenizer.pad_token_id,\n",
    "        eos_token_id=tokenizer.eos_token_id,\n",
    "    )\n",
    "# Decode results\n",
    "labels_for_decode = single_labels.detach().clone().to('cpu')\n",
    "IGNORE_INDEX = -100\n",
    "pad_id = tokenizer.pad_token_id\n",
    "if pad_id is None:\n",
    "    pad_id = tokenizer.eos_token_id\n",
    "\n",
    "labels_for_decode[labels_for_decode == IGNORE_INDEX] = pad_id\n",
    "labels_for_decode = labels_for_decode.to(torch.long).tolist()\n",
    "label_texts = tokenizer.batch_decode(labels_for_decode, skip_special_tokens=True)\n",
    "\n",
    "pred_texts = tokenizer.batch_decode(generated_ids, skip_special_tokens=True)\n",
    "# Print result for single sample\n",
    "print(f\"\\n--- SINGLE IMAGE RESULTS ---\")\n",
    "print(f\"Predicted: {pred_texts[0]}\")\n",
    "print(\"________________________\")\n",
    "print(f\"Ground Truth: {label_texts[0]}\")\n"
   ]
  },
  {
   "cell_type": "markdown",
   "metadata": {},
   "source": [
    "Federated Learning Setup"
   ]
  },
  {
   "cell_type": "code",
   "execution_count": null,
   "metadata": {
    "execution": {
     "iopub.execute_input": "2025-08-09T14:56:39.367643Z",
     "iopub.status.busy": "2025-08-09T14:56:39.366907Z",
     "iopub.status.idle": "2025-08-09T14:56:39.371756Z",
     "shell.execute_reply": "2025-08-09T14:56:39.371232Z",
     "shell.execute_reply.started": "2025-08-09T14:56:39.367619Z"
    },
    "trusted": true
   },
   "outputs": [],
   "source": [
    "# Split the data into 2 clients\n",
    "c_train_ds,c2_train_ds = random_split(train_ds, [0.5, 0.5], generator=torch.Generator().manual_seed(42))\n",
    "c1_train_loader,c2_train_loader = DataLoader(c1_train_ds,batch_size=32, shuffle=True), DataLoader(c2_train_ds,batch_size=32, shuffle=True)"
   ]
  },
  {
   "cell_type": "code",
   "execution_count": null,
   "metadata": {
    "execution": {
     "iopub.execute_input": "2025-08-09T14:56:40.647382Z",
     "iopub.status.busy": "2025-08-09T14:56:40.646803Z",
     "iopub.status.idle": "2025-08-09T14:56:40.657789Z",
     "shell.execute_reply": "2025-08-09T14:56:40.657134Z",
     "shell.execute_reply.started": "2025-08-09T14:56:40.647357Z"
    },
    "trusted": true
   },
   "outputs": [],
   "source": [
    "def train_local_model(model, train_loader,local_optimizer, epochs=2):\n",
    " \n",
    "    for epoch in range(epochs):\n",
    "    # ---- TRAIN ----\n",
    "        model.train()\n",
    "        running_loss = 0.0\n",
    "    \n",
    "        for step, batch in tqdm.tqdm(\n",
    "            enumerate(train_loader, start=1),\n",
    "            total=len(train_loader),\n",
    "            leave=False,\n",
    "            desc=f\"Train {epoch+1}\"\n",
    "        ):\n",
    "            img, input_ids, attention_mask, labels = batch\n",
    "            img = img.to(device, non_blocking=True)\n",
    "            input_ids = input_ids.to(device, non_blocking=True)\n",
    "            attention_mask = attention_mask.to(device, non_blocking=True)\n",
    "            labels = labels.to(device, non_blocking=True)\n",
    "    \n",
    "            with torch.amp.autocast(device_type=\"cuda\",enabled=use_fp16):\n",
    "                outputs = model(\n",
    "                    pixel_values=img,\n",
    "                    input_ids=input_ids,\n",
    "                    attention_mask=attention_mask,\n",
    "                    labels=labels,\n",
    "                )\n",
    "                loss = outputs.loss\n",
    "                if loss.dim() > 0:\n",
    "                    loss = loss.mean()\n",
    "                loss = loss / grad_accum_steps\n",
    "    \n",
    "            scaler.scale(loss).backward()\n",
    "            running_loss += loss.item() * grad_accum_steps\n",
    "    \n",
    "            if step % grad_accum_steps == 0:\n",
    "                scaler.unscale_(local_optimizer)\n",
    "                torch.nn.utils.clip_grad_norm_(model.parameters(), max_grad_norm)\n",
    "                scaler.step(local_optimizer)\n",
    "                scaler.update()\n",
    "                local_optimizer.zero_grad()\n",
    "    \n",
    "        epoch_train_loss = running_loss / max(1, len(train_loader))\n",
    "    return model.state_dict(),epoch_train_loss    \n",
    "\n",
    "\n",
    "\n",
    "def evaluate(model,test_loader):\n",
    "\n",
    "    model.eval()\n",
    "    test_running_loss = 0.0\n",
    "    test_batches = 0\n",
    "    with torch.no_grad():\n",
    "        for batch in tqdm.tqdm(\n",
    "            test_loader,\n",
    "            total=len(test_loader),\n",
    "            leave=False\n",
    "        ):\n",
    "            img, input_ids, attention_mask, labels = batch\n",
    "            img = img.to(device, non_blocking=True)\n",
    "            input_ids = input_ids.to(device, non_blocking=True)\n",
    "            attention_mask = attention_mask.to(device, non_blocking=True)\n",
    "            labels = labels.to(device, non_blocking=True)\n",
    "\n",
    "            with torch.amp.autocast(device_type=\"cuda\",enabled=use_fp16):\n",
    "                outputs = model(\n",
    "                    pixel_values=img,\n",
    "                    input_ids=input_ids,\n",
    "                    attention_mask=attention_mask,\n",
    "                    labels=labels,\n",
    "                )\n",
    "                loss = outputs.loss\n",
    "                if loss.dim() > 0:\n",
    "                    loss = loss.mean()\n",
    "\n",
    "            test_running_loss += loss.item()\n",
    "            test_batches += 1\n",
    "\n",
    "    epoch_test_loss = test_running_loss / max(1, test_batches)\n",
    "    print(f\"avg_test_loss = {epoch_test_loss:.4f}\")\n",
    "    \n",
    "            \n",
    "            "
   ]
  },
  {
   "cell_type": "code",
   "execution_count": 19,
   "metadata": {
    "execution": {
     "iopub.execute_input": "2025-08-09T14:56:40.833006Z",
     "iopub.status.busy": "2025-08-09T14:56:40.832779Z",
     "iopub.status.idle": "2025-08-09T14:56:40.837260Z",
     "shell.execute_reply": "2025-08-09T14:56:40.836550Z",
     "shell.execute_reply.started": "2025-08-09T14:56:40.832989Z"
    },
    "trusted": true
   },
   "outputs": [],
   "source": [
    "def FedAvg(global_model, client_models):\n",
    "    global_dict = global_model.state_dict()\n",
    "    for k in global_dict.keys():\n",
    "        global_dict[k] = torch.stack([client_models[i][k].float() for i in range(len(client_models))], dim=0).mean(0)\n",
    "    global_model.load_state_dict(global_dict)\n",
    "    return global_model"
   ]
  },
  {
   "cell_type": "code",
   "execution_count": null,
   "metadata": {
    "execution": {
     "iopub.execute_input": "2025-08-09T14:56:43.124142Z",
     "iopub.status.busy": "2025-08-09T14:56:43.123867Z",
     "iopub.status.idle": "2025-08-09T16:21:34.386319Z",
     "shell.execute_reply": "2025-08-09T16:21:34.385467Z",
     "shell.execute_reply.started": "2025-08-09T14:56:43.124120Z"
    },
    "trusted": true
   },
   "outputs": [
    {
     "name": "stderr",
     "output_type": "stream",
     "text": [
      "/tmp/ipykernel_36/855227569.py:10: FutureWarning: `torch.cuda.amp.GradScaler(args...)` is deprecated. Please use `torch.amp.GradScaler('cuda', args...)` instead.\n",
      "  scaler = torch.cuda.amp.GradScaler(enabled=torch.cuda.is_available())\n"
     ]
    },
    {
     "name": "stdout",
     "output_type": "stream",
     "text": [
      "Total training parameters:101805696\n",
      "Round: 1\n"
     ]
    },
    {
     "name": "stderr",
     "output_type": "stream",
     "text": [
      "Train 1:   0%|          | 0/118 [00:00<?, ?it/s]`loss_type=None` was set in the config but it is unrecognised.Using the default loss: `ForCausalLMLoss`.\n",
      "`loss_type=None` was set in the config but it is unrecognised.Using the default loss: `ForCausalLMLoss`.\n",
      "/usr/local/lib/python3.11/dist-packages/torch/nn/parallel/_functions.py:70: UserWarning: Was asked to gather along dimension 0, but all input tensors were scalars; will instead unsqueeze and return a vector.\n",
      "  warnings.warn(\n",
      "                                                          \r"
     ]
    },
    {
     "name": "stdout",
     "output_type": "stream",
     "text": [
      "avg_test_loss = 2.8155\n",
      "Round: 2\n"
     ]
    },
    {
     "name": "stderr",
     "output_type": "stream",
     "text": [
      "                                                          \r"
     ]
    },
    {
     "name": "stdout",
     "output_type": "stream",
     "text": [
      "avg_test_loss = 2.3669\n",
      "Round: 3\n"
     ]
    },
    {
     "name": "stderr",
     "output_type": "stream",
     "text": [
      "                                                          \r"
     ]
    },
    {
     "name": "stdout",
     "output_type": "stream",
     "text": [
      "avg_test_loss = 2.1740\n",
      "Round: 4\n"
     ]
    },
    {
     "name": "stderr",
     "output_type": "stream",
     "text": [
      "                                                          \r"
     ]
    },
    {
     "name": "stdout",
     "output_type": "stream",
     "text": [
      "avg_test_loss = 2.0640\n",
      "Round: 5\n"
     ]
    },
    {
     "name": "stderr",
     "output_type": "stream",
     "text": [
      "                                                          \r"
     ]
    },
    {
     "name": "stdout",
     "output_type": "stream",
     "text": [
      "avg_test_loss = 1.9855\n",
      "Round: 6\n"
     ]
    },
    {
     "name": "stderr",
     "output_type": "stream",
     "text": [
      "                                                          \r"
     ]
    },
    {
     "name": "stdout",
     "output_type": "stream",
     "text": [
      "avg_test_loss = 1.9257\n",
      "Round: 7\n"
     ]
    },
    {
     "name": "stderr",
     "output_type": "stream",
     "text": [
      "                                                          \r"
     ]
    },
    {
     "name": "stdout",
     "output_type": "stream",
     "text": [
      "avg_test_loss = 1.8807\n",
      "Round: 8\n"
     ]
    },
    {
     "name": "stderr",
     "output_type": "stream",
     "text": [
      "                                                          \r"
     ]
    },
    {
     "name": "stdout",
     "output_type": "stream",
     "text": [
      "avg_test_loss = 1.8424\n",
      "Round: 9\n"
     ]
    },
    {
     "name": "stderr",
     "output_type": "stream",
     "text": [
      "                                                          \r"
     ]
    },
    {
     "name": "stdout",
     "output_type": "stream",
     "text": [
      "avg_test_loss = 1.8161\n",
      "Round: 10\n"
     ]
    },
    {
     "name": "stderr",
     "output_type": "stream",
     "text": [
      "                                                          \r"
     ]
    },
    {
     "name": "stdout",
     "output_type": "stream",
     "text": [
      "avg_test_loss = 1.7918\n",
      "Round: 11\n"
     ]
    },
    {
     "name": "stderr",
     "output_type": "stream",
     "text": [
      "                                                          \r"
     ]
    },
    {
     "name": "stdout",
     "output_type": "stream",
     "text": [
      "avg_test_loss = 1.7707\n",
      "Round: 12\n"
     ]
    },
    {
     "name": "stderr",
     "output_type": "stream",
     "text": [
      "                                                          \r"
     ]
    },
    {
     "name": "stdout",
     "output_type": "stream",
     "text": [
      "avg_test_loss = 1.7520\n",
      "Round: 13\n"
     ]
    },
    {
     "name": "stderr",
     "output_type": "stream",
     "text": [
      "                                                          \r"
     ]
    },
    {
     "name": "stdout",
     "output_type": "stream",
     "text": [
      "avg_test_loss = 1.7408\n",
      "Round: 14\n"
     ]
    },
    {
     "name": "stderr",
     "output_type": "stream",
     "text": [
      "                                                          \r"
     ]
    },
    {
     "name": "stdout",
     "output_type": "stream",
     "text": [
      "avg_test_loss = 1.7293\n",
      "Round: 15\n"
     ]
    },
    {
     "name": "stderr",
     "output_type": "stream",
     "text": [
      "                                                          \r"
     ]
    },
    {
     "name": "stdout",
     "output_type": "stream",
     "text": [
      "avg_test_loss = 1.7128\n",
      "Round: 16\n"
     ]
    },
    {
     "name": "stderr",
     "output_type": "stream",
     "text": [
      "                                                          \r"
     ]
    },
    {
     "name": "stdout",
     "output_type": "stream",
     "text": [
      "avg_test_loss = 1.7037\n",
      "Round: 17\n"
     ]
    },
    {
     "name": "stderr",
     "output_type": "stream",
     "text": [
      "                                                          \r"
     ]
    },
    {
     "name": "stdout",
     "output_type": "stream",
     "text": [
      "avg_test_loss = 1.6948\n",
      "Round: 18\n"
     ]
    },
    {
     "name": "stderr",
     "output_type": "stream",
     "text": [
      "                                                          \r"
     ]
    },
    {
     "name": "stdout",
     "output_type": "stream",
     "text": [
      "avg_test_loss = 1.6887\n",
      "Round: 19\n"
     ]
    },
    {
     "name": "stderr",
     "output_type": "stream",
     "text": [
      "                                                          \r"
     ]
    },
    {
     "name": "stdout",
     "output_type": "stream",
     "text": [
      "avg_test_loss = 1.6887\n",
      "Round: 20\n"
     ]
    },
    {
     "name": "stderr",
     "output_type": "stream",
     "text": [
      "                                                          \r"
     ]
    },
    {
     "name": "stdout",
     "output_type": "stream",
     "text": [
      "avg_test_loss = 1.6765\n",
      "Round: 21\n"
     ]
    },
    {
     "name": "stderr",
     "output_type": "stream",
     "text": [
      "                                                          \r"
     ]
    },
    {
     "name": "stdout",
     "output_type": "stream",
     "text": [
      "avg_test_loss = 1.6819\n",
      "Round: 22\n"
     ]
    },
    {
     "name": "stderr",
     "output_type": "stream",
     "text": [
      "                                                          \r"
     ]
    },
    {
     "name": "stdout",
     "output_type": "stream",
     "text": [
      "avg_test_loss = 1.6754\n",
      "Round: 23\n"
     ]
    },
    {
     "name": "stderr",
     "output_type": "stream",
     "text": [
      "                                                          \r"
     ]
    },
    {
     "name": "stdout",
     "output_type": "stream",
     "text": [
      "avg_test_loss = 1.6694\n",
      "Round: 24\n"
     ]
    },
    {
     "name": "stderr",
     "output_type": "stream",
     "text": [
      "                                                          \r"
     ]
    },
    {
     "name": "stdout",
     "output_type": "stream",
     "text": [
      "avg_test_loss = 1.6725\n",
      "Round: 25\n"
     ]
    },
    {
     "name": "stderr",
     "output_type": "stream",
     "text": [
      "                                                          \r"
     ]
    },
    {
     "name": "stdout",
     "output_type": "stream",
     "text": [
      "avg_test_loss = 1.6808\n",
      "Round: 26\n"
     ]
    },
    {
     "name": "stderr",
     "output_type": "stream",
     "text": [
      "                                                          \r"
     ]
    },
    {
     "name": "stdout",
     "output_type": "stream",
     "text": [
      "avg_test_loss = 1.6740\n",
      "Round: 27\n"
     ]
    },
    {
     "name": "stderr",
     "output_type": "stream",
     "text": [
      "                                                          \r"
     ]
    },
    {
     "name": "stdout",
     "output_type": "stream",
     "text": [
      "avg_test_loss = 1.6756\n",
      "Round: 28\n"
     ]
    },
    {
     "name": "stderr",
     "output_type": "stream",
     "text": [
      "                                                          \r"
     ]
    },
    {
     "name": "stdout",
     "output_type": "stream",
     "text": [
      "avg_test_loss = 1.6743\n",
      "Round: 29\n"
     ]
    },
    {
     "name": "stderr",
     "output_type": "stream",
     "text": [
      "                                                          \r"
     ]
    },
    {
     "name": "stdout",
     "output_type": "stream",
     "text": [
      "avg_test_loss = 1.6753\n",
      "Round: 30\n"
     ]
    },
    {
     "name": "stderr",
     "output_type": "stream",
     "text": [
      "                                                          "
     ]
    },
    {
     "name": "stdout",
     "output_type": "stream",
     "text": [
      "avg_test_loss = 1.6852\n"
     ]
    },
    {
     "name": "stderr",
     "output_type": "stream",
     "text": [
      "\r"
     ]
    }
   ],
   "source": [
    "import tqdm as tqdm\n",
    "device = \"cuda\" if torch.cuda.is_available() else \"cpu\"\n",
    "global_model = VisionTextModel(vit_encoder, proj, text_decoder).to(device)\n",
    "\n",
    "global_model = nn.DataParallel(global_model)\n",
    "\n",
    "print(f\"Total training parameters:{sum(p.numel() for p in global_model.parameters())}\")\n",
    "scaler = torch.cuda.amp.GradScaler(enabled=torch.cuda.is_available())\n",
    "for p in global_model.module.vit.parameters():\n",
    "    p.requires_grad=False \n",
    "\n",
    "clients = [c1_train_loader, c2_train_loader]\n",
    "num_clients = len(clients)\n",
    "rounds = 30\n",
    "for round_no in range(rounds):\n",
    "    print(f\"Round: {round_no+1}\")\n",
    "    client_models = []\n",
    "\n",
    "    for train_loader in clients:\n",
    "        local_model = nn.DataParallel(VisionTextModel(vit_encoder, proj, text_decoder).to(device))\n",
    "        local_model.load_state_dict(global_model.state_dict())\n",
    "\n",
    "        for p in local_model.module.vit.parameters():\n",
    "            p.requires_grad=False\n",
    "        \n",
    "        local_optimizer = torch.optim.AdamW(local_model.parameters(), lr=1e-5)\n",
    "        client_state_dict,epoch_loss = train_local_model(local_model,train_loader,local_optimizer,epochs=1)\n",
    "        client_models.append(client_state_dict)\n",
    "        del local_model \n",
    "        torch.cuda.empty_cache() \n",
    "\n",
    "    global_model = FedAvg(global_model, client_models)\n",
    "\n",
    "    evaluate(global_model,test_loader)        "
   ]
  }
 ],
 "metadata": {
  "kaggle": {
   "accelerator": "nvidiaTeslaT4",
   "dataSources": [
    {
     "datasetId": 8032115,
     "sourceId": 12708743,
     "sourceType": "datasetVersion"
    },
    {
     "isSourceIdPinned": true,
     "modelId": 423700,
     "modelInstanceId": 405792,
     "sourceId": 512619,
     "sourceType": "modelInstanceVersion"
    },
    {
     "isSourceIdPinned": true,
     "modelId": 424097,
     "modelInstanceId": 406174,
     "sourceId": 513520,
     "sourceType": "modelInstanceVersion"
    }
   ],
   "dockerImageVersionId": 31090,
   "isGpuEnabled": true,
   "isInternetEnabled": true,
   "language": "python",
   "sourceType": "notebook"
  },
  "kernelspec": {
   "display_name": "Python 3",
   "language": "python",
   "name": "python3"
  },
  "language_info": {
   "codemirror_mode": {
    "name": "ipython",
    "version": 3
   },
   "file_extension": ".py",
   "mimetype": "text/x-python",
   "name": "python",
   "nbconvert_exporter": "python",
   "pygments_lexer": "ipython3",
   "version": "3.11.13"
  }
 },
 "nbformat": 4,
 "nbformat_minor": 4
}
