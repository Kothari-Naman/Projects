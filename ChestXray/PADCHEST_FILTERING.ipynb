{
 "cells": [
  {
   "cell_type": "code",
   "execution_count": null,
   "id": "0b1015a6",
   "metadata": {},
   "outputs": [],
   "source": [
    "import pandas as pd\n",
    "# https://www.kaggle.com/datasets/seoyunje/padchest-small-dataset\n",
    "pad = pd.read_csv(r'PATH/TO/MAIN/KAGGLE/CSV/FILE.csv')"
   ]
  },
  {
   "cell_type": "code",
   "execution_count": 22,
   "id": "ae2781a7",
   "metadata": {},
   "outputs": [],
   "source": [
    "pad_pa = pad[pad.Projection=='PA']"
   ]
  },
  {
   "cell_type": "code",
   "execution_count": 21,
   "id": "8bb707fe",
   "metadata": {
    "collapsed": true
   },
   "outputs": [
    {
     "data": {
      "text/plain": [
       "(ViewPosition_DICOM\n",
       " POSTEROANTERIOR    54869\n",
       " LATERAL            24527\n",
       " PA                  8506\n",
       " LL                  3383\n",
       " ANTEROPOSTERIOR      369\n",
       " AP                   104\n",
       " OBLICUA               11\n",
       " RL                     5\n",
       " LLD                    1\n",
       " GENERICA               1\n",
       " Name: count, dtype: int64,\n",
       " Projection\n",
       " PA               91728\n",
       " L                49579\n",
       " AP_horizontal    14346\n",
       " AP                4559\n",
       " COSTAL             630\n",
       " EXCLUDE             11\n",
       " UNK                  8\n",
       " Name: count, dtype: int64)"
      ]
     },
     "execution_count": 21,
     "metadata": {},
     "output_type": "execute_result"
    }
   ],
   "source": [
    "pad.ViewPosition_DICOM.value_counts(),pad.Projection.value_counts()"
   ]
  },
  {
   "cell_type": "code",
   "execution_count": 26,
   "id": "914a0ba5",
   "metadata": {},
   "outputs": [],
   "source": [
    "df = pad_pa[['ImageID','ImageDir','Report','Labels']]"
   ]
  },
  {
   "cell_type": "code",
   "execution_count": 40,
   "id": "f0f02b58",
   "metadata": {},
   "outputs": [],
   "source": [
    "l=[]\n",
    "df = df.dropna()\n",
    "for i in range(len(df)):\n",
    "    l.append(len(df.Report.iloc[i]))"
   ]
  },
  {
   "cell_type": "code",
   "execution_count": 41,
   "id": "10266637",
   "metadata": {},
   "outputs": [],
   "source": [
    "import numpy as np\n",
    "x = np.array(l)\n"
   ]
  },
  {
   "cell_type": "code",
   "execution_count": 42,
   "id": "eadf6cb3",
   "metadata": {},
   "outputs": [
    {
     "data": {
      "text/plain": [
       "(825, 2, 81.7630904190898)"
      ]
     },
     "execution_count": 42,
     "metadata": {},
     "output_type": "execute_result"
    }
   ],
   "source": [
    "x.max(),x.min(),x.mean()"
   ]
  },
  {
   "cell_type": "code",
   "execution_count": 48,
   "id": "1a9933e3",
   "metadata": {},
   "outputs": [
    {
     "data": {
      "text/plain": [
       "[\"['normal']\",\n",
       " \"['pulmonary fibrosis', 'chronic changes', 'kyphosis', 'pseudonodule', 'ground glass pattern']\",\n",
       " \"['chronic changes']\",\n",
       " \"['laminar atelectasis', 'pleural effusion', 'apical pleural thickening', 'suture material', 'sternotomy']\",\n",
       " \"['superior mediastinal enlargement', 'aortic elongation', 'scoliosis', 'sclerotic bone lesion', 'supra aortic elongation', 'vertebral degenerative changes', 'goiter']\"]"
      ]
     },
     "execution_count": 48,
     "metadata": {},
     "output_type": "execute_result"
    }
   ],
   "source": [
    "x = df.Labels.to_list()\n",
    "x[:5]"
   ]
  },
  {
   "cell_type": "code",
   "execution_count": 75,
   "id": "d026d334",
   "metadata": {},
   "outputs": [
    {
     "data": {
      "text/plain": [
       "9496"
      ]
     },
     "execution_count": 75,
     "metadata": {},
     "output_type": "execute_result"
    }
   ],
   "source": [
    "df_1980 = pad_pa[['ImageID','ImageDir','Report','Labels']]\n",
    "df_1980 = df_1980[(pad_pa.PatientBirth>=1980)]\n",
    "len(df_1980)"
   ]
  },
  {
   "cell_type": "code",
   "execution_count": null,
   "id": "8cf84b9b",
   "metadata": {},
   "outputs": [],
   "source": [
    "df_1980.to_csv(r'SAVE/PATH/FILTERED.csv',index=False)"
   ]
  },
  {
   "cell_type": "code",
   "execution_count": 78,
   "id": "ca33e904",
   "metadata": {},
   "outputs": [
    {
     "data": {
      "text/plain": [
       "Index(['ImageID', 'ImageDir', 'Report', 'Labels'], dtype='object')"
      ]
     },
     "execution_count": 78,
     "metadata": {},
     "output_type": "execute_result"
    }
   ],
   "source": [
    "df_1980.columns"
   ]
  },
  {
   "cell_type": "code",
   "execution_count": null,
   "id": "1d38e716",
   "metadata": {},
   "outputs": [],
   "source": []
  }
 ],
 "metadata": {
  "kernelspec": {
   "display_name": "Python 3 (ipykernel)",
   "language": "python",
   "name": "python3"
  },
  "language_info": {
   "codemirror_mode": {
    "name": "ipython",
    "version": 3
   },
   "file_extension": ".py",
   "mimetype": "text/x-python",
   "name": "python",
   "nbconvert_exporter": "python",
   "pygments_lexer": "ipython3",
   "version": "3.11.5"
  }
 },
 "nbformat": 4,
 "nbformat_minor": 5
}
