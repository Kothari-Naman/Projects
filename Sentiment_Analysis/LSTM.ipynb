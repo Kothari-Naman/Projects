{
 "cells": [
  {
   "cell_type": "markdown",
   "id": "783d7b79",
   "metadata": {},
   "source": [
    "Kaggle Dataset Link - https://www.kaggle.com/datasets/lakshmi25npathi/imdb-dataset-of-50k-movie-reviews"
   ]
  },
  {
   "cell_type": "markdown",
   "id": "9e49b3d6",
   "metadata": {
    "papermill": {
     "duration": 0.009754,
     "end_time": "2024-07-20T15:38:22.323755",
     "exception": false,
     "start_time": "2024-07-20T15:38:22.314001",
     "status": "completed"
    },
    "tags": []
   },
   "source": [
    "## ***Pseudo Code***\n",
    "\n",
    "i used an LSTM architecture to implement RNN on the given dataset.\n",
    "\n",
    "**Preprocessing**\n",
    "i converted the dataset into a list of tuples of form (sentiment label,review) and on that ,i used torchtext.vocab.build_vocab_from_iterator to create my vocabulary of words taking help from yield_tokens() fn inside which i used torchtext.data.utils.get_tokenizer to tokenize my training data.\n",
    "* i kept the min freq of occurance of words to be *45* which gave me a vocabulary size of *10453* ,furthur increasing vocab size led to decrease in test loss and overfitting.\n",
    "\n",
    "**Data Transformation**\n",
    "\n",
    "i used PyTorch torchtext.transforms functionality to make the following changes to the raw text at the time of training:\n",
    "\n",
    "* VocabTransform -converts sentances to indices of vocab\n",
    "* AddToken - To add `<sos>`  and `<eos>` to indicate start end of sentance using tokens\n",
    "* Truncate -To fix a maximum length of each sentance (*250* words)\n",
    "* ToTensor - converts the above to PyTorch tensors\n",
    "* PadTransform - To add a padding of zeros at end of a sentance if  its length is smaller than max_length so that all sentances are of same length\n",
    "\n",
    "Converted data into batchwise iterable DataLoader using torch.utils.data.DataLoader\n",
    "\n",
    "**LSTMModelV0** \n",
    "\n",
    "This model architecture consists of of `embedding layer` -> `LSTM layer` -> `Dropout Layer`(for reducing overfitting)\n",
    "Upon training with the following Hyperparameters i got a Test Accuracy close to ***88.5%***\n",
    "\n",
    "* embedding dimention - *176*\n",
    "* Hidden size - *128*\n",
    "* Epochs - 8  Upon increasing the epochs model starts to overfit ,so i stopped early at 8\n",
    "* lr - 0.00045 \n",
    "* Regularization factor - 0.00001\n",
    "\n",
    "Experimenting by varying lr,regularization,max_length for truncation didn't give better results than the following."
   ]
  },
  {
   "cell_type": "code",
   "execution_count": 1,
   "id": "53881e27",
   "metadata": {
    "_cell_guid": "b1076dfc-b9ad-4769-8c92-a6c4dae69d19",
    "_uuid": "8f2839f25d086af736a60e9eeb907d3b93b6e0e5",
    "execution": {
     "iopub.execute_input": "2024-07-20T15:38:22.343464Z",
     "iopub.status.busy": "2024-07-20T15:38:22.343143Z",
     "iopub.status.idle": "2024-07-20T15:38:23.218372Z",
     "shell.execute_reply": "2024-07-20T15:38:23.217365Z"
    },
    "papermill": {
     "duration": 0.887551,
     "end_time": "2024-07-20T15:38:23.220652",
     "exception": false,
     "start_time": "2024-07-20T15:38:22.333101",
     "status": "completed"
    },
    "tags": []
   },
   "outputs": [
    {
     "name": "stdout",
     "output_type": "stream",
     "text": [
      "/kaggle/input/imdb-dataset-of-50k-movie-reviews/IMDB Dataset.csv\n"
     ]
    }
   ],
   "source": [
    "# This Python 3 environment comes with many helpful analytics libraries installed\n",
    "# It is defined by the kaggle/python Docker image: https://github.com/kaggle/docker-python\n",
    "# For example, here's several helpful packages to load\n",
    "\n",
    "import numpy as np # linear algebra\n",
    "import pandas as pd # data processing, CSV file I/O (e.g. pd.read_csv)\n",
    "\n",
    "# Input data files are available in the read-only \"../input/\" directory\n",
    "# For example, running this (by clicking run or pressing Shift+Enter) will list all files under the input directory\n",
    "\n",
    "import os\n",
    "for dirname, _, filenames in os.walk('/kaggle/input'):\n",
    "    for filename in filenames:\n",
    "        print(os.path.join(dirname, filename))\n",
    "\n",
    "# You can write up to 20GB to the current directory (/kaggle/working/) that gets preserved as output when you create a version using \"Save & Run All\" \n",
    "# You can also write temporary files to /kaggle/temp/, but they won't be saved outside of the current session"
   ]
  },
  {
   "cell_type": "code",
   "execution_count": 2,
   "id": "ee61504d",
   "metadata": {
    "execution": {
     "iopub.execute_input": "2024-07-20T15:38:23.241266Z",
     "iopub.status.busy": "2024-07-20T15:38:23.240660Z",
     "iopub.status.idle": "2024-07-20T15:38:28.793926Z",
     "shell.execute_reply": "2024-07-20T15:38:28.793161Z"
    },
    "papermill": {
     "duration": 5.566307,
     "end_time": "2024-07-20T15:38:28.796468",
     "exception": false,
     "start_time": "2024-07-20T15:38:23.230161",
     "status": "completed"
    },
    "tags": []
   },
   "outputs": [],
   "source": [
    "import torch\n",
    "from torch import nn\n",
    "from torchtext.data.utils import get_tokenizer\n",
    "from torchtext.vocab import build_vocab_from_iterator\n",
    "import torchtext.transforms as transform\n",
    "from torch.utils.data import DataLoader\n",
    "from tqdm.auto import tqdm\n",
    "import matplotlib.pyplot as plt\n",
    "import tqdm.auto as tqdm \n",
    "import pickle\n",
    "import csv"
   ]
  },
  {
   "cell_type": "code",
   "execution_count": 3,
   "id": "872a83e5",
   "metadata": {
    "execution": {
     "iopub.execute_input": "2024-07-20T15:38:28.817599Z",
     "iopub.status.busy": "2024-07-20T15:38:28.816874Z",
     "iopub.status.idle": "2024-07-20T15:38:30.035070Z",
     "shell.execute_reply": "2024-07-20T15:38:30.034070Z"
    },
    "papermill": {
     "duration": 1.231092,
     "end_time": "2024-07-20T15:38:30.037439",
     "exception": false,
     "start_time": "2024-07-20T15:38:28.806347",
     "status": "completed"
    },
    "tags": []
   },
   "outputs": [
    {
     "data": {
      "text/html": [
       "<div>\n",
       "<style scoped>\n",
       "    .dataframe tbody tr th:only-of-type {\n",
       "        vertical-align: middle;\n",
       "    }\n",
       "\n",
       "    .dataframe tbody tr th {\n",
       "        vertical-align: top;\n",
       "    }\n",
       "\n",
       "    .dataframe thead th {\n",
       "        text-align: right;\n",
       "    }\n",
       "</style>\n",
       "<table border=\"1\" class=\"dataframe\">\n",
       "  <thead>\n",
       "    <tr style=\"text-align: right;\">\n",
       "      <th></th>\n",
       "      <th>review</th>\n",
       "      <th>sentiment</th>\n",
       "    </tr>\n",
       "  </thead>\n",
       "  <tbody>\n",
       "    <tr>\n",
       "      <th>0</th>\n",
       "      <td>One of the other reviewers has mentioned that ...</td>\n",
       "      <td>positive</td>\n",
       "    </tr>\n",
       "    <tr>\n",
       "      <th>1</th>\n",
       "      <td>A wonderful little production. &lt;br /&gt;&lt;br /&gt;The...</td>\n",
       "      <td>positive</td>\n",
       "    </tr>\n",
       "    <tr>\n",
       "      <th>2</th>\n",
       "      <td>I thought this was a wonderful way to spend ti...</td>\n",
       "      <td>positive</td>\n",
       "    </tr>\n",
       "    <tr>\n",
       "      <th>3</th>\n",
       "      <td>Basically there's a family where a little boy ...</td>\n",
       "      <td>negative</td>\n",
       "    </tr>\n",
       "    <tr>\n",
       "      <th>4</th>\n",
       "      <td>Petter Mattei's \"Love in the Time of Money\" is...</td>\n",
       "      <td>positive</td>\n",
       "    </tr>\n",
       "  </tbody>\n",
       "</table>\n",
       "</div>"
      ],
      "text/plain": [
       "                                              review sentiment\n",
       "0  One of the other reviewers has mentioned that ...  positive\n",
       "1  A wonderful little production. <br /><br />The...  positive\n",
       "2  I thought this was a wonderful way to spend ti...  positive\n",
       "3  Basically there's a family where a little boy ...  negative\n",
       "4  Petter Mattei's \"Love in the Time of Money\" is...  positive"
      ]
     },
     "execution_count": 3,
     "metadata": {},
     "output_type": "execute_result"
    }
   ],
   "source": [
    "df=pd.read_csv(\"/kaggle/input/imdb-dataset-of-50k-movie-reviews/IMDB Dataset.csv\")\n",
    "df.head()"
   ]
  },
  {
   "cell_type": "code",
   "execution_count": 4,
   "id": "29902391",
   "metadata": {
    "execution": {
     "iopub.execute_input": "2024-07-20T15:38:30.060185Z",
     "iopub.status.busy": "2024-07-20T15:38:30.059902Z",
     "iopub.status.idle": "2024-07-20T15:38:30.065719Z",
     "shell.execute_reply": "2024-07-20T15:38:30.064867Z"
    },
    "papermill": {
     "duration": 0.019561,
     "end_time": "2024-07-20T15:38:30.067661",
     "exception": false,
     "start_time": "2024-07-20T15:38:30.048100",
     "status": "completed"
    },
    "tags": []
   },
   "outputs": [
    {
     "data": {
      "text/plain": [
       "'Probably my all-time favorite movie, a story of selflessness, sacrifice and dedication to a noble cause, but it\\'s not preachy or boring. It just never gets old, despite my having seen it some 15 or more times in the last 25 years. Paul Lukas\\' performance brings tears to my eyes, and Bette Davis, in one of her very few truly sympathetic roles, is a delight. The kids are, as grandma says, more like \"dressed-up midgets\" than children, but that only makes them more fun to watch. And the mother\\'s slow awakening to what\\'s happening in the world and under her own roof is believable and startling. If I had a dozen thumbs, they\\'d all be \"up\" for this movie.'"
      ]
     },
     "execution_count": 4,
     "metadata": {},
     "output_type": "execute_result"
    }
   ],
   "source": [
    "df['review'][5]"
   ]
  },
  {
   "cell_type": "markdown",
   "id": "5124fac3",
   "metadata": {
    "papermill": {
     "duration": 0.009352,
     "end_time": "2024-07-20T15:38:30.086836",
     "exception": false,
     "start_time": "2024-07-20T15:38:30.077484",
     "status": "completed"
    },
    "tags": []
   },
   "source": [
    "### Pre Processing:"
   ]
  },
  {
   "cell_type": "code",
   "execution_count": 5,
   "id": "05cdaae5",
   "metadata": {
    "execution": {
     "iopub.execute_input": "2024-07-20T15:38:30.108754Z",
     "iopub.status.busy": "2024-07-20T15:38:30.108205Z",
     "iopub.status.idle": "2024-07-20T15:38:30.111870Z",
     "shell.execute_reply": "2024-07-20T15:38:30.111083Z"
    },
    "papermill": {
     "duration": 0.016289,
     "end_time": "2024-07-20T15:38:30.113664",
     "exception": false,
     "start_time": "2024-07-20T15:38:30.097375",
     "status": "completed"
    },
    "tags": []
   },
   "outputs": [],
   "source": [
    "tokenizer=get_tokenizer(\"basic_english\")"
   ]
  },
  {
   "cell_type": "code",
   "execution_count": 6,
   "id": "d6a84e48",
   "metadata": {
    "execution": {
     "iopub.execute_input": "2024-07-20T15:38:30.133902Z",
     "iopub.status.busy": "2024-07-20T15:38:30.133467Z",
     "iopub.status.idle": "2024-07-20T15:38:30.165243Z",
     "shell.execute_reply": "2024-07-20T15:38:30.164584Z"
    },
    "papermill": {
     "duration": 0.043825,
     "end_time": "2024-07-20T15:38:30.167054",
     "exception": false,
     "start_time": "2024-07-20T15:38:30.123229",
     "status": "completed"
    },
    "tags": []
   },
   "outputs": [],
   "source": [
    "data=[(1 if label==\"positive\" else 0,x) for label,x in zip(df.sentiment,df.review)]"
   ]
  },
  {
   "cell_type": "code",
   "execution_count": 7,
   "id": "2e3d1fb0",
   "metadata": {
    "execution": {
     "iopub.execute_input": "2024-07-20T15:38:30.187508Z",
     "iopub.status.busy": "2024-07-20T15:38:30.186853Z",
     "iopub.status.idle": "2024-07-20T15:38:30.191143Z",
     "shell.execute_reply": "2024-07-20T15:38:30.190373Z"
    },
    "papermill": {
     "duration": 0.016471,
     "end_time": "2024-07-20T15:38:30.192964",
     "exception": false,
     "start_time": "2024-07-20T15:38:30.176493",
     "status": "completed"
    },
    "tags": []
   },
   "outputs": [],
   "source": [
    "## Train Test split (80:20)\n",
    "train_split=int(0.8*len(data))\n",
    "train_data=data[:train_split]\n",
    "test_data=data[train_split:]"
   ]
  },
  {
   "cell_type": "code",
   "execution_count": 8,
   "id": "85df980e",
   "metadata": {
    "execution": {
     "iopub.execute_input": "2024-07-20T15:38:30.213409Z",
     "iopub.status.busy": "2024-07-20T15:38:30.213067Z",
     "iopub.status.idle": "2024-07-20T15:38:30.217436Z",
     "shell.execute_reply": "2024-07-20T15:38:30.216641Z"
    },
    "papermill": {
     "duration": 0.016928,
     "end_time": "2024-07-20T15:38:30.219280",
     "exception": false,
     "start_time": "2024-07-20T15:38:30.202352",
     "status": "completed"
    },
    "tags": []
   },
   "outputs": [],
   "source": [
    "def yield_tokens(data_iter): #generator fn\n",
    "    for _,text in data_iter:\n",
    "        yield tokenizer(text) "
   ]
  },
  {
   "cell_type": "markdown",
   "id": "d161c94f",
   "metadata": {
    "papermill": {
     "duration": 0.010292,
     "end_time": "2024-07-20T15:38:30.239178",
     "exception": false,
     "start_time": "2024-07-20T15:38:30.228886",
     "status": "completed"
    },
    "tags": []
   },
   "source": [
    "## Building vocabulary using torchtext.vocab.build_vocab_from_iterator"
   ]
  },
  {
   "cell_type": "code",
   "execution_count": 9,
   "id": "abbdb2aa",
   "metadata": {
    "execution": {
     "iopub.execute_input": "2024-07-20T15:38:30.259724Z",
     "iopub.status.busy": "2024-07-20T15:38:30.259467Z",
     "iopub.status.idle": "2024-07-20T15:38:38.383107Z",
     "shell.execute_reply": "2024-07-20T15:38:38.382306Z"
    },
    "papermill": {
     "duration": 8.136626,
     "end_time": "2024-07-20T15:38:38.385580",
     "exception": false,
     "start_time": "2024-07-20T15:38:30.248954",
     "status": "completed"
    },
    "tags": []
   },
   "outputs": [],
   "source": [
    "# build_vocab_from_iterator Builds a vocabulary from the tokens yielded by the yield_tokens generator fn\n",
    "vocab=build_vocab_from_iterator(yield_tokens(train_data),\n",
    "                                min_freq=45,\n",
    "                                specials=['<pad>','<sos>','<eos>','<unk>'],\n",
    "                               special_first=True)\n",
    "vocab.set_default_index(vocab[\"<unk>\"])"
   ]
  },
  {
   "cell_type": "code",
   "execution_count": 10,
   "id": "cc7d966b",
   "metadata": {
    "execution": {
     "iopub.execute_input": "2024-07-20T15:38:38.406438Z",
     "iopub.status.busy": "2024-07-20T15:38:38.406144Z",
     "iopub.status.idle": "2024-07-20T15:38:38.411579Z",
     "shell.execute_reply": "2024-07-20T15:38:38.410634Z"
    },
    "papermill": {
     "duration": 0.018071,
     "end_time": "2024-07-20T15:38:38.413577",
     "exception": false,
     "start_time": "2024-07-20T15:38:38.395506",
     "status": "completed"
    },
    "tags": []
   },
   "outputs": [
    {
     "data": {
      "text/plain": [
       "10453"
      ]
     },
     "execution_count": 10,
     "metadata": {},
     "output_type": "execute_result"
    }
   ],
   "source": [
    "len(vocab)"
   ]
  },
  {
   "cell_type": "code",
   "execution_count": 11,
   "id": "81cf50dd",
   "metadata": {
    "execution": {
     "iopub.execute_input": "2024-07-20T15:38:38.434022Z",
     "iopub.status.busy": "2024-07-20T15:38:38.433758Z",
     "iopub.status.idle": "2024-07-20T15:38:38.439411Z",
     "shell.execute_reply": "2024-07-20T15:38:38.438493Z"
    },
    "papermill": {
     "duration": 0.018301,
     "end_time": "2024-07-20T15:38:38.441502",
     "exception": false,
     "start_time": "2024-07-20T15:38:38.423201",
     "status": "completed"
    },
    "tags": []
   },
   "outputs": [
    {
     "data": {
      "text/plain": [
       "[33, 5111, 142, 65, 519, 3]"
      ]
     },
     "execution_count": 11,
     "metadata": {},
     "output_type": "execute_result"
    }
   ],
   "source": [
    "vocab(['he','jumped' ,'over','my','car','qwerty'])"
   ]
  },
  {
   "cell_type": "code",
   "execution_count": 12,
   "id": "fb692112",
   "metadata": {
    "execution": {
     "iopub.execute_input": "2024-07-20T15:38:38.462041Z",
     "iopub.status.busy": "2024-07-20T15:38:38.461777Z",
     "iopub.status.idle": "2024-07-20T15:38:38.465660Z",
     "shell.execute_reply": "2024-07-20T15:38:38.464819Z"
    },
    "papermill": {
     "duration": 0.016332,
     "end_time": "2024-07-20T15:38:38.467574",
     "exception": false,
     "start_time": "2024-07-20T15:38:38.451242",
     "status": "completed"
    },
    "tags": []
   },
   "outputs": [],
   "source": [
    "# vocab.get_stoi()"
   ]
  },
  {
   "cell_type": "markdown",
   "id": "ad0cd05b",
   "metadata": {
    "papermill": {
     "duration": 0.009555,
     "end_time": "2024-07-20T15:38:38.486941",
     "exception": false,
     "start_time": "2024-07-20T15:38:38.477386",
     "status": "completed"
    },
    "tags": []
   },
   "source": [
    "## Data Transformation"
   ]
  },
  {
   "cell_type": "code",
   "execution_count": 13,
   "id": "1407f493",
   "metadata": {
    "execution": {
     "iopub.execute_input": "2024-07-20T15:38:38.507717Z",
     "iopub.status.busy": "2024-07-20T15:38:38.507096Z",
     "iopub.status.idle": "2024-07-20T15:38:38.510830Z",
     "shell.execute_reply": "2024-07-20T15:38:38.509999Z"
    },
    "papermill": {
     "duration": 0.016105,
     "end_time": "2024-07-20T15:38:38.512714",
     "exception": false,
     "start_time": "2024-07-20T15:38:38.496609",
     "status": "completed"
    },
    "tags": []
   },
   "outputs": [],
   "source": [
    "max_length=250"
   ]
  },
  {
   "cell_type": "code",
   "execution_count": 14,
   "id": "6fefe710",
   "metadata": {
    "execution": {
     "iopub.execute_input": "2024-07-20T15:38:38.533635Z",
     "iopub.status.busy": "2024-07-20T15:38:38.533374Z",
     "iopub.status.idle": "2024-07-20T15:38:38.539387Z",
     "shell.execute_reply": "2024-07-20T15:38:38.538557Z"
    },
    "papermill": {
     "duration": 0.019355,
     "end_time": "2024-07-20T15:38:38.541651",
     "exception": false,
     "start_time": "2024-07-20T15:38:38.522296",
     "status": "completed"
    },
    "tags": []
   },
   "outputs": [],
   "source": [
    "data_transform=transform.Sequential(\n",
    "    # sentances -> indices of vocabulary\n",
    "    transform.VocabTransform(vocab=vocab),\n",
    "    \n",
    "    #add <sos>(index 1 in vocab) token at beginning of each sentance \n",
    "    transform.AddToken(1,begin=True),\n",
    "   \n",
    "    #clip the sentance if longer than max_length\n",
    "    transform.Truncate(max_seq_len=max_length-2),\n",
    "    \n",
    "    # add <eos> (index 2 in vocab) token at the end of each sentance\n",
    "    transform.AddToken(2,begin=False),\n",
    "    \n",
    "    #list -> tensor, pad a sentance with <pad> token(index 0) if sentance shorter than max_length\n",
    "    transform.ToTensor(padding_value=0,dtype=torch.int32),\n",
    "    transform.PadTransform(max_length=max_length,pad_value=0)\n",
    "    )\n",
    "\n",
    "#Tokenizer function applied batchwise\n",
    "text_tokenizer=lambda x_batch :[tokenizer(x) for x in x_batch]"
   ]
  },
  {
   "cell_type": "code",
   "execution_count": 15,
   "id": "8b54433f",
   "metadata": {
    "execution": {
     "iopub.execute_input": "2024-07-20T15:38:38.562442Z",
     "iopub.status.busy": "2024-07-20T15:38:38.562161Z",
     "iopub.status.idle": "2024-07-20T15:38:38.565761Z",
     "shell.execute_reply": "2024-07-20T15:38:38.564964Z"
    },
    "papermill": {
     "duration": 0.016271,
     "end_time": "2024-07-20T15:38:38.567763",
     "exception": false,
     "start_time": "2024-07-20T15:38:38.551492",
     "status": "completed"
    },
    "tags": []
   },
   "outputs": [],
   "source": [
    "BATCH_SIZE=32"
   ]
  },
  {
   "cell_type": "code",
   "execution_count": 16,
   "id": "13931eed",
   "metadata": {
    "execution": {
     "iopub.execute_input": "2024-07-20T15:38:38.588335Z",
     "iopub.status.busy": "2024-07-20T15:38:38.588067Z",
     "iopub.status.idle": "2024-07-20T15:38:38.592496Z",
     "shell.execute_reply": "2024-07-20T15:38:38.591597Z"
    },
    "papermill": {
     "duration": 0.016889,
     "end_time": "2024-07-20T15:38:38.594437",
     "exception": false,
     "start_time": "2024-07-20T15:38:38.577548",
     "status": "completed"
    },
    "tags": []
   },
   "outputs": [],
   "source": [
    "def accuracy_fn(y_true,y_pred):\n",
    "    correct=sum(y_true==y_pred)\n",
    "    accuracy=correct/len(y_pred)*100\n",
    "    return accuracy\n"
   ]
  },
  {
   "cell_type": "code",
   "execution_count": 17,
   "id": "df6ca7c9",
   "metadata": {
    "execution": {
     "iopub.execute_input": "2024-07-20T15:38:38.614851Z",
     "iopub.status.busy": "2024-07-20T15:38:38.614594Z",
     "iopub.status.idle": "2024-07-20T15:38:38.624955Z",
     "shell.execute_reply": "2024-07-20T15:38:38.624023Z"
    },
    "papermill": {
     "duration": 0.022733,
     "end_time": "2024-07-20T15:38:38.626871",
     "exception": false,
     "start_time": "2024-07-20T15:38:38.604138",
     "status": "completed"
    },
    "tags": []
   },
   "outputs": [
    {
     "data": {
      "text/plain": [
       "(<torch.utils.data.dataloader.DataLoader at 0x78db1426eb30>,\n",
       " <torch.utils.data.dataloader.DataLoader at 0x78db0fc66470>)"
      ]
     },
     "execution_count": 17,
     "metadata": {},
     "output_type": "execute_result"
    }
   ],
   "source": [
    "torch.manual_seed(42)\n",
    "torch.cuda.manual_seed(42)\n",
    "train_dataloader=DataLoader(dataset=train_data,\n",
    "                           batch_size=BATCH_SIZE,\n",
    "                           shuffle=True)\n",
    "test_dataloader=DataLoader(dataset=test_data,\n",
    "                          batch_size=BATCH_SIZE,\n",
    "                          shuffle=True)\n",
    "train_dataloader,test_dataloader"
   ]
  },
  {
   "cell_type": "code",
   "execution_count": 18,
   "id": "8f727cfa",
   "metadata": {
    "execution": {
     "iopub.execute_input": "2024-07-20T15:38:38.648444Z",
     "iopub.status.busy": "2024-07-20T15:38:38.648164Z",
     "iopub.status.idle": "2024-07-20T15:38:38.653327Z",
     "shell.execute_reply": "2024-07-20T15:38:38.652510Z"
    },
    "papermill": {
     "duration": 0.018539,
     "end_time": "2024-07-20T15:38:38.655507",
     "exception": false,
     "start_time": "2024-07-20T15:38:38.636968",
     "status": "completed"
    },
    "tags": []
   },
   "outputs": [
    {
     "data": {
      "text/plain": [
       "40000"
      ]
     },
     "execution_count": 18,
     "metadata": {},
     "output_type": "execute_result"
    }
   ],
   "source": [
    "len(train_data)"
   ]
  },
  {
   "cell_type": "code",
   "execution_count": 19,
   "id": "0113ed12",
   "metadata": {
    "execution": {
     "iopub.execute_input": "2024-07-20T15:38:38.676653Z",
     "iopub.status.busy": "2024-07-20T15:38:38.676392Z",
     "iopub.status.idle": "2024-07-20T15:38:38.763956Z",
     "shell.execute_reply": "2024-07-20T15:38:38.763050Z"
    },
    "papermill": {
     "duration": 0.100339,
     "end_time": "2024-07-20T15:38:38.765859",
     "exception": false,
     "start_time": "2024-07-20T15:38:38.665520",
     "status": "completed"
    },
    "tags": []
   },
   "outputs": [
    {
     "data": {
      "text/plain": [
       "torch.Size([32, 250])"
      ]
     },
     "execution_count": 19,
     "metadata": {},
     "output_type": "execute_result"
    }
   ],
   "source": [
    "label,text=next(iter(train_dataloader))\n",
    "data_transform(text_tokenizer(text)).shape\n",
    "#(batch_size,max_length)"
   ]
  },
  {
   "cell_type": "code",
   "execution_count": 20,
   "id": "82bb160b",
   "metadata": {
    "execution": {
     "iopub.execute_input": "2024-07-20T15:38:38.787293Z",
     "iopub.status.busy": "2024-07-20T15:38:38.787026Z",
     "iopub.status.idle": "2024-07-20T15:38:38.875864Z",
     "shell.execute_reply": "2024-07-20T15:38:38.875053Z"
    },
    "papermill": {
     "duration": 0.101827,
     "end_time": "2024-07-20T15:38:38.877856",
     "exception": false,
     "start_time": "2024-07-20T15:38:38.776029",
     "status": "completed"
    },
    "tags": []
   },
   "outputs": [
    {
     "data": {
      "text/plain": [
       "'cuda'"
      ]
     },
     "execution_count": 20,
     "metadata": {},
     "output_type": "execute_result"
    }
   ],
   "source": [
    "device=\"cuda\" if torch.cuda.is_available() else \"cpu\"\n",
    "device"
   ]
  },
  {
   "cell_type": "code",
   "execution_count": 21,
   "id": "37259152",
   "metadata": {
    "execution": {
     "iopub.execute_input": "2024-07-20T15:38:38.900086Z",
     "iopub.status.busy": "2024-07-20T15:38:38.899783Z",
     "iopub.status.idle": "2024-07-20T15:38:38.907437Z",
     "shell.execute_reply": "2024-07-20T15:38:38.906614Z"
    },
    "papermill": {
     "duration": 0.021113,
     "end_time": "2024-07-20T15:38:38.909218",
     "exception": false,
     "start_time": "2024-07-20T15:38:38.888105",
     "status": "completed"
    },
    "tags": []
   },
   "outputs": [],
   "source": [
    "class LSTMModelV0(nn.Module):\n",
    "    def __init__(self,vocab_size,embedding_dim,hidden_size,num_layers,output_size,bidirectionality):\n",
    "        super().__init__()\n",
    "        \n",
    "        self.embedding_layer=nn.Embedding(num_embeddings=vocab_size,\n",
    "                                          embedding_dim=embedding_dim)\n",
    "        self.lstm=nn.LSTM(input_size=embedding_dim,\n",
    "                          hidden_size=hidden_size,\n",
    "                          num_layers=num_layers,\n",
    "                          batch_first=True,\n",
    "                          bidirectional=bidirectionality)\n",
    "        self.dropout=nn.Dropout(p=0.5)\n",
    "        if bidirectionality==True:\n",
    "            self.fcl = nn.Linear(in_features=hidden_size * 2, out_features=output_size)\n",
    "        else:\n",
    "            self.fcl = nn.Linear(in_features=hidden_size, out_features=output_size)\n",
    "    \n",
    "    def forward(self,x):\n",
    "        embedding=self.embedding_layer(x)\n",
    "        out,_=self.lstm(embedding)# returns all the hidden states\n",
    "        out=self.dropout(out)\n",
    "        return self.fcl(out[:,-1,:]) # indexing done to extract the (hidden state)/output of the last time step alone (many-to-one architecture)\n",
    "        "
   ]
  },
  {
   "cell_type": "code",
   "execution_count": 22,
   "id": "8a856d08",
   "metadata": {
    "execution": {
     "iopub.execute_input": "2024-07-20T15:38:38.931405Z",
     "iopub.status.busy": "2024-07-20T15:38:38.931113Z",
     "iopub.status.idle": "2024-07-20T15:38:39.286254Z",
     "shell.execute_reply": "2024-07-20T15:38:39.285296Z"
    },
    "papermill": {
     "duration": 0.368703,
     "end_time": "2024-07-20T15:38:39.288667",
     "exception": false,
     "start_time": "2024-07-20T15:38:38.919964",
     "status": "completed"
    },
    "tags": []
   },
   "outputs": [],
   "source": [
    "torch.manual_seed(42)\n",
    "torch.cuda.manual_seed(42)\n",
    "model_0=LSTMModelV0(vocab_size=len(vocab),\n",
    "                   embedding_dim=176,\n",
    "                   hidden_size=128,\n",
    "                   num_layers=1,\n",
    "                   output_size=1,\n",
    "                   bidirectionality=False).to(device)\n"
   ]
  },
  {
   "cell_type": "code",
   "execution_count": 23,
   "id": "13cb5e27",
   "metadata": {
    "execution": {
     "iopub.execute_input": "2024-07-20T15:38:39.311407Z",
     "iopub.status.busy": "2024-07-20T15:38:39.311060Z",
     "iopub.status.idle": "2024-07-20T15:38:40.219132Z",
     "shell.execute_reply": "2024-07-20T15:38:40.218041Z"
    },
    "papermill": {
     "duration": 0.922217,
     "end_time": "2024-07-20T15:38:40.221582",
     "exception": false,
     "start_time": "2024-07-20T15:38:39.299365",
     "status": "completed"
    },
    "tags": []
   },
   "outputs": [],
   "source": [
    "loss_fn=nn.BCEWithLogitsLoss()\n",
    "optimizer = torch.optim.Adam(model_0.parameters(),\n",
    "                             lr=0.00045,\n",
    "                             weight_decay=1e-5)\n"
   ]
  },
  {
   "cell_type": "code",
   "execution_count": 24,
   "id": "909f320d",
   "metadata": {
    "execution": {
     "iopub.execute_input": "2024-07-20T15:38:40.245096Z",
     "iopub.status.busy": "2024-07-20T15:38:40.244640Z",
     "iopub.status.idle": "2024-07-20T15:42:28.791334Z",
     "shell.execute_reply": "2024-07-20T15:42:28.790347Z"
    },
    "papermill": {
     "duration": 228.571476,
     "end_time": "2024-07-20T15:42:28.804211",
     "exception": false,
     "start_time": "2024-07-20T15:38:40.232735",
     "status": "completed"
    },
    "tags": []
   },
   "outputs": [
    {
     "name": "stdout",
     "output_type": "stream",
     "text": [
      "Epoch:0 -----------------------------------------------------------------\n",
      "Train Loss:0.6946 | Train Accuracy:50.46% | Test Loss:0.7872 | Test Accuracy:52.04%\n",
      "\n",
      "Epoch:1 -----------------------------------------------------------------\n",
      "Train Loss:0.6929 | Train Accuracy:51.12% | Test Loss:0.7411 | Test Accuracy:51.39%\n",
      "\n",
      "Epoch:2 -----------------------------------------------------------------\n",
      "Train Loss:0.6900 | Train Accuracy:52.79% | Test Loss:0.7335 | Test Accuracy:53.98%\n",
      "\n",
      "Epoch:3 -----------------------------------------------------------------\n",
      "Train Loss:0.6718 | Train Accuracy:58.19% | Test Loss:0.7297 | Test Accuracy:57.81%\n",
      "\n",
      "Epoch:4 -----------------------------------------------------------------\n",
      "Train Loss:0.6769 | Train Accuracy:58.22% | Test Loss:0.6934 | Test Accuracy:66.38%\n",
      "\n",
      "Epoch:5 -----------------------------------------------------------------\n",
      "Train Loss:0.4952 | Train Accuracy:76.59% | Test Loss:0.5786 | Test Accuracy:85.66%\n",
      "\n",
      "Epoch:6 -----------------------------------------------------------------\n",
      "Train Loss:0.2987 | Train Accuracy:88.20% | Test Loss:0.5617 | Test Accuracy:88.27%\n",
      "\n",
      "Epoch:7 -----------------------------------------------------------------\n",
      "Train Loss:0.2362 | Train Accuracy:91.35% | Test Loss:0.5568 | Test Accuracy:88.52%\n",
      "\n"
     ]
    }
   ],
   "source": [
    "torch.manual_seed(42)\n",
    "torch.cuda.manual_seed(42)\n",
    "train_losses=[]\n",
    "test_losses=[]\n",
    "train_acc=[]\n",
    "test_acc=[]\n",
    "epochs=8\n",
    "for epoch in range(epochs):\n",
    "    print(f\"Epoch:{epoch} -----------------------------------------------------------------\")\n",
    "    model_0.train()\n",
    "    train_loss,test_loss=0,0\n",
    "    train_accuracy,test_accuracy=0,0\n",
    "    test_loss\n",
    "    for labels,text in train_dataloader:\n",
    "        labels=labels.to(device)\n",
    "        text_tokens=data_transform(text_tokenizer(text)).to(device)\n",
    "        y_logits=model_0(text_tokens)\n",
    "        y_pred=torch.round(torch.sigmoid(y_logits.squeeze()))\n",
    "        train_accuracy+=accuracy_fn(y_true=labels,\n",
    "                                y_pred=y_pred)\n",
    "        loss=loss_fn(y_logits.squeeze(),labels.float())\n",
    "        \n",
    "        train_loss+=loss\n",
    "        \n",
    "        optimizer.zero_grad()\n",
    "        loss.backward()\n",
    "        optimizer.step()\n",
    "        \n",
    "        \n",
    "    train_loss/=len(train_dataloader)\n",
    "    train_accuracy/=len(train_dataloader)\n",
    "    train_losses.append(train_loss.item())\n",
    "    train_acc.append(train_accuracy.item())\n",
    "\n",
    "    \n",
    "    model_0.eval()\n",
    "    with torch.inference_mode():\n",
    "        for test_labels,test_text in test_dataloader:\n",
    "            test_labels=test_labels.to(device)\n",
    "            test_text_tokens=data_transform(text_tokenizer(test_text)).to(device)\n",
    "\n",
    "            test_logits=model_0(test_text_tokens)\n",
    "            test_pred=torch.round(torch.sigmoid(test_logits.squeeze()))\n",
    "\n",
    "            test_loss+=loss_fn(test_pred,test_labels.float())\n",
    "            test_accuracy+=accuracy_fn(y_true=test_labels,\n",
    "                                      y_pred=torch.round(torch.sigmoid(test_logits.squeeze())))\n",
    "        \n",
    "        test_loss/=len(test_dataloader)\n",
    "        test_accuracy/=len(test_dataloader)\n",
    "        test_losses.append(test_loss.item())\n",
    "        test_acc.append(test_accuracy.item())\n",
    "\n",
    "    \n",
    "        print(f\"Train Loss:{train_loss:.4f} | Train Accuracy:{train_accuracy:.2f}% | Test Loss:{test_loss:.4f} | Test Accuracy:{test_accuracy:.2f}%\\n\")\n",
    "        \n",
    "        \n",
    "    \n",
    "        "
   ]
  },
  {
   "cell_type": "code",
   "execution_count": 25,
   "id": "cf9bd866",
   "metadata": {
    "execution": {
     "iopub.execute_input": "2024-07-20T15:42:28.827760Z",
     "iopub.status.busy": "2024-07-20T15:42:28.827435Z",
     "iopub.status.idle": "2024-07-20T15:42:29.328745Z",
     "shell.execute_reply": "2024-07-20T15:42:29.327867Z"
    },
    "papermill": {
     "duration": 0.515347,
     "end_time": "2024-07-20T15:42:29.330732",
     "exception": false,
     "start_time": "2024-07-20T15:42:28.815385",
     "status": "completed"
    },
    "tags": []
   },
   "outputs": [
    {
     "data": {
      "image/png": "[encoded data removed]",
      "text/plain": [
       "<Figure size 1200x600 with 2 Axes>"
      ]
     },
     "metadata": {},
     "output_type": "display_data"
    }
   ],
   "source": [
    "x=[i for i in range(8)]\n",
    "plt.figure(figsize=(12,6))\n",
    "plt.subplot(1,2,1)\n",
    "plt.plot(x,train_losses,label=\"Training loss\")\n",
    "plt.plot(x,test_losses,label=\"Testing loss\")\n",
    "plt.legend()\n",
    "plt.title(\"Training and Testing losses vs epochs\")\n",
    "\n",
    "plt.subplot(1,2,2)\n",
    "plt.plot(x,train_acc,label=\"Training Accuracy\")\n",
    "plt.plot(x,test_acc,label=\"Testing Accuracy\")\n",
    "plt.title(\"Training and Testing Accuracies vs epochs\")\n",
    "plt.legend()\n",
    "plt.show()"
   ]
  },
  {
   "cell_type": "code",
   "execution_count": 26,
   "id": "04a6524e",
   "metadata": {
    "execution": {
     "iopub.execute_input": "2024-07-20T15:42:29.355867Z",
     "iopub.status.busy": "2024-07-20T15:42:29.355207Z",
     "iopub.status.idle": "2024-07-20T15:42:29.359635Z",
     "shell.execute_reply": "2024-07-20T15:42:29.358709Z"
    },
    "papermill": {
     "duration": 0.01882,
     "end_time": "2024-07-20T15:42:29.361499",
     "exception": false,
     "start_time": "2024-07-20T15:42:29.342679",
     "status": "completed"
    },
    "tags": []
   },
   "outputs": [],
   "source": [
    "torch.cuda.empty_cache()"
   ]
  },
  {
   "cell_type": "markdown",
   "id": "a890814b",
   "metadata": {
    "papermill": {
     "duration": 0.011901,
     "end_time": "2024-07-20T15:42:29.385220",
     "exception": false,
     "start_time": "2024-07-20T15:42:29.373319",
     "status": "completed"
    },
    "tags": []
   },
   "source": [
    "### Inference"
   ]
  },
  {
   "cell_type": "code",
   "execution_count": 27,
   "id": "5093f880",
   "metadata": {
    "execution": {
     "iopub.execute_input": "2024-07-20T15:42:29.410842Z",
     "iopub.status.busy": "2024-07-20T15:42:29.410567Z",
     "iopub.status.idle": "2024-07-20T15:42:33.992444Z",
     "shell.execute_reply": "2024-07-20T15:42:33.991556Z"
    },
    "papermill": {
     "duration": 4.597198,
     "end_time": "2024-07-20T15:42:33.994734",
     "exception": false,
     "start_time": "2024-07-20T15:42:29.397536",
     "status": "completed"
    },
    "tags": []
   },
   "outputs": [
    {
     "name": "stdout",
     "output_type": "stream",
     "text": [
      "Test loss:0.2841 | Test accuracy:88.50%\n"
     ]
    }
   ],
   "source": [
    "pred_labels=[]\n",
    "model_0.eval()\n",
    "with torch.inference_mode():\n",
    "    test_dataloader=DataLoader(dataset=test_data,\n",
    "                              batch_size=BATCH_SIZE,\n",
    "                              shuffle=True)\n",
    "    test_accuracy,test_loss=0,0\n",
    "    for test_labels,test_text in test_dataloader:\n",
    "            test_labels=test_labels.to(device)\n",
    "            test_text_tokens=data_transform(text_tokenizer(test_text)).to(device)\n",
    "\n",
    "            test_logits=model_0(test_text_tokens)\n",
    "            test_pred=torch.round(torch.sigmoid(test_logits.squeeze()))\n",
    "            pred_labels.extend(test_pred)\n",
    "            test_loss+=loss_fn(test_logits.squeeze(),test_labels.float())\n",
    "            test_accuracy+=accuracy_fn(y_true=test_labels,\n",
    "                                      y_pred=test_pred)\n",
    "\n",
    "    test_loss/=len(test_dataloader)\n",
    "    test_accuracy/=len(test_dataloader)\n",
    "\n",
    "    print(f\"Test loss:{test_loss:.4f} | Test accuracy:{test_accuracy:.2f}%\")"
   ]
  },
  {
   "cell_type": "code",
   "execution_count": 28,
   "id": "1cd080b2",
   "metadata": {
    "execution": {
     "iopub.execute_input": "2024-07-20T15:42:34.020710Z",
     "iopub.status.busy": "2024-07-20T15:42:34.020414Z",
     "iopub.status.idle": "2024-07-20T15:42:34.138757Z",
     "shell.execute_reply": "2024-07-20T15:42:34.138023Z"
    },
    "papermill": {
     "duration": 0.133494,
     "end_time": "2024-07-20T15:42:34.140684",
     "exception": false,
     "start_time": "2024-07-20T15:42:34.007190",
     "status": "completed"
    },
    "tags": []
   },
   "outputs": [],
   "source": [
    "pred_labels=[int(i.item()) for i in pred_labels]"
   ]
  },
  {
   "cell_type": "markdown",
   "id": "2bc7572f",
   "metadata": {
    "papermill": {
     "duration": 0.011541,
     "end_time": "2024-07-20T15:42:34.164139",
     "exception": false,
     "start_time": "2024-07-20T15:42:34.152598",
     "status": "completed"
    },
    "tags": []
   },
   "source": [
    "## Saving model weights(state_dict)"
   ]
  },
  {
   "cell_type": "code",
   "execution_count": 29,
   "id": "b8c000a9",
   "metadata": {
    "execution": {
     "iopub.execute_input": "2024-07-20T15:42:34.188885Z",
     "iopub.status.busy": "2024-07-20T15:42:34.188609Z",
     "iopub.status.idle": "2024-07-20T15:42:34.212556Z",
     "shell.execute_reply": "2024-07-20T15:42:34.211745Z"
    },
    "papermill": {
     "duration": 0.038582,
     "end_time": "2024-07-20T15:42:34.214593",
     "exception": false,
     "start_time": "2024-07-20T15:42:34.176011",
     "status": "completed"
    },
    "tags": []
   },
   "outputs": [],
   "source": [
    "model_0_state_dict=model_0.state_dict()\n",
    "path_0=\"/kaggle/working/model_0_weights.pkl\"\n",
    "\n",
    "with open(path_0,'wb') as f:\n",
    "    pickle.dump(model_0_state_dict,f)"
   ]
  },
  {
   "cell_type": "markdown",
   "id": "4ceb5eee",
   "metadata": {
    "papermill": {
     "duration": 0.011593,
     "end_time": "2024-07-20T15:42:34.238152",
     "exception": false,
     "start_time": "2024-07-20T15:42:34.226559",
     "status": "completed"
    },
    "tags": []
   },
   "source": [
    "## Saving model Predictions"
   ]
  },
  {
   "cell_type": "code",
   "execution_count": 30,
   "id": "6b5db002",
   "metadata": {
    "execution": {
     "iopub.execute_input": "2024-07-20T15:42:34.262957Z",
     "iopub.status.busy": "2024-07-20T15:42:34.262684Z",
     "iopub.status.idle": "2024-07-20T15:42:34.273332Z",
     "shell.execute_reply": "2024-07-20T15:42:34.272664Z"
    },
    "papermill": {
     "duration": 0.025296,
     "end_time": "2024-07-20T15:42:34.275156",
     "exception": false,
     "start_time": "2024-07-20T15:42:34.249860",
     "status": "completed"
    },
    "tags": []
   },
   "outputs": [],
   "source": [
    "with open(\"model_0_preds.csv\",'w') as f:\n",
    "    wobj=csv.writer(f)\n",
    "    for i in pred_labels:\n",
    "        wobj.writerow([i])"
   ]
  }
 ],
 "metadata": {
  "kaggle": {
   "accelerator": "nvidiaTeslaT4",
   "dataSources": [
    {
     "datasetId": 134715,
     "sourceId": 320111,
     "sourceType": "datasetVersion"
    }
   ],
   "dockerImageVersionId": 30732,
   "isGpuEnabled": true,
   "isInternetEnabled": false,
   "language": "python",
   "sourceType": "notebook"
  },
  "kernelspec": {
   "display_name": "Python 3",
   "language": "python",
   "name": "python3"
  },
  "language_info": {
   "codemirror_mode": {
    "name": "ipython",
    "version": 3
   },
   "file_extension": ".py",
   "mimetype": "text/x-python",
   "name": "python",
   "nbconvert_exporter": "python",
   "pygments_lexer": "ipython3",
   "version": "3.10.13"
  },
  "papermill": {
   "default_parameters": {},
   "duration": 257.498607,
   "end_time": "2024-07-20T15:42:36.748104",
   "environment_variables": {},
   "exception": null,
   "input_path": "__notebook__.ipynb",
   "output_path": "__notebook__.ipynb",
   "parameters": {},
   "start_time": "2024-07-20T15:38:19.249497",
   "version": "2.5.0"
  }
 },
 "nbformat": 4,
 "nbformat_minor": 5
}
