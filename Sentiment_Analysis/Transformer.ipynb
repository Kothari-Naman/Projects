{
 "cells": [
  {
   "cell_type": "markdown",
   "id": "e73bea54",
   "metadata": {},
   "source": [
    "kaggle dataset link - https://www.kaggle.com/datasets/lakshmi25npathi/imdb-dataset-of-50k-movie-reviews"
   ]
  },
  {
   "cell_type": "markdown",
   "id": "7ed4c37e",
   "metadata": {
    "papermill": {
     "duration": 0.008228,
     "end_time": "2024-07-20T17:09:08.153348",
     "exception": false,
     "start_time": "2024-07-20T17:09:08.145120",
     "status": "completed"
    },
    "tags": []
   },
   "source": [
    "## ***Pseudo Code***\n",
    "i chose to fit the data on the Distilbert Transformer\n",
    "\n",
    "**Preprocessing**\n",
    "\n",
    "Using DistilBertTokenizerFast i created `tokens` that is a dictionary consisting of keys : input_ids - tokens in form of tensors, attention_mask that indicates padding pattern ,fixing the max_length of each sentance to `128`.\n",
    "\n",
    "`labels` - list of all sentiment labels of the dataset\n",
    "\n",
    "Using torch.utils.data.TensorDataset i created training and testing datasets which i passed to DataLoader to make it iterable batchwise.\n",
    "\n",
    "**Transformer class**\n",
    "\n",
    "DistilBertConfig i sliced off an attention head and changed to hidden_size to *770* to adjust to the new num_attention-heads as given in the ps.\n",
    "\n",
    "My Model consists of  the distilbert transformer followed by a dropout layer (For Regularization)\n",
    "\n",
    "Upon trainng the model on the following hyperparameters i got a Test Accuracy close to ***84%***,the model returned the output and the attention weights (relative influence of each word on every other word - for plotting attention map)\n",
    "\n",
    "* Epochs - 4\n",
    "* lr - 3e-5\n",
    "* regularization factor - 1e-3\n",
    "* Batch size - 128\n",
    "\n",
    "\n",
    "`lr scheduler`-torch.optim.lr_schedulerReduceLROnPlateau : To reduce the lr by a factor 0.5 if the Test Accuracy doesn't increase.\n",
    "\n",
    "\n",
    "I noticed a big reduction in test accuracy from around ***90%*** to ***84%*** just by reducing one attention head indicating there are lesser Query,key,Value matrices in the transformer than before so lesser weights therefore lesser opportunities to learn.\n",
    "\n",
    "**Attention Map**\n",
    "\n",
    "Since i gave output_attentions=`True`, the model also returns attention weights of each head that has multiple layers.\n",
    "i used matplotlib matshow on the atttention weights on a sample review to plot the attention map.\n",
    "\n",
    "\n",
    "\n"
   ]
  },
  {
   "cell_type": "code",
   "execution_count": 1,
   "id": "572f9f1b",
   "metadata": {
    "_cell_guid": "b1076dfc-b9ad-4769-8c92-a6c4dae69d19",
    "_uuid": "8f2839f25d086af736a60e9eeb907d3b93b6e0e5",
    "execution": {
     "iopub.execute_input": "2024-07-20T17:09:08.169949Z",
     "iopub.status.busy": "2024-07-20T17:09:08.169642Z",
     "iopub.status.idle": "2024-07-20T17:09:09.073853Z",
     "shell.execute_reply": "2024-07-20T17:09:09.072978Z"
    },
    "papermill": {
     "duration": 0.915071,
     "end_time": "2024-07-20T17:09:09.076099",
     "exception": false,
     "start_time": "2024-07-20T17:09:08.161028",
     "status": "completed"
    },
    "tags": []
   },
   "outputs": [
    {
     "name": "stdout",
     "output_type": "stream",
     "text": [
      "/kaggle/input/imdb-dataset-of-50k-movie-reviews/IMDB Dataset.csv\n"
     ]
    }
   ],
   "source": [
    "# This Python 3 environment comes with many helpful analytics libraries installed\n",
    "# It is defined by the kaggle/python Docker image: https://github.com/kaggle/docker-python\n",
    "# For example, here's several helpful packages to load\n",
    "\n",
    "import numpy as np # linear algebra\n",
    "import pandas as pd # data processing, CSV file I/O (e.g. pd.read_csv)\n",
    "\n",
    "# Input data files are available in the read-only \"../input/\" directory\n",
    "# For example, running this (by clicking run or pressing Shift+Enter) will list all files under the input directory\n",
    "\n",
    "\n",
    "\n",
    "import os\n",
    "for dirname, _, filenames in os.walk('/kaggle/input'):\n",
    "    for filename in filenames:\n",
    "        print(os.path.join(dirname, filename))\n",
    "\n",
    "# You can write up to 20GB to the current directory (/kaggle/working/) that gets preserved as output when you create a version using \"Save & Run All\" \n",
    "# You can also write temporary files to /kaggle/temp/, but they won't be saved outside of the current session"
   ]
  },
  {
   "cell_type": "code",
   "execution_count": 2,
   "id": "86a20dd8",
   "metadata": {
    "execution": {
     "iopub.execute_input": "2024-07-20T17:09:09.093241Z",
     "iopub.status.busy": "2024-07-20T17:09:09.092871Z",
     "iopub.status.idle": "2024-07-20T17:09:15.053037Z",
     "shell.execute_reply": "2024-07-20T17:09:15.052091Z"
    },
    "papermill": {
     "duration": 5.971984,
     "end_time": "2024-07-20T17:09:15.056195",
     "exception": false,
     "start_time": "2024-07-20T17:09:09.084211",
     "status": "completed"
    },
    "tags": []
   },
   "outputs": [],
   "source": [
    "import torch\n",
    "from torch import nn\n",
    "from transformers import AutoModel,AutoTokenizer,DistilBertForSequenceClassification,DistilBertTokenizerFast,DistilBertConfig\n",
    "from torch.optim.lr_scheduler import ReduceLROnPlateau\n",
    "from torch.nn.parallel import DataParallel\n",
    "import matplotlib.pyplot as plt\n",
    "from torch.utils.data import DataLoader,TensorDataset\n",
    "import matplotlib.pyplot as plt\n",
    "from tqdm.auto import tqdm\n",
    "import pickle\n",
    "import csv"
   ]
  },
  {
   "cell_type": "code",
   "execution_count": 3,
   "id": "1caa7989",
   "metadata": {
    "execution": {
     "iopub.execute_input": "2024-07-20T17:09:15.079770Z",
     "iopub.status.busy": "2024-07-20T17:09:15.079337Z",
     "iopub.status.idle": "2024-07-20T17:09:16.472038Z",
     "shell.execute_reply": "2024-07-20T17:09:16.470964Z"
    },
    "papermill": {
     "duration": 1.406719,
     "end_time": "2024-07-20T17:09:16.474245",
     "exception": false,
     "start_time": "2024-07-20T17:09:15.067526",
     "status": "completed"
    },
    "tags": []
   },
   "outputs": [
    {
     "data": {
      "text/html": [
       "<div>\n",
       "<style scoped>\n",
       "    .dataframe tbody tr th:only-of-type {\n",
       "        vertical-align: middle;\n",
       "    }\n",
       "\n",
       "    .dataframe tbody tr th {\n",
       "        vertical-align: top;\n",
       "    }\n",
       "\n",
       "    .dataframe thead th {\n",
       "        text-align: right;\n",
       "    }\n",
       "</style>\n",
       "<table border=\"1\" class=\"dataframe\">\n",
       "  <thead>\n",
       "    <tr style=\"text-align: right;\">\n",
       "      <th></th>\n",
       "      <th>review</th>\n",
       "      <th>sentiment</th>\n",
       "    </tr>\n",
       "  </thead>\n",
       "  <tbody>\n",
       "    <tr>\n",
       "      <th>0</th>\n",
       "      <td>One of the other reviewers has mentioned that ...</td>\n",
       "      <td>positive</td>\n",
       "    </tr>\n",
       "    <tr>\n",
       "      <th>1</th>\n",
       "      <td>A wonderful little production. &lt;br /&gt;&lt;br /&gt;The...</td>\n",
       "      <td>positive</td>\n",
       "    </tr>\n",
       "    <tr>\n",
       "      <th>2</th>\n",
       "      <td>I thought this was a wonderful way to spend ti...</td>\n",
       "      <td>positive</td>\n",
       "    </tr>\n",
       "    <tr>\n",
       "      <th>3</th>\n",
       "      <td>Basically there's a family where a little boy ...</td>\n",
       "      <td>negative</td>\n",
       "    </tr>\n",
       "    <tr>\n",
       "      <th>4</th>\n",
       "      <td>Petter Mattei's \"Love in the Time of Money\" is...</td>\n",
       "      <td>positive</td>\n",
       "    </tr>\n",
       "  </tbody>\n",
       "</table>\n",
       "</div>"
      ],
      "text/plain": [
       "                                              review sentiment\n",
       "0  One of the other reviewers has mentioned that ...  positive\n",
       "1  A wonderful little production. <br /><br />The...  positive\n",
       "2  I thought this was a wonderful way to spend ti...  positive\n",
       "3  Basically there's a family where a little boy ...  negative\n",
       "4  Petter Mattei's \"Love in the Time of Money\" is...  positive"
      ]
     },
     "execution_count": 3,
     "metadata": {},
     "output_type": "execute_result"
    }
   ],
   "source": [
    "df=pd.read_csv(\"/kaggle/input/imdb-dataset-of-50k-movie-reviews/IMDB Dataset.csv\")\n",
    "df.head()"
   ]
  },
  {
   "cell_type": "code",
   "execution_count": 4,
   "id": "7f5d5309",
   "metadata": {
    "execution": {
     "iopub.execute_input": "2024-07-20T17:09:16.492839Z",
     "iopub.status.busy": "2024-07-20T17:09:16.492550Z",
     "iopub.status.idle": "2024-07-20T17:09:17.931892Z",
     "shell.execute_reply": "2024-07-20T17:09:17.931145Z"
    },
    "papermill": {
     "duration": 1.450952,
     "end_time": "2024-07-20T17:09:17.934213",
     "exception": false,
     "start_time": "2024-07-20T17:09:16.483261",
     "status": "completed"
    },
    "tags": []
   },
   "outputs": [],
   "source": [
    "l=[]\n",
    "for i in range(50000):\n",
    "    l.append(len(df.review[i].split(' ')))"
   ]
  },
  {
   "cell_type": "code",
   "execution_count": 5,
   "id": "b5fcc039",
   "metadata": {
    "execution": {
     "iopub.execute_input": "2024-07-20T17:09:17.952130Z",
     "iopub.status.busy": "2024-07-20T17:09:17.951818Z",
     "iopub.status.idle": "2024-07-20T17:09:17.963068Z",
     "shell.execute_reply": "2024-07-20T17:09:17.962137Z"
    },
    "papermill": {
     "duration": 0.022364,
     "end_time": "2024-07-20T17:09:17.965155",
     "exception": false,
     "start_time": "2024-07-20T17:09:17.942791",
     "status": "completed"
    },
    "tags": []
   },
   "outputs": [
    {
     "data": {
      "text/plain": [
       "231.14594"
      ]
     },
     "execution_count": 5,
     "metadata": {},
     "output_type": "execute_result"
    }
   ],
   "source": [
    "np.array(l).mean()"
   ]
  },
  {
   "cell_type": "code",
   "execution_count": 6,
   "id": "fbd71946",
   "metadata": {
    "execution": {
     "iopub.execute_input": "2024-07-20T17:09:17.983887Z",
     "iopub.status.busy": "2024-07-20T17:09:17.983634Z",
     "iopub.status.idle": "2024-07-20T17:09:18.099027Z",
     "shell.execute_reply": "2024-07-20T17:09:18.097835Z"
    },
    "papermill": {
     "duration": 0.127422,
     "end_time": "2024-07-20T17:09:18.101153",
     "exception": false,
     "start_time": "2024-07-20T17:09:17.973731",
     "status": "completed"
    },
    "tags": []
   },
   "outputs": [
    {
     "name": "stdout",
     "output_type": "stream",
     "text": [
      "Number of GPUs : 2\n"
     ]
    }
   ],
   "source": [
    "device=\"cuda\" if torch.cuda.is_available() else \"cpu\"\n",
    "if torch.cuda.device_count() > 1:\n",
    "    print(f'Number of GPUs : {torch.cuda.device_count()}')"
   ]
  },
  {
   "cell_type": "code",
   "execution_count": 7,
   "id": "ff9744b6",
   "metadata": {
    "execution": {
     "iopub.execute_input": "2024-07-20T17:09:18.119265Z",
     "iopub.status.busy": "2024-07-20T17:09:18.118988Z",
     "iopub.status.idle": "2024-07-20T17:09:19.313837Z",
     "shell.execute_reply": "2024-07-20T17:09:19.312875Z"
    },
    "papermill": {
     "duration": 1.206086,
     "end_time": "2024-07-20T17:09:19.316082",
     "exception": false,
     "start_time": "2024-07-20T17:09:18.109996",
     "status": "completed"
    },
    "tags": []
   },
   "outputs": [
    {
     "data": {
      "application/vnd.jupyter.widget-view+json": {
       "model_id": "1de655b3c06e4dc79ad7ef2776517c7e",
       "version_major": 2,
       "version_minor": 0
      },
      "text/plain": [
       "tokenizer_config.json:   0%|          | 0.00/48.0 [00:00<?, ?B/s]"
      ]
     },
     "metadata": {},
     "output_type": "display_data"
    },
    {
     "data": {
      "application/vnd.jupyter.widget-view+json": {
       "model_id": "22326b9e507c49bdbd07a32e912e121f",
       "version_major": 2,
       "version_minor": 0
      },
      "text/plain": [
       "vocab.txt:   0%|          | 0.00/232k [00:00<?, ?B/s]"
      ]
     },
     "metadata": {},
     "output_type": "display_data"
    },
    {
     "data": {
      "application/vnd.jupyter.widget-view+json": {
       "model_id": "7dfcbb48d1d74b09a07554d34d3c9665",
       "version_major": 2,
       "version_minor": 0
      },
      "text/plain": [
       "tokenizer.json:   0%|          | 0.00/466k [00:00<?, ?B/s]"
      ]
     },
     "metadata": {},
     "output_type": "display_data"
    },
    {
     "data": {
      "application/vnd.jupyter.widget-view+json": {
       "model_id": "8a260e8a3ad3485b8539f9fd2a5ad90c",
       "version_major": 2,
       "version_minor": 0
      },
      "text/plain": [
       "config.json:   0%|          | 0.00/483 [00:00<?, ?B/s]"
      ]
     },
     "metadata": {},
     "output_type": "display_data"
    }
   ],
   "source": [
    "tokenizer=DistilBertTokenizerFast.from_pretrained(\"distilbert-base-uncased\")"
   ]
  },
  {
   "cell_type": "code",
   "execution_count": 8,
   "id": "274e8b84",
   "metadata": {
    "execution": {
     "iopub.execute_input": "2024-07-20T17:09:19.336867Z",
     "iopub.status.busy": "2024-07-20T17:09:19.336549Z",
     "iopub.status.idle": "2024-07-20T17:09:44.298325Z",
     "shell.execute_reply": "2024-07-20T17:09:44.297535Z"
    },
    "papermill": {
     "duration": 24.974793,
     "end_time": "2024-07-20T17:09:44.300680",
     "exception": false,
     "start_time": "2024-07-20T17:09:19.325887",
     "status": "completed"
    },
    "tags": []
   },
   "outputs": [],
   "source": [
    "tokens=tokenizer(list(df.review),padding=True,truncation=True,max_length=128,return_tensors=\"pt\")\n",
    "labels=[1 if y=='positive' else 0 for y in df.sentiment]\n"
   ]
  },
  {
   "cell_type": "code",
   "execution_count": 9,
   "id": "c82255be",
   "metadata": {
    "execution": {
     "iopub.execute_input": "2024-07-20T17:09:44.320082Z",
     "iopub.status.busy": "2024-07-20T17:09:44.319793Z",
     "iopub.status.idle": "2024-07-20T17:09:44.361001Z",
     "shell.execute_reply": "2024-07-20T17:09:44.360333Z"
    },
    "papermill": {
     "duration": 0.053008,
     "end_time": "2024-07-20T17:09:44.362913",
     "exception": false,
     "start_time": "2024-07-20T17:09:44.309905",
     "status": "completed"
    },
    "tags": []
   },
   "outputs": [],
   "source": [
    "BATCH_SIZE=128\n",
    "torch.manual_seed(42)\n",
    "torch.cuda.manual_seed(42)\n",
    "train_split=int(0.8*len(labels))\n",
    "input_ids =tokens['input_ids']\n",
    "attention_mask = tokens['attention_mask']\n",
    "labels=torch.tensor(labels)\n",
    "\n",
    "train_dataset=TensorDataset(input_ids[:train_split],attention_mask[:train_split],labels[:train_split])\n",
    "test_dataset=TensorDataset(input_ids[train_split:],attention_mask[train_split:],labels[train_split:])\n",
    "\n",
    "train_dataloader=DataLoader(train_dataset,batch_size=BATCH_SIZE,shuffle=True)\n",
    "test_dataloader=DataLoader(test_dataset,batch_size=BATCH_SIZE,shuffle=False)"
   ]
  },
  {
   "cell_type": "code",
   "execution_count": 10,
   "id": "32555af2",
   "metadata": {
    "execution": {
     "iopub.execute_input": "2024-07-20T17:09:44.381986Z",
     "iopub.status.busy": "2024-07-20T17:09:44.381308Z",
     "iopub.status.idle": "2024-07-20T17:09:44.387301Z",
     "shell.execute_reply": "2024-07-20T17:09:44.386429Z"
    },
    "papermill": {
     "duration": 0.017677,
     "end_time": "2024-07-20T17:09:44.389478",
     "exception": false,
     "start_time": "2024-07-20T17:09:44.371801",
     "status": "completed"
    },
    "tags": []
   },
   "outputs": [],
   "source": [
    "class Transformer(nn.Module):\n",
    "    def __init__(self):\n",
    "        super().__init__()\n",
    "        config = DistilBertConfig.from_pretrained(\"distilbert-base-uncased\",output_attentions=True)\n",
    "        config.num_attention_heads -= 1\n",
    "        config.hidden_size=770\n",
    "        self.distilbert=DistilBertForSequenceClassification(config)\n",
    "        \n",
    "\n",
    "        self.drop=nn.Dropout(0.5)\n",
    "    def forward(self,input_ids,attention_mask):\n",
    "        out=self.distilbert(input_ids=input_ids,attention_mask=attention_mask)\n",
    "        return  self.drop(out.logits),out.attentions\n",
    "        "
   ]
  },
  {
   "cell_type": "code",
   "execution_count": 11,
   "id": "7666ef1b",
   "metadata": {
    "execution": {
     "iopub.execute_input": "2024-07-20T17:09:44.408176Z",
     "iopub.status.busy": "2024-07-20T17:09:44.407896Z",
     "iopub.status.idle": "2024-07-20T17:09:45.976495Z",
     "shell.execute_reply": "2024-07-20T17:09:45.975577Z"
    },
    "papermill": {
     "duration": 1.580674,
     "end_time": "2024-07-20T17:09:45.978861",
     "exception": false,
     "start_time": "2024-07-20T17:09:44.398187",
     "status": "completed"
    },
    "tags": []
   },
   "outputs": [],
   "source": [
    "model_0 = Transformer().to(device)\n",
    "model_0=DataParallel(model_0)# To utilize both T4 GPUs"
   ]
  },
  {
   "cell_type": "code",
   "execution_count": 12,
   "id": "be21bde7",
   "metadata": {
    "execution": {
     "iopub.execute_input": "2024-07-20T17:09:45.998286Z",
     "iopub.status.busy": "2024-07-20T17:09:45.997949Z",
     "iopub.status.idle": "2024-07-20T17:09:46.661703Z",
     "shell.execute_reply": "2024-07-20T17:09:46.660694Z"
    },
    "papermill": {
     "duration": 0.676479,
     "end_time": "2024-07-20T17:09:46.664530",
     "exception": false,
     "start_time": "2024-07-20T17:09:45.988051",
     "status": "completed"
    },
    "tags": []
   },
   "outputs": [],
   "source": [
    "loss_fn=nn.CrossEntropyLoss()\n",
    "optimizer=torch.optim.AdamW(params=model_0.parameters(),\n",
    "                          lr=3e-5,weight_decay=1e-3)\n",
    "\n",
    "\n",
    "lr_scheduler=ReduceLROnPlateau(optimizer=optimizer,factor=0.5,patience=1,mode='max')"
   ]
  },
  {
   "cell_type": "code",
   "execution_count": 13,
   "id": "353ac898",
   "metadata": {
    "execution": {
     "iopub.execute_input": "2024-07-20T17:09:46.685913Z",
     "iopub.status.busy": "2024-07-20T17:09:46.685500Z",
     "iopub.status.idle": "2024-07-20T17:09:46.689960Z",
     "shell.execute_reply": "2024-07-20T17:09:46.689131Z"
    },
    "papermill": {
     "duration": 0.01608,
     "end_time": "2024-07-20T17:09:46.691948",
     "exception": false,
     "start_time": "2024-07-20T17:09:46.675868",
     "status": "completed"
    },
    "tags": []
   },
   "outputs": [],
   "source": [
    "def accuracy_fn(y_true,y_pred):\n",
    "    correct=(y_true==y_pred).sum()\n",
    "    return correct/len(y_true)*100"
   ]
  },
  {
   "cell_type": "code",
   "execution_count": 14,
   "id": "04ba3c5c",
   "metadata": {
    "execution": {
     "iopub.execute_input": "2024-07-20T17:09:46.710773Z",
     "iopub.status.busy": "2024-07-20T17:09:46.710529Z",
     "iopub.status.idle": "2024-07-20T17:29:34.103316Z",
     "shell.execute_reply": "2024-07-20T17:29:34.102318Z"
    },
    "papermill": {
     "duration": 1187.414282,
     "end_time": "2024-07-20T17:29:34.115218",
     "exception": false,
     "start_time": "2024-07-20T17:09:46.700936",
     "status": "completed"
    },
    "tags": []
   },
   "outputs": [
    {
     "data": {
      "application/vnd.jupyter.widget-view+json": {
       "model_id": "a3bc2c00b1fa40c1a661141c7cfd6766",
       "version_major": 2,
       "version_minor": 0
      },
      "text/plain": [
       "Training epoch: 0:   0%|          | 0/313 [00:00<?, ?batch/s]"
      ]
     },
     "metadata": {},
     "output_type": "display_data"
    },
    {
     "name": "stdout",
     "output_type": "stream",
     "text": [
      "Train loss:0.6029 | Train Accuracy:63.41% | Test Loss:0.4107 | Test Accuracy:81.02%\n"
     ]
    },
    {
     "data": {
      "application/vnd.jupyter.widget-view+json": {
       "model_id": "188003ee9eaa46abbbfd569ff6198def",
       "version_major": 2,
       "version_minor": 0
      },
      "text/plain": [
       "Training epoch: 1:   0%|          | 0/313 [00:00<?, ?batch/s]"
      ]
     },
     "metadata": {},
     "output_type": "display_data"
    },
    {
     "name": "stdout",
     "output_type": "stream",
     "text": [
      "Train loss:0.4575 | Train Accuracy:75.42% | Test Loss:0.3745 | Test Accuracy:83.20%\n"
     ]
    },
    {
     "data": {
      "application/vnd.jupyter.widget-view+json": {
       "model_id": "9c276bbfe2f04ff397ec04cb36458f95",
       "version_major": 2,
       "version_minor": 0
      },
      "text/plain": [
       "Training epoch: 2:   0%|          | 0/313 [00:00<?, ?batch/s]"
      ]
     },
     "metadata": {},
     "output_type": "display_data"
    },
    {
     "name": "stdout",
     "output_type": "stream",
     "text": [
      "Train loss:0.4171 | Train Accuracy:77.71% | Test Loss:0.3646 | Test Accuracy:83.68%\n"
     ]
    },
    {
     "data": {
      "application/vnd.jupyter.widget-view+json": {
       "model_id": "1c269adcda2c4e1698575f5462db7404",
       "version_major": 2,
       "version_minor": 0
      },
      "text/plain": [
       "Training epoch: 3:   0%|          | 0/313 [00:00<?, ?batch/s]"
      ]
     },
     "metadata": {},
     "output_type": "display_data"
    },
    {
     "name": "stdout",
     "output_type": "stream",
     "text": [
      "Train loss:0.3893 | Train Accuracy:79.04% | Test Loss:0.3642 | Test Accuracy:83.70%\n"
     ]
    }
   ],
   "source": [
    "train_losses=[]\n",
    "test_losses=[]\n",
    "train_accuracies=[]\n",
    "test_accuracies=[]\n",
    "epochs=4\n",
    "for epoch in range(epochs):\n",
    "    model_0.train()\n",
    "    train_loss,train_acc=0,0\n",
    "    test_loss,test_acc=0,0\n",
    "    for batch in tqdm(train_dataloader,desc=f\"Training epoch: {epoch}\",total=len(train_dataloader),unit='batch'):\n",
    "        batch=tuple(x.to(device) for x in batch)\n",
    "        input_ids,attention_mask,labels=batch\n",
    "        logits,_=model_0(input_ids,attention_mask)\n",
    "        \n",
    "        loss=loss_fn(logits,labels)\n",
    "        train_loss+=loss\n",
    "        \n",
    "        acc=accuracy_fn(y_true=labels,y_pred=logits.softmax(dim=1).argmax(dim=1))\n",
    "        train_acc+=acc\n",
    "        optimizer.zero_grad()\n",
    "        loss.backward()\n",
    "        optimizer.step()\n",
    "    train_loss/=len(train_dataloader)\n",
    "    train_acc/=len(train_dataloader)\n",
    "        \n",
    "        \n",
    "    model_0.eval()\n",
    "    with torch.inference_mode():\n",
    "        for test_batch in test_dataloader:\n",
    "            test_batch=tuple(x.to(device) for x in test_batch)\n",
    "            input_ids,attention_mask,test_labels=test_batch\n",
    "            test_logits,_=model_0(input_ids,attention_mask)\n",
    "            test_loss+=loss_fn(test_logits,test_labels)\n",
    "            test_acc+=accuracy_fn(y_true=test_labels,y_pred=test_logits.softmax(dim=1).argmax(dim=1))\n",
    "            \n",
    "        test_acc/=len(test_dataloader)\n",
    "        test_loss/=len(test_dataloader)\n",
    "    \n",
    "    lr_scheduler.step(test_acc)\n",
    "    train_losses.append(train_loss.item())\n",
    "    train_accuracies.append(train_acc.item())\n",
    "    test_losses.append(test_loss.item())\n",
    "    test_accuracies.append(test_acc.item())\n",
    "    print(f\"Train loss:{train_loss:.4f} | Train Accuracy:{train_acc:.2f}% | Test Loss:{test_loss:.4f} | Test Accuracy:{test_acc:.2f}%\")  \n",
    "        "
   ]
  },
  {
   "cell_type": "code",
   "execution_count": 15,
   "id": "c9dd2cbf",
   "metadata": {
    "execution": {
     "iopub.execute_input": "2024-07-20T17:29:34.137047Z",
     "iopub.status.busy": "2024-07-20T17:29:34.136724Z",
     "iopub.status.idle": "2024-07-20T17:29:34.794500Z",
     "shell.execute_reply": "2024-07-20T17:29:34.793606Z"
    },
    "papermill": {
     "duration": 0.671296,
     "end_time": "2024-07-20T17:29:34.796976",
     "exception": false,
     "start_time": "2024-07-20T17:29:34.125680",
     "status": "completed"
    },
    "tags": []
   },
   "outputs": [
    {
     "data": {
      "text/plain": [
       "Text(0.5, 1.0, 'Training and Testing Accuracy vs epochs')"
      ]
     },
     "execution_count": 15,
     "metadata": {},
     "output_type": "execute_result"
    },
    {
     "data": {
      "image/png": "[encoded data removed]",
      "text/plain": [
       "<Figure size 1200x800 with 2 Axes>"
      ]
     },
     "metadata": {},
     "output_type": "display_data"
    }
   ],
   "source": [
    "x=[i for i in range(epochs)]\n",
    "plt.figure(figsize=(12,8))\n",
    "\n",
    "plt.subplot(1,2,1)\n",
    "plt.plot(x,train_losses,label=\"Train Loss\")\n",
    "plt.plot(x,test_losses,label=\"Test Loss\")\n",
    "plt.legend()\n",
    "plt.title(\"Training and Testing losses vs epochs\")\n",
    "\n",
    "plt.subplot(1,2,2)\n",
    "plt.plot(x,train_accuracies,label=\"Train Accuracy\")\n",
    "plt.plot(x,test_accuracies,label=\"Test Accuracy\")\n",
    "plt.legend()\n",
    "plt.title(\"Training and Testing Accuracy vs epochs\")"
   ]
  },
  {
   "cell_type": "markdown",
   "id": "39a50167",
   "metadata": {
    "papermill": {
     "duration": 0.010491,
     "end_time": "2024-07-20T17:29:34.818511",
     "exception": false,
     "start_time": "2024-07-20T17:29:34.808020",
     "status": "completed"
    },
    "tags": []
   },
   "source": [
    "## Evaluation"
   ]
  },
  {
   "cell_type": "code",
   "execution_count": 16,
   "id": "cf3dd3a6",
   "metadata": {
    "execution": {
     "iopub.execute_input": "2024-07-20T17:29:34.841353Z",
     "iopub.status.busy": "2024-07-20T17:29:34.841049Z",
     "iopub.status.idle": "2024-07-20T17:30:02.040657Z",
     "shell.execute_reply": "2024-07-20T17:30:02.039730Z"
    },
    "papermill": {
     "duration": 27.213595,
     "end_time": "2024-07-20T17:30:02.042932",
     "exception": false,
     "start_time": "2024-07-20T17:29:34.829337",
     "status": "completed"
    },
    "tags": []
   },
   "outputs": [
    {
     "name": "stdout",
     "output_type": "stream",
     "text": [
      "Test Loss:0.3663013279438019 | Test Accuracy:83.77175903320312\n"
     ]
    }
   ],
   "source": [
    "pred_labels=[]\n",
    "test_dataloader=DataLoader(test_dataset,batch_size=BATCH_SIZE,shuffle=True)\n",
    "test_acc,test_loss=0,0\n",
    "model_0.eval()\n",
    "with torch.inference_mode():\n",
    "    for test_batch in test_dataloader:\n",
    "        test_batch=tuple(x.to(device) for x in test_batch)\n",
    "        input_ids,attention_mask,test_labels=test_batch\n",
    "        test_logits,_=model_0(input_ids,attention_mask)\n",
    "        test_loss+=loss_fn(test_logits,test_labels)\n",
    "        test_preds=test_logits.softmax(dim=1).argmax(dim=1)\n",
    "        test_acc+=accuracy_fn(y_true=test_labels,y_pred=test_preds)\n",
    "        \n",
    "        pred_labels.extend(test_preds)\n",
    "\n",
    "    test_acc/=len(test_dataloader)\n",
    "    test_loss/=len(test_dataloader)\n",
    "print(f\"Test Loss:{test_loss} | Test Accuracy:{test_acc}\")"
   ]
  },
  {
   "cell_type": "code",
   "execution_count": 17,
   "id": "2b6a5a7e",
   "metadata": {
    "execution": {
     "iopub.execute_input": "2024-07-20T17:30:02.066474Z",
     "iopub.status.busy": "2024-07-20T17:30:02.066136Z",
     "iopub.status.idle": "2024-07-20T17:30:02.183844Z",
     "shell.execute_reply": "2024-07-20T17:30:02.183064Z"
    },
    "papermill": {
     "duration": 0.13208,
     "end_time": "2024-07-20T17:30:02.186160",
     "exception": false,
     "start_time": "2024-07-20T17:30:02.054080",
     "status": "completed"
    },
    "tags": []
   },
   "outputs": [],
   "source": [
    "pred_labels=[int(i.item()) for i in pred_labels]"
   ]
  },
  {
   "cell_type": "markdown",
   "id": "09062ea5",
   "metadata": {
    "papermill": {
     "duration": 0.011426,
     "end_time": "2024-07-20T17:30:02.208964",
     "exception": false,
     "start_time": "2024-07-20T17:30:02.197538",
     "status": "completed"
    },
    "tags": []
   },
   "source": [
    "## Visualising an attention map for a random sample using attention weights\n",
    "\n",
    "\n"
   ]
  },
  {
   "cell_type": "code",
   "execution_count": 18,
   "id": "a20f1e19",
   "metadata": {
    "execution": {
     "iopub.execute_input": "2024-07-20T17:30:02.233571Z",
     "iopub.status.busy": "2024-07-20T17:30:02.232955Z",
     "iopub.status.idle": "2024-07-20T17:30:03.628360Z",
     "shell.execute_reply": "2024-07-20T17:30:03.627534Z"
    },
    "papermill": {
     "duration": 1.410483,
     "end_time": "2024-07-20T17:30:03.630825",
     "exception": false,
     "start_time": "2024-07-20T17:30:02.220342",
     "status": "completed"
    },
    "tags": []
   },
   "outputs": [],
   "source": [
    "sample_text='This was an amazing movie, must watch!'\n",
    "tokens=tokenizer(sample_text,padding=True,truncation=True,max_length=128,return_tensors=\"pt\")\n",
    "\n",
    "model_0.eval()\n",
    "with torch.inference_mode():\n",
    "    output,attention_weights=model_0(tokens['input_ids'],tokens['attention_mask'])#\n",
    "\n",
    "    \n",
    "    "
   ]
  },
  {
   "cell_type": "code",
   "execution_count": 19,
   "id": "5895269d",
   "metadata": {
    "execution": {
     "iopub.execute_input": "2024-07-20T17:30:03.657047Z",
     "iopub.status.busy": "2024-07-20T17:30:03.656752Z",
     "iopub.status.idle": "2024-07-20T17:30:03.663227Z",
     "shell.execute_reply": "2024-07-20T17:30:03.662364Z"
    },
    "papermill": {
     "duration": 0.021413,
     "end_time": "2024-07-20T17:30:03.664998",
     "exception": false,
     "start_time": "2024-07-20T17:30:03.643585",
     "status": "completed"
    },
    "tags": []
   },
   "outputs": [
    {
     "data": {
      "text/plain": [
       "tensor([1], device='cuda:0')"
      ]
     },
     "execution_count": 19,
     "metadata": {},
     "output_type": "execute_result"
    }
   ],
   "source": [
    "output.softmax(dim=1).argmax(dim=1)\n",
    "#outputs 1 -> Positive"
   ]
  },
  {
   "cell_type": "code",
   "execution_count": 20,
   "id": "66ea14b8",
   "metadata": {
    "execution": {
     "iopub.execute_input": "2024-07-20T17:30:03.688537Z",
     "iopub.status.busy": "2024-07-20T17:30:03.688234Z",
     "iopub.status.idle": "2024-07-20T17:30:03.693936Z",
     "shell.execute_reply": "2024-07-20T17:30:03.693118Z"
    },
    "papermill": {
     "duration": 0.019501,
     "end_time": "2024-07-20T17:30:03.695748",
     "exception": false,
     "start_time": "2024-07-20T17:30:03.676247",
     "status": "completed"
    },
    "tags": []
   },
   "outputs": [
    {
     "data": {
      "text/plain": [
       "torch.Size([1, 11, 11, 11])"
      ]
     },
     "execution_count": 20,
     "metadata": {},
     "output_type": "execute_result"
    }
   ],
   "source": [
    "attention_weights[5].shape #11 attention heads"
   ]
  },
  {
   "cell_type": "code",
   "execution_count": 21,
   "id": "7aedf099",
   "metadata": {
    "execution": {
     "iopub.execute_input": "2024-07-20T17:30:03.719817Z",
     "iopub.status.busy": "2024-07-20T17:30:03.719015Z",
     "iopub.status.idle": "2024-07-20T17:30:03.725498Z",
     "shell.execute_reply": "2024-07-20T17:30:03.724661Z"
    },
    "papermill": {
     "duration": 0.020496,
     "end_time": "2024-07-20T17:30:03.727333",
     "exception": false,
     "start_time": "2024-07-20T17:30:03.706837",
     "status": "completed"
    },
    "tags": []
   },
   "outputs": [
    {
     "data": {
      "text/plain": [
       "tensor([[ 101, 2023, 2001, 2019, 6429, 3185, 1010, 2442, 3422,  999,  102]])"
      ]
     },
     "execution_count": 21,
     "metadata": {},
     "output_type": "execute_result"
    }
   ],
   "source": [
    "tokens['input_ids']"
   ]
  },
  {
   "cell_type": "code",
   "execution_count": 22,
   "id": "2e4a74e7",
   "metadata": {
    "execution": {
     "iopub.execute_input": "2024-07-20T17:30:03.751078Z",
     "iopub.status.busy": "2024-07-20T17:30:03.750833Z",
     "iopub.status.idle": "2024-07-20T17:30:03.755842Z",
     "shell.execute_reply": "2024-07-20T17:30:03.755151Z"
    },
    "papermill": {
     "duration": 0.019052,
     "end_time": "2024-07-20T17:30:03.757640",
     "exception": false,
     "start_time": "2024-07-20T17:30:03.738588",
     "status": "completed"
    },
    "tags": []
   },
   "outputs": [],
   "source": [
    "words=tokenizer.convert_ids_to_tokens(tokens['input_ids'][0])\n",
    "attention=attention_weights[0][0][0].cpu().numpy()"
   ]
  },
  {
   "cell_type": "code",
   "execution_count": 23,
   "id": "d6805c79",
   "metadata": {
    "execution": {
     "iopub.execute_input": "2024-07-20T17:30:03.781353Z",
     "iopub.status.busy": "2024-07-20T17:30:03.781064Z",
     "iopub.status.idle": "2024-07-20T17:30:04.196970Z",
     "shell.execute_reply": "2024-07-20T17:30:04.196044Z"
    },
    "papermill": {
     "duration": 0.430631,
     "end_time": "2024-07-20T17:30:04.199655",
     "exception": false,
     "start_time": "2024-07-20T17:30:03.769024",
     "status": "completed"
    },
    "tags": []
   },
   "outputs": [
    {
     "data": {
      "image/png": "[encoded data removed]",
      "text/plain": [
       "<Figure size 1500x900 with 2 Axes>"
      ]
     },
     "metadata": {},
     "output_type": "display_data"
    }
   ],
   "source": [
    "ig, ax = plt.subplots(figsize=(15,9))\n",
    "cax = ax.matshow(attention, cmap='YlOrRd')\n",
    "\n",
    "ax.set_xticks(range(len(words)))\n",
    "ax.set_xticklabels(words, rotation=90)\n",
    "ax.set_yticks(range(len(words)))\n",
    "ax.set_yticklabels(words)\n",
    "\n",
    "# Show color bar\n",
    "plt.colorbar(cax)\n",
    "\n",
    "# Show the plot\n",
    "plt.show()"
   ]
  },
  {
   "cell_type": "markdown",
   "id": "09d48dd9",
   "metadata": {
    "papermill": {
     "duration": 0.011632,
     "end_time": "2024-07-20T17:30:04.224094",
     "exception": false,
     "start_time": "2024-07-20T17:30:04.212462",
     "status": "completed"
    },
    "tags": []
   },
   "source": [
    "## Saving model weights (state dict)"
   ]
  },
  {
   "cell_type": "code",
   "execution_count": 24,
   "id": "d77c283c",
   "metadata": {
    "execution": {
     "iopub.execute_input": "2024-07-20T17:30:04.250646Z",
     "iopub.status.busy": "2024-07-20T17:30:04.249783Z",
     "iopub.status.idle": "2024-07-20T17:30:04.827175Z",
     "shell.execute_reply": "2024-07-20T17:30:04.826197Z"
    },
    "papermill": {
     "duration": 0.592959,
     "end_time": "2024-07-20T17:30:04.829543",
     "exception": false,
     "start_time": "2024-07-20T17:30:04.236584",
     "status": "completed"
    },
    "tags": []
   },
   "outputs": [],
   "source": [
    "model_0_state_dict=model_0.state_dict()\n",
    "path_0=\"/kaggle/working/model_0_weights.pkl\"\n",
    "\n",
    "with open(path_0,'wb') as f:\n",
    "    pickle.dump(model_0_state_dict,f)"
   ]
  },
  {
   "cell_type": "markdown",
   "id": "af8e1349",
   "metadata": {
    "papermill": {
     "duration": 0.011709,
     "end_time": "2024-07-20T17:30:04.853468",
     "exception": false,
     "start_time": "2024-07-20T17:30:04.841759",
     "status": "completed"
    },
    "tags": []
   },
   "source": [
    "## Saving model Predictions"
   ]
  },
  {
   "cell_type": "code",
   "execution_count": 25,
   "id": "5182f44c",
   "metadata": {
    "execution": {
     "iopub.execute_input": "2024-07-20T17:30:04.878329Z",
     "iopub.status.busy": "2024-07-20T17:30:04.878005Z",
     "iopub.status.idle": "2024-07-20T17:30:04.889589Z",
     "shell.execute_reply": "2024-07-20T17:30:04.888877Z"
    },
    "papermill": {
     "duration": 0.026191,
     "end_time": "2024-07-20T17:30:04.891416",
     "exception": false,
     "start_time": "2024-07-20T17:30:04.865225",
     "status": "completed"
    },
    "tags": []
   },
   "outputs": [],
   "source": [
    "with open(\"model_0_preds.csv\",'w') as f:\n",
    "    wobj=csv.writer(f)\n",
    "    for i in pred_labels:\n",
    "        wobj.writerow([i])"
   ]
  }
 ],
 "metadata": {
  "kaggle": {
   "accelerator": "nvidiaTeslaT4",
   "dataSources": [
    {
     "datasetId": 134715,
     "sourceId": 320111,
     "sourceType": "datasetVersion"
    }
   ],
   "dockerImageVersionId": 30746,
   "isGpuEnabled": true,
   "isInternetEnabled": true,
   "language": "python",
   "sourceType": "notebook"
  },
  "kernelspec": {
   "display_name": "Python 3",
   "language": "python",
   "name": "python3"
  },
  "language_info": {
   "codemirror_mode": {
    "name": "ipython",
    "version": 3
   },
   "file_extension": ".py",
   "mimetype": "text/x-python",
   "name": "python",
   "nbconvert_exporter": "python",
   "pygments_lexer": "ipython3",
   "version": "3.10.13"
  },
  "papermill": {
   "default_parameters": {},
   "duration": 1262.910747,
   "end_time": "2024-07-20T17:30:08.022247",
   "environment_variables": {},
   "exception": null,
   "input_path": "__notebook__.ipynb",
   "output_path": "__notebook__.ipynb",
   "parameters": {},
   "start_time": "2024-07-20T17:09:05.111500",
   "version": "2.5.0"
  },
  "widgets": {
   "application/vnd.jupyter.widget-state+json": {
    "state": {
     "010995f1f0134c1e9a74670a0f3a218c": {
      "model_module": "@jupyter-widgets/base",
      "model_module_version": "1.2.0",
      "model_name": "LayoutModel",
      "state": {
       "_model_module": "@jupyter-widgets/base",
       "_model_module_version": "1.2.0",
       "_model_name": "LayoutModel",
       "_view_count": null,
       "_view_module": "@jupyter-widgets/base",
       "_view_module_version": "1.2.0",
       "_view_name": "LayoutView",
       "align_content": null,
       "align_items": null,
       "align_self": null,
       "border": null,
       "bottom": null,
       "display": null,
       "flex": null,
       "flex_flow": null,
       "grid_area": null,
       "grid_auto_columns": null,
       "grid_auto_flow": null,
       "grid_auto_rows": null,
       "grid_column": null,
       "grid_gap": null,
       "grid_row": null,
       "grid_template_areas": null,
       "grid_template_columns": null,
       "grid_template_rows": null,
       "height": null,
       "justify_content": null,
       "justify_items": null,
       "left": null,
       "margin": null,
       "max_height": null,
       "max_width": null,
       "min_height": null,
       "min_width": null,
       "object_fit": null,
       "object_position": null,
       "order": null,
       "overflow": null,
       "overflow_x": null,
       "overflow_y": null,
       "padding": null,
       "right": null,
       "top": null,
       "visibility": null,
       "width": null
      }
     },
     "031c4012acd64a449b0942ed7c438150": {
      "model_module": "@jupyter-widgets/controls",
      "model_module_version": "1.5.0",
      "model_name": "DescriptionStyleModel",
      "state": {
       "_model_module": "@jupyter-widgets/controls",
       "_model_module_version": "1.5.0",
       "_model_name": "DescriptionStyleModel",
       "_view_count": null,
       "_view_module": "@jupyter-widgets/base",
       "_view_module_version": "1.2.0",
       "_view_name": "StyleView",
       "description_width": ""
      }
     },
     "09c43534206a4d069d2754280fbcc0ed": {
      "model_module": "@jupyter-widgets/controls",
      "model_module_version": "1.5.0",
      "model_name": "DescriptionStyleModel",
      "state": {
       "_model_module": "@jupyter-widgets/controls",
       "_model_module_version": "1.5.0",
       "_model_name": "DescriptionStyleModel",
       "_view_count": null,
       "_view_module": "@jupyter-widgets/base",
       "_view_module_version": "1.2.0",
       "_view_name": "StyleView",
       "description_width": ""
      }
     },
     "0a7a58e9db0547f78c5de758425957ec": {
      "model_module": "@jupyter-widgets/base",
      "model_module_version": "1.2.0",
      "model_name": "LayoutModel",
      "state": {
       "_model_module": "@jupyter-widgets/base",
       "_model_module_version": "1.2.0",
       "_model_name": "LayoutModel",
       "_view_count": null,
       "_view_module": "@jupyter-widgets/base",
       "_view_module_version": "1.2.0",
       "_view_name": "LayoutView",
       "align_content": null,
       "align_items": null,
       "align_self": null,
       "border": null,
       "bottom": null,
       "display": null,
       "flex": null,
       "flex_flow": null,
       "grid_area": null,
       "grid_auto_columns": null,
       "grid_auto_flow": null,
       "grid_auto_rows": null,
       "grid_column": null,
       "grid_gap": null,
       "grid_row": null,
       "grid_template_areas": null,
       "grid_template_columns": null,
       "grid_template_rows": null,
       "height": null,
       "justify_content": null,
       "justify_items": null,
       "left": null,
       "margin": null,
       "max_height": null,
       "max_width": null,
       "min_height": null,
       "min_width": null,
       "object_fit": null,
       "object_position": null,
       "order": null,
       "overflow": null,
       "overflow_x": null,
       "overflow_y": null,
       "padding": null,
       "right": null,
       "top": null,
       "visibility": null,
       "width": null
      }
     },
     "0b69e96f9f9a4de98bd65682ffbc8cd9": {
      "model_module": "@jupyter-widgets/base",
      "model_module_version": "1.2.0",
      "model_name": "LayoutModel",
      "state": {
       "_model_module": "@jupyter-widgets/base",
       "_model_module_version": "1.2.0",
       "_model_name": "LayoutModel",
       "_view_count": null,
       "_view_module": "@jupyter-widgets/base",
       "_view_module_version": "1.2.0",
       "_view_name": "LayoutView",
       "align_content": null,
       "align_items": null,
       "align_self": null,
       "border": null,
       "bottom": null,
       "display": null,
       "flex": null,
       "flex_flow": null,
       "grid_area": null,
       "grid_auto_columns": null,
       "grid_auto_flow": null,
       "grid_auto_rows": null,
       "grid_column": null,
       "grid_gap": null,
       "grid_row": null,
       "grid_template_areas": null,
       "grid_template_columns": null,
       "grid_template_rows": null,
       "height": null,
       "justify_content": null,
       "justify_items": null,
       "left": null,
       "margin": null,
       "max_height": null,
       "max_width": null,
       "min_height": null,
       "min_width": null,
       "object_fit": null,
       "object_position": null,
       "order": null,
       "overflow": null,
       "overflow_x": null,
       "overflow_y": null,
       "padding": null,
       "right": null,
       "top": null,
       "visibility": null,
       "width": null
      }
     },
     "137707da2ef440329549321f9251659b": {
      "model_module": "@jupyter-widgets/controls",
      "model_module_version": "1.5.0",
      "model_name": "DescriptionStyleModel",
      "state": {
       "_model_module": "@jupyter-widgets/controls",
       "_model_module_version": "1.5.0",
       "_model_name": "DescriptionStyleModel",
       "_view_count": null,
       "_view_module": "@jupyter-widgets/base",
       "_view_module_version": "1.2.0",
       "_view_name": "StyleView",
       "description_width": ""
      }
     },
     "168c6030214e4c289b7a3a2a754da656": {
      "model_module": "@jupyter-widgets/controls",
      "model_module_version": "1.5.0",
      "model_name": "DescriptionStyleModel",
      "state": {
       "_model_module": "@jupyter-widgets/controls",
       "_model_module_version": "1.5.0",
       "_model_name": "DescriptionStyleModel",
       "_view_count": null,
       "_view_module": "@jupyter-widgets/base",
       "_view_module_version": "1.2.0",
       "_view_name": "StyleView",
       "description_width": ""
      }
     },
     "178b2852043649d882bf1a4d08df180b": {
      "model_module": "@jupyter-widgets/base",
      "model_module_version": "1.2.0",
      "model_name": "LayoutModel",
      "state": {
       "_model_module": "@jupyter-widgets/base",
       "_model_module_version": "1.2.0",
       "_model_name": "LayoutModel",
       "_view_count": null,
       "_view_module": "@jupyter-widgets/base",
       "_view_module_version": "1.2.0",
       "_view_name": "LayoutView",
       "align_content": null,
       "align_items": null,
       "align_self": null,
       "border": null,
       "bottom": null,
       "display": null,
       "flex": null,
       "flex_flow": null,
       "grid_area": null,
       "grid_auto_columns": null,
       "grid_auto_flow": null,
       "grid_auto_rows": null,
       "grid_column": null,
       "grid_gap": null,
       "grid_row": null,
       "grid_template_areas": null,
       "grid_template_columns": null,
       "grid_template_rows": null,
       "height": null,
       "justify_content": null,
       "justify_items": null,
       "left": null,
       "margin": null,
       "max_height": null,
       "max_width": null,
       "min_height": null,
       "min_width": null,
       "object_fit": null,
       "object_position": null,
       "order": null,
       "overflow": null,
       "overflow_x": null,
       "overflow_y": null,
       "padding": null,
       "right": null,
       "top": null,
       "visibility": null,
       "width": null
      }
     },
     "187478da9efa4212b454fdfe9815f7b4": {
      "model_module": "@jupyter-widgets/controls",
      "model_module_version": "1.5.0",
      "model_name": "FloatProgressModel",
      "state": {
       "_dom_classes": [],
       "_model_module": "@jupyter-widgets/controls",
       "_model_module_version": "1.5.0",
       "_model_name": "FloatProgressModel",
       "_view_count": null,
       "_view_module": "@jupyter-widgets/controls",
       "_view_module_version": "1.5.0",
       "_view_name": "ProgressView",
       "bar_style": "success",
       "description": "",
       "description_tooltip": null,
       "layout": "IPY_MODEL_2972dc2fb6224595b499026fbd13be85",
       "max": 48,
       "min": 0,
       "orientation": "horizontal",
       "style": "IPY_MODEL_dff4a8fa2bad4d22ab0788cbd2a850a1",
       "value": 48
      }
     },
     "188003ee9eaa46abbbfd569ff6198def": {
      "model_module": "@jupyter-widgets/controls",
      "model_module_version": "1.5.0",
      "model_name": "HBoxModel",
      "state": {
       "_dom_classes": [],
       "_model_module": "@jupyter-widgets/controls",
       "_model_module_version": "1.5.0",
       "_model_name": "HBoxModel",
       "_view_count": null,
       "_view_module": "@jupyter-widgets/controls",
       "_view_module_version": "1.5.0",
       "_view_name": "HBoxView",
       "box_style": "",
       "children": [
        "IPY_MODEL_26e045ce843a4a8ea91773510285918d",
        "IPY_MODEL_c53dc43b21f3458eb79e1a779bd0a4b5",
        "IPY_MODEL_36f642b1caff4c53a1d5bc3019223b43"
       ],
       "layout": "IPY_MODEL_0b69e96f9f9a4de98bd65682ffbc8cd9"
      }
     },
     "1c269adcda2c4e1698575f5462db7404": {
      "model_module": "@jupyter-widgets/controls",
      "model_module_version": "1.5.0",
      "model_name": "HBoxModel",
      "state": {
       "_dom_classes": [],
       "_model_module": "@jupyter-widgets/controls",
       "_model_module_version": "1.5.0",
       "_model_name": "HBoxModel",
       "_view_count": null,
       "_view_module": "@jupyter-widgets/controls",
       "_view_module_version": "1.5.0",
       "_view_name": "HBoxView",
       "box_style": "",
       "children": [
        "IPY_MODEL_fc70b3909ed0444e809f948d54532905",
        "IPY_MODEL_9b84c4521cd044c9b91a422bae176a93",
        "IPY_MODEL_3a00cacd913244a89cae02ebeac7afc1"
       ],
       "layout": "IPY_MODEL_a42634ea6eee483fbc79ff6d36c21893"
      }
     },
     "1d657e0b88e44b19a09b001b2c7e3d48": {
      "model_module": "@jupyter-widgets/base",
      "model_module_version": "1.2.0",
      "model_name": "LayoutModel",
      "state": {
       "_model_module": "@jupyter-widgets/base",
       "_model_module_version": "1.2.0",
       "_model_name": "LayoutModel",
       "_view_count": null,
       "_view_module": "@jupyter-widgets/base",
       "_view_module_version": "1.2.0",
       "_view_name": "LayoutView",
       "align_content": null,
       "align_items": null,
       "align_self": null,
       "border": null,
       "bottom": null,
       "display": null,
       "flex": null,
       "flex_flow": null,
       "grid_area": null,
       "grid_auto_columns": null,
       "grid_auto_flow": null,
       "grid_auto_rows": null,
       "grid_column": null,
       "grid_gap": null,
       "grid_row": null,
       "grid_template_areas": null,
       "grid_template_columns": null,
       "grid_template_rows": null,
       "height": null,
       "justify_content": null,
       "justify_items": null,
       "left": null,
       "margin": null,
       "max_height": null,
       "max_width": null,
       "min_height": null,
       "min_width": null,
       "object_fit": null,
       "object_position": null,
       "order": null,
       "overflow": null,
       "overflow_x": null,
       "overflow_y": null,
       "padding": null,
       "right": null,
       "top": null,
       "visibility": null,
       "width": null
      }
     },
     "1de655b3c06e4dc79ad7ef2776517c7e": {
      "model_module": "@jupyter-widgets/controls",
      "model_module_version": "1.5.0",
      "model_name": "HBoxModel",
      "state": {
       "_dom_classes": [],
       "_model_module": "@jupyter-widgets/controls",
       "_model_module_version": "1.5.0",
       "_model_name": "HBoxModel",
       "_view_count": null,
       "_view_module": "@jupyter-widgets/controls",
       "_view_module_version": "1.5.0",
       "_view_name": "HBoxView",
       "box_style": "",
       "children": [
        "IPY_MODEL_96920d0801c94353979791fbfbb3dfb4",
        "IPY_MODEL_187478da9efa4212b454fdfe9815f7b4",
        "IPY_MODEL_a372f224cf6649d3a22255263323832d"
       ],
       "layout": "IPY_MODEL_010995f1f0134c1e9a74670a0f3a218c"
      }
     },
     "21a97f101dbd4776bf6e8f2616008574": {
      "model_module": "@jupyter-widgets/base",
      "model_module_version": "1.2.0",
      "model_name": "LayoutModel",
      "state": {
       "_model_module": "@jupyter-widgets/base",
       "_model_module_version": "1.2.0",
       "_model_name": "LayoutModel",
       "_view_count": null,
       "_view_module": "@jupyter-widgets/base",
       "_view_module_version": "1.2.0",
       "_view_name": "LayoutView",
       "align_content": null,
       "align_items": null,
       "align_self": null,
       "border": null,
       "bottom": null,
       "display": null,
       "flex": null,
       "flex_flow": null,
       "grid_area": null,
       "grid_auto_columns": null,
       "grid_auto_flow": null,
       "grid_auto_rows": null,
       "grid_column": null,
       "grid_gap": null,
       "grid_row": null,
       "grid_template_areas": null,
       "grid_template_columns": null,
       "grid_template_rows": null,
       "height": null,
       "justify_content": null,
       "justify_items": null,
       "left": null,
       "margin": null,
       "max_height": null,
       "max_width": null,
       "min_height": null,
       "min_width": null,
       "object_fit": null,
       "object_position": null,
       "order": null,
       "overflow": null,
       "overflow_x": null,
       "overflow_y": null,
       "padding": null,
       "right": null,
       "top": null,
       "visibility": null,
       "width": null
      }
     },
     "22326b9e507c49bdbd07a32e912e121f": {
      "model_module": "@jupyter-widgets/controls",
      "model_module_version": "1.5.0",
      "model_name": "HBoxModel",
      "state": {
       "_dom_classes": [],
       "_model_module": "@jupyter-widgets/controls",
       "_model_module_version": "1.5.0",
       "_model_name": "HBoxModel",
       "_view_count": null,
       "_view_module": "@jupyter-widgets/controls",
       "_view_module_version": "1.5.0",
       "_view_name": "HBoxView",
       "box_style": "",
       "children": [
        "IPY_MODEL_39f7f68bcc9a42369be4d4f1e1301028",
        "IPY_MODEL_bde6401ca6c24a1eb3b69a5c0f2d4a71",
        "IPY_MODEL_22b9d3a5699c4639ad551035698e2849"
       ],
       "layout": "IPY_MODEL_7ce7effe9bc24dc2a12c2263548075d3"
      }
     },
     "22b9d3a5699c4639ad551035698e2849": {
      "model_module": "@jupyter-widgets/controls",
      "model_module_version": "1.5.0",
      "model_name": "HTMLModel",
      "state": {
       "_dom_classes": [],
       "_model_module": "@jupyter-widgets/controls",
       "_model_module_version": "1.5.0",
       "_model_name": "HTMLModel",
       "_view_count": null,
       "_view_module": "@jupyter-widgets/controls",
       "_view_module_version": "1.5.0",
       "_view_name": "HTMLView",
       "description": "",
       "description_tooltip": null,
       "layout": "IPY_MODEL_f12b82c47f134b8aac4b843aa49310d8",
       "placeholder": "​",
       "style": "IPY_MODEL_4640245a36be4c75ba219ddd7e560ca1",
       "value": " 232k/232k [00:00&lt;00:00, 1.56MB/s]"
      }
     },
     "231a574dc592454c8aeb0df1af72b052": {
      "model_module": "@jupyter-widgets/controls",
      "model_module_version": "1.5.0",
      "model_name": "ProgressStyleModel",
      "state": {
       "_model_module": "@jupyter-widgets/controls",
       "_model_module_version": "1.5.0",
       "_model_name": "ProgressStyleModel",
       "_view_count": null,
       "_view_module": "@jupyter-widgets/base",
       "_view_module_version": "1.2.0",
       "_view_name": "StyleView",
       "bar_color": null,
       "description_width": ""
      }
     },
     "23a4498a78454e1bb08dd485de81e1bf": {
      "model_module": "@jupyter-widgets/controls",
      "model_module_version": "1.5.0",
      "model_name": "DescriptionStyleModel",
      "state": {
       "_model_module": "@jupyter-widgets/controls",
       "_model_module_version": "1.5.0",
       "_model_name": "DescriptionStyleModel",
       "_view_count": null,
       "_view_module": "@jupyter-widgets/base",
       "_view_module_version": "1.2.0",
       "_view_name": "StyleView",
       "description_width": ""
      }
     },
     "2543da517d0945a0859a62f76c58a936": {
      "model_module": "@jupyter-widgets/controls",
      "model_module_version": "1.5.0",
      "model_name": "FloatProgressModel",
      "state": {
       "_dom_classes": [],
       "_model_module": "@jupyter-widgets/controls",
       "_model_module_version": "1.5.0",
       "_model_name": "FloatProgressModel",
       "_view_count": null,
       "_view_module": "@jupyter-widgets/controls",
       "_view_module_version": "1.5.0",
       "_view_name": "ProgressView",
       "bar_style": "success",
       "description": "",
       "description_tooltip": null,
       "layout": "IPY_MODEL_eb069401f5564cb78b14399ab3b0ff1a",
       "max": 313,
       "min": 0,
       "orientation": "horizontal",
       "style": "IPY_MODEL_894177f6ed204379ac391919bff44ea4",
       "value": 313
      }
     },
     "26990fbc740b44868bf94133ba424d58": {
      "model_module": "@jupyter-widgets/controls",
      "model_module_version": "1.5.0",
      "model_name": "DescriptionStyleModel",
      "state": {
       "_model_module": "@jupyter-widgets/controls",
       "_model_module_version": "1.5.0",
       "_model_name": "DescriptionStyleModel",
       "_view_count": null,
       "_view_module": "@jupyter-widgets/base",
       "_view_module_version": "1.2.0",
       "_view_name": "StyleView",
       "description_width": ""
      }
     },
     "26e045ce843a4a8ea91773510285918d": {
      "model_module": "@jupyter-widgets/controls",
      "model_module_version": "1.5.0",
      "model_name": "HTMLModel",
      "state": {
       "_dom_classes": [],
       "_model_module": "@jupyter-widgets/controls",
       "_model_module_version": "1.5.0",
       "_model_name": "HTMLModel",
       "_view_count": null,
       "_view_module": "@jupyter-widgets/controls",
       "_view_module_version": "1.5.0",
       "_view_name": "HTMLView",
       "description": "",
       "description_tooltip": null,
       "layout": "IPY_MODEL_9570125346344156ae88ef3f22ce9233",
       "placeholder": "​",
       "style": "IPY_MODEL_b6dc1d945f3e428182ad60685d8695f8",
       "value": "Training epoch: 1: 100%"
      }
     },
     "2972dc2fb6224595b499026fbd13be85": {
      "model_module": "@jupyter-widgets/base",
      "model_module_version": "1.2.0",
      "model_name": "LayoutModel",
      "state": {
       "_model_module": "@jupyter-widgets/base",
       "_model_module_version": "1.2.0",
       "_model_name": "LayoutModel",
       "_view_count": null,
       "_view_module": "@jupyter-widgets/base",
       "_view_module_version": "1.2.0",
       "_view_name": "LayoutView",
       "align_content": null,
       "align_items": null,
       "align_self": null,
       "border": null,
       "bottom": null,
       "display": null,
       "flex": null,
       "flex_flow": null,
       "grid_area": null,
       "grid_auto_columns": null,
       "grid_auto_flow": null,
       "grid_auto_rows": null,
       "grid_column": null,
       "grid_gap": null,
       "grid_row": null,
       "grid_template_areas": null,
       "grid_template_columns": null,
       "grid_template_rows": null,
       "height": null,
       "justify_content": null,
       "justify_items": null,
       "left": null,
       "margin": null,
       "max_height": null,
       "max_width": null,
       "min_height": null,
       "min_width": null,
       "object_fit": null,
       "object_position": null,
       "order": null,
       "overflow": null,
       "overflow_x": null,
       "overflow_y": null,
       "padding": null,
       "right": null,
       "top": null,
       "visibility": null,
       "width": null
      }
     },
     "36f642b1caff4c53a1d5bc3019223b43": {
      "model_module": "@jupyter-widgets/controls",
      "model_module_version": "1.5.0",
      "model_name": "HTMLModel",
      "state": {
       "_dom_classes": [],
       "_model_module": "@jupyter-widgets/controls",
       "_model_module_version": "1.5.0",
       "_model_name": "HTMLModel",
       "_view_count": null,
       "_view_module": "@jupyter-widgets/controls",
       "_view_module_version": "1.5.0",
       "_view_name": "HTMLView",
       "description": "",
       "description_tooltip": null,
       "layout": "IPY_MODEL_624bd373b11248ac94bd6e99355b56c0",
       "placeholder": "​",
       "style": "IPY_MODEL_09c43534206a4d069d2754280fbcc0ed",
       "value": " 313/313 [04:30&lt;00:00,  1.15batch/s]"
      }
     },
     "39f7f68bcc9a42369be4d4f1e1301028": {
      "model_module": "@jupyter-widgets/controls",
      "model_module_version": "1.5.0",
      "model_name": "HTMLModel",
      "state": {
       "_dom_classes": [],
       "_model_module": "@jupyter-widgets/controls",
       "_model_module_version": "1.5.0",
       "_model_name": "HTMLModel",
       "_view_count": null,
       "_view_module": "@jupyter-widgets/controls",
       "_view_module_version": "1.5.0",
       "_view_name": "HTMLView",
       "description": "",
       "description_tooltip": null,
       "layout": "IPY_MODEL_178b2852043649d882bf1a4d08df180b",
       "placeholder": "​",
       "style": "IPY_MODEL_cdd5edd453684a929d7555e820ba2c35",
       "value": "vocab.txt: 100%"
      }
     },
     "3a00cacd913244a89cae02ebeac7afc1": {
      "model_module": "@jupyter-widgets/controls",
      "model_module_version": "1.5.0",
      "model_name": "HTMLModel",
      "state": {
       "_dom_classes": [],
       "_model_module": "@jupyter-widgets/controls",
       "_model_module_version": "1.5.0",
       "_model_name": "HTMLModel",
       "_view_count": null,
       "_view_module": "@jupyter-widgets/controls",
       "_view_module_version": "1.5.0",
       "_view_name": "HTMLView",
       "description": "",
       "description_tooltip": null,
       "layout": "IPY_MODEL_db5d5be661a0448aa28bba7f81ab9941",
       "placeholder": "​",
       "style": "IPY_MODEL_aa92230fe85344d09f656ce2c7b28bc1",
       "value": " 313/313 [04:30&lt;00:00,  1.16batch/s]"
      }
     },
     "3db481bf2ab84f22b2474efb8d3cd267": {
      "model_module": "@jupyter-widgets/controls",
      "model_module_version": "1.5.0",
      "model_name": "HTMLModel",
      "state": {
       "_dom_classes": [],
       "_model_module": "@jupyter-widgets/controls",
       "_model_module_version": "1.5.0",
       "_model_name": "HTMLModel",
       "_view_count": null,
       "_view_module": "@jupyter-widgets/controls",
       "_view_module_version": "1.5.0",
       "_view_name": "HTMLView",
       "description": "",
       "description_tooltip": null,
       "layout": "IPY_MODEL_f10d1d328e6f46158b8cc92c35a98a61",
       "placeholder": "​",
       "style": "IPY_MODEL_ea2c04436e4c480a820fa41fdee1834b",
       "value": " 483/483 [00:00&lt;00:00, 42.7kB/s]"
      }
     },
     "40fa9db5580547a5aafae5ff2e7cbb94": {
      "model_module": "@jupyter-widgets/controls",
      "model_module_version": "1.5.0",
      "model_name": "ProgressStyleModel",
      "state": {
       "_model_module": "@jupyter-widgets/controls",
       "_model_module_version": "1.5.0",
       "_model_name": "ProgressStyleModel",
       "_view_count": null,
       "_view_module": "@jupyter-widgets/base",
       "_view_module_version": "1.2.0",
       "_view_name": "StyleView",
       "bar_color": null,
       "description_width": ""
      }
     },
     "428fb5503f5f470c902c6e5aa7a9d582": {
      "model_module": "@jupyter-widgets/base",
      "model_module_version": "1.2.0",
      "model_name": "LayoutModel",
      "state": {
       "_model_module": "@jupyter-widgets/base",
       "_model_module_version": "1.2.0",
       "_model_name": "LayoutModel",
       "_view_count": null,
       "_view_module": "@jupyter-widgets/base",
       "_view_module_version": "1.2.0",
       "_view_name": "LayoutView",
       "align_content": null,
       "align_items": null,
       "align_self": null,
       "border": null,
       "bottom": null,
       "display": null,
       "flex": null,
       "flex_flow": null,
       "grid_area": null,
       "grid_auto_columns": null,
       "grid_auto_flow": null,
       "grid_auto_rows": null,
       "grid_column": null,
       "grid_gap": null,
       "grid_row": null,
       "grid_template_areas": null,
       "grid_template_columns": null,
       "grid_template_rows": null,
       "height": null,
       "justify_content": null,
       "justify_items": null,
       "left": null,
       "margin": null,
       "max_height": null,
       "max_width": null,
       "min_height": null,
       "min_width": null,
       "object_fit": null,
       "object_position": null,
       "order": null,
       "overflow": null,
       "overflow_x": null,
       "overflow_y": null,
       "padding": null,
       "right": null,
       "top": null,
       "visibility": null,
       "width": null
      }
     },
     "44630ec8cb4449239b145097e4c3ffd3": {
      "model_module": "@jupyter-widgets/controls",
      "model_module_version": "1.5.0",
      "model_name": "HTMLModel",
      "state": {
       "_dom_classes": [],
       "_model_module": "@jupyter-widgets/controls",
       "_model_module_version": "1.5.0",
       "_model_name": "HTMLModel",
       "_view_count": null,
       "_view_module": "@jupyter-widgets/controls",
       "_view_module_version": "1.5.0",
       "_view_name": "HTMLView",
       "description": "",
       "description_tooltip": null,
       "layout": "IPY_MODEL_99dc6686b20f4a2c8fc2dd1817ae0314",
       "placeholder": "​",
       "style": "IPY_MODEL_168c6030214e4c289b7a3a2a754da656",
       "value": " 466k/466k [00:00&lt;00:00, 22.3MB/s]"
      }
     },
     "450c6683f6d145b1b871ca5a91541cce": {
      "model_module": "@jupyter-widgets/base",
      "model_module_version": "1.2.0",
      "model_name": "LayoutModel",
      "state": {
       "_model_module": "@jupyter-widgets/base",
       "_model_module_version": "1.2.0",
       "_model_name": "LayoutModel",
       "_view_count": null,
       "_view_module": "@jupyter-widgets/base",
       "_view_module_version": "1.2.0",
       "_view_name": "LayoutView",
       "align_content": null,
       "align_items": null,
       "align_self": null,
       "border": null,
       "bottom": null,
       "display": null,
       "flex": null,
       "flex_flow": null,
       "grid_area": null,
       "grid_auto_columns": null,
       "grid_auto_flow": null,
       "grid_auto_rows": null,
       "grid_column": null,
       "grid_gap": null,
       "grid_row": null,
       "grid_template_areas": null,
       "grid_template_columns": null,
       "grid_template_rows": null,
       "height": null,
       "justify_content": null,
       "justify_items": null,
       "left": null,
       "margin": null,
       "max_height": null,
       "max_width": null,
       "min_height": null,
       "min_width": null,
       "object_fit": null,
       "object_position": null,
       "order": null,
       "overflow": null,
       "overflow_x": null,
       "overflow_y": null,
       "padding": null,
       "right": null,
       "top": null,
       "visibility": null,
       "width": null
      }
     },
     "4640245a36be4c75ba219ddd7e560ca1": {
      "model_module": "@jupyter-widgets/controls",
      "model_module_version": "1.5.0",
      "model_name": "DescriptionStyleModel",
      "state": {
       "_model_module": "@jupyter-widgets/controls",
       "_model_module_version": "1.5.0",
       "_model_name": "DescriptionStyleModel",
       "_view_count": null,
       "_view_module": "@jupyter-widgets/base",
       "_view_module_version": "1.2.0",
       "_view_name": "StyleView",
       "description_width": ""
      }
     },
     "504f05322ec5481cbdf535c3cbf254fa": {
      "model_module": "@jupyter-widgets/controls",
      "model_module_version": "1.5.0",
      "model_name": "ProgressStyleModel",
      "state": {
       "_model_module": "@jupyter-widgets/controls",
       "_model_module_version": "1.5.0",
       "_model_name": "ProgressStyleModel",
       "_view_count": null,
       "_view_module": "@jupyter-widgets/base",
       "_view_module_version": "1.2.0",
       "_view_name": "StyleView",
       "bar_color": null,
       "description_width": ""
      }
     },
     "5edcf883f12b43599a89dd3ca9645b87": {
      "model_module": "@jupyter-widgets/controls",
      "model_module_version": "1.5.0",
      "model_name": "FloatProgressModel",
      "state": {
       "_dom_classes": [],
       "_model_module": "@jupyter-widgets/controls",
       "_model_module_version": "1.5.0",
       "_model_name": "FloatProgressModel",
       "_view_count": null,
       "_view_module": "@jupyter-widgets/controls",
       "_view_module_version": "1.5.0",
       "_view_name": "ProgressView",
       "bar_style": "success",
       "description": "",
       "description_tooltip": null,
       "layout": "IPY_MODEL_0a7a58e9db0547f78c5de758425957ec",
       "max": 466062,
       "min": 0,
       "orientation": "horizontal",
       "style": "IPY_MODEL_e5fd777fcfb747078604981c3f90bd74",
       "value": 466062
      }
     },
     "615784601dde4dd79c3fc3b508b47826": {
      "model_module": "@jupyter-widgets/base",
      "model_module_version": "1.2.0",
      "model_name": "LayoutModel",
      "state": {
       "_model_module": "@jupyter-widgets/base",
       "_model_module_version": "1.2.0",
       "_model_name": "LayoutModel",
       "_view_count": null,
       "_view_module": "@jupyter-widgets/base",
       "_view_module_version": "1.2.0",
       "_view_name": "LayoutView",
       "align_content": null,
       "align_items": null,
       "align_self": null,
       "border": null,
       "bottom": null,
       "display": null,
       "flex": null,
       "flex_flow": null,
       "grid_area": null,
       "grid_auto_columns": null,
       "grid_auto_flow": null,
       "grid_auto_rows": null,
       "grid_column": null,
       "grid_gap": null,
       "grid_row": null,
       "grid_template_areas": null,
       "grid_template_columns": null,
       "grid_template_rows": null,
       "height": null,
       "justify_content": null,
       "justify_items": null,
       "left": null,
       "margin": null,
       "max_height": null,
       "max_width": null,
       "min_height": null,
       "min_width": null,
       "object_fit": null,
       "object_position": null,
       "order": null,
       "overflow": null,
       "overflow_x": null,
       "overflow_y": null,
       "padding": null,
       "right": null,
       "top": null,
       "visibility": null,
       "width": null
      }
     },
     "624bd373b11248ac94bd6e99355b56c0": {
      "model_module": "@jupyter-widgets/base",
      "model_module_version": "1.2.0",
      "model_name": "LayoutModel",
      "state": {
       "_model_module": "@jupyter-widgets/base",
       "_model_module_version": "1.2.0",
       "_model_name": "LayoutModel",
       "_view_count": null,
       "_view_module": "@jupyter-widgets/base",
       "_view_module_version": "1.2.0",
       "_view_name": "LayoutView",
       "align_content": null,
       "align_items": null,
       "align_self": null,
       "border": null,
       "bottom": null,
       "display": null,
       "flex": null,
       "flex_flow": null,
       "grid_area": null,
       "grid_auto_columns": null,
       "grid_auto_flow": null,
       "grid_auto_rows": null,
       "grid_column": null,
       "grid_gap": null,
       "grid_row": null,
       "grid_template_areas": null,
       "grid_template_columns": null,
       "grid_template_rows": null,
       "height": null,
       "justify_content": null,
       "justify_items": null,
       "left": null,
       "margin": null,
       "max_height": null,
       "max_width": null,
       "min_height": null,
       "min_width": null,
       "object_fit": null,
       "object_position": null,
       "order": null,
       "overflow": null,
       "overflow_x": null,
       "overflow_y": null,
       "padding": null,
       "right": null,
       "top": null,
       "visibility": null,
       "width": null
      }
     },
     "6b536cc5801d45dd8d20b6e5a5e88470": {
      "model_module": "@jupyter-widgets/base",
      "model_module_version": "1.2.0",
      "model_name": "LayoutModel",
      "state": {
       "_model_module": "@jupyter-widgets/base",
       "_model_module_version": "1.2.0",
       "_model_name": "LayoutModel",
       "_view_count": null,
       "_view_module": "@jupyter-widgets/base",
       "_view_module_version": "1.2.0",
       "_view_name": "LayoutView",
       "align_content": null,
       "align_items": null,
       "align_self": null,
       "border": null,
       "bottom": null,
       "display": null,
       "flex": null,
       "flex_flow": null,
       "grid_area": null,
       "grid_auto_columns": null,
       "grid_auto_flow": null,
       "grid_auto_rows": null,
       "grid_column": null,
       "grid_gap": null,
       "grid_row": null,
       "grid_template_areas": null,
       "grid_template_columns": null,
       "grid_template_rows": null,
       "height": null,
       "justify_content": null,
       "justify_items": null,
       "left": null,
       "margin": null,
       "max_height": null,
       "max_width": null,
       "min_height": null,
       "min_width": null,
       "object_fit": null,
       "object_position": null,
       "order": null,
       "overflow": null,
       "overflow_x": null,
       "overflow_y": null,
       "padding": null,
       "right": null,
       "top": null,
       "visibility": null,
       "width": null
      }
     },
     "6e9c6b8bc0cc4f51905bc05eeaaefacd": {
      "model_module": "@jupyter-widgets/controls",
      "model_module_version": "1.5.0",
      "model_name": "HTMLModel",
      "state": {
       "_dom_classes": [],
       "_model_module": "@jupyter-widgets/controls",
       "_model_module_version": "1.5.0",
       "_model_name": "HTMLModel",
       "_view_count": null,
       "_view_module": "@jupyter-widgets/controls",
       "_view_module_version": "1.5.0",
       "_view_name": "HTMLView",
       "description": "",
       "description_tooltip": null,
       "layout": "IPY_MODEL_f8051532d6a24b9fa0cdba39330b6170",
       "placeholder": "​",
       "style": "IPY_MODEL_af5089e56abf40a594eccd834be101e1",
       "value": "config.json: 100%"
      }
     },
     "708b4e86aa704f8e827f8c1781b6b63d": {
      "model_module": "@jupyter-widgets/controls",
      "model_module_version": "1.5.0",
      "model_name": "HTMLModel",
      "state": {
       "_dom_classes": [],
       "_model_module": "@jupyter-widgets/controls",
       "_model_module_version": "1.5.0",
       "_model_name": "HTMLModel",
       "_view_count": null,
       "_view_module": "@jupyter-widgets/controls",
       "_view_module_version": "1.5.0",
       "_view_name": "HTMLView",
       "description": "",
       "description_tooltip": null,
       "layout": "IPY_MODEL_bc65df3a8b34469188ae27cb56739f5b",
       "placeholder": "​",
       "style": "IPY_MODEL_dd9b31fc7766442c8e6869658c8cd5ba",
       "value": " 313/313 [04:25&lt;00:00,  1.16batch/s]"
      }
     },
     "78bdd20e4c3543d49f9d686933a81ab8": {
      "model_module": "@jupyter-widgets/base",
      "model_module_version": "1.2.0",
      "model_name": "LayoutModel",
      "state": {
       "_model_module": "@jupyter-widgets/base",
       "_model_module_version": "1.2.0",
       "_model_name": "LayoutModel",
       "_view_count": null,
       "_view_module": "@jupyter-widgets/base",
       "_view_module_version": "1.2.0",
       "_view_name": "LayoutView",
       "align_content": null,
       "align_items": null,
       "align_self": null,
       "border": null,
       "bottom": null,
       "display": null,
       "flex": null,
       "flex_flow": null,
       "grid_area": null,
       "grid_auto_columns": null,
       "grid_auto_flow": null,
       "grid_auto_rows": null,
       "grid_column": null,
       "grid_gap": null,
       "grid_row": null,
       "grid_template_areas": null,
       "grid_template_columns": null,
       "grid_template_rows": null,
       "height": null,
       "justify_content": null,
       "justify_items": null,
       "left": null,
       "margin": null,
       "max_height": null,
       "max_width": null,
       "min_height": null,
       "min_width": null,
       "object_fit": null,
       "object_position": null,
       "order": null,
       "overflow": null,
       "overflow_x": null,
       "overflow_y": null,
       "padding": null,
       "right": null,
       "top": null,
       "visibility": null,
       "width": null
      }
     },
     "7ce7effe9bc24dc2a12c2263548075d3": {
      "model_module": "@jupyter-widgets/base",
      "model_module_version": "1.2.0",
      "model_name": "LayoutModel",
      "state": {
       "_model_module": "@jupyter-widgets/base",
       "_model_module_version": "1.2.0",
       "_model_name": "LayoutModel",
       "_view_count": null,
       "_view_module": "@jupyter-widgets/base",
       "_view_module_version": "1.2.0",
       "_view_name": "LayoutView",
       "align_content": null,
       "align_items": null,
       "align_self": null,
       "border": null,
       "bottom": null,
       "display": null,
       "flex": null,
       "flex_flow": null,
       "grid_area": null,
       "grid_auto_columns": null,
       "grid_auto_flow": null,
       "grid_auto_rows": null,
       "grid_column": null,
       "grid_gap": null,
       "grid_row": null,
       "grid_template_areas": null,
       "grid_template_columns": null,
       "grid_template_rows": null,
       "height": null,
       "justify_content": null,
       "justify_items": null,
       "left": null,
       "margin": null,
       "max_height": null,
       "max_width": null,
       "min_height": null,
       "min_width": null,
       "object_fit": null,
       "object_position": null,
       "order": null,
       "overflow": null,
       "overflow_x": null,
       "overflow_y": null,
       "padding": null,
       "right": null,
       "top": null,
       "visibility": null,
       "width": null
      }
     },
     "7dfcbb48d1d74b09a07554d34d3c9665": {
      "model_module": "@jupyter-widgets/controls",
      "model_module_version": "1.5.0",
      "model_name": "HBoxModel",
      "state": {
       "_dom_classes": [],
       "_model_module": "@jupyter-widgets/controls",
       "_model_module_version": "1.5.0",
       "_model_name": "HBoxModel",
       "_view_count": null,
       "_view_module": "@jupyter-widgets/controls",
       "_view_module_version": "1.5.0",
       "_view_name": "HBoxView",
       "box_style": "",
       "children": [
        "IPY_MODEL_e28ed43b630441fea5f967aa30a680e6",
        "IPY_MODEL_5edcf883f12b43599a89dd3ca9645b87",
        "IPY_MODEL_44630ec8cb4449239b145097e4c3ffd3"
       ],
       "layout": "IPY_MODEL_6b536cc5801d45dd8d20b6e5a5e88470"
      }
     },
     "848676551264450bba713fca7056fa5e": {
      "model_module": "@jupyter-widgets/controls",
      "model_module_version": "1.5.0",
      "model_name": "HTMLModel",
      "state": {
       "_dom_classes": [],
       "_model_module": "@jupyter-widgets/controls",
       "_model_module_version": "1.5.0",
       "_model_name": "HTMLModel",
       "_view_count": null,
       "_view_module": "@jupyter-widgets/controls",
       "_view_module_version": "1.5.0",
       "_view_name": "HTMLView",
       "description": "",
       "description_tooltip": null,
       "layout": "IPY_MODEL_615784601dde4dd79c3fc3b508b47826",
       "placeholder": "​",
       "style": "IPY_MODEL_031c4012acd64a449b0942ed7c438150",
       "value": "Training epoch: 0: 100%"
      }
     },
     "894177f6ed204379ac391919bff44ea4": {
      "model_module": "@jupyter-widgets/controls",
      "model_module_version": "1.5.0",
      "model_name": "ProgressStyleModel",
      "state": {
       "_model_module": "@jupyter-widgets/controls",
       "_model_module_version": "1.5.0",
       "_model_name": "ProgressStyleModel",
       "_view_count": null,
       "_view_module": "@jupyter-widgets/base",
       "_view_module_version": "1.2.0",
       "_view_name": "StyleView",
       "bar_color": null,
       "description_width": ""
      }
     },
     "8a260e8a3ad3485b8539f9fd2a5ad90c": {
      "model_module": "@jupyter-widgets/controls",
      "model_module_version": "1.5.0",
      "model_name": "HBoxModel",
      "state": {
       "_dom_classes": [],
       "_model_module": "@jupyter-widgets/controls",
       "_model_module_version": "1.5.0",
       "_model_name": "HBoxModel",
       "_view_count": null,
       "_view_module": "@jupyter-widgets/controls",
       "_view_module_version": "1.5.0",
       "_view_name": "HBoxView",
       "box_style": "",
       "children": [
        "IPY_MODEL_6e9c6b8bc0cc4f51905bc05eeaaefacd",
        "IPY_MODEL_f56f96c6ac3b4a32bf16ba5d39ff9544",
        "IPY_MODEL_3db481bf2ab84f22b2474efb8d3cd267"
       ],
       "layout": "IPY_MODEL_fa7cb5e1083640b6ababccbe4e64fa8c"
      }
     },
     "9570125346344156ae88ef3f22ce9233": {
      "model_module": "@jupyter-widgets/base",
      "model_module_version": "1.2.0",
      "model_name": "LayoutModel",
      "state": {
       "_model_module": "@jupyter-widgets/base",
       "_model_module_version": "1.2.0",
       "_model_name": "LayoutModel",
       "_view_count": null,
       "_view_module": "@jupyter-widgets/base",
       "_view_module_version": "1.2.0",
       "_view_name": "LayoutView",
       "align_content": null,
       "align_items": null,
       "align_self": null,
       "border": null,
       "bottom": null,
       "display": null,
       "flex": null,
       "flex_flow": null,
       "grid_area": null,
       "grid_auto_columns": null,
       "grid_auto_flow": null,
       "grid_auto_rows": null,
       "grid_column": null,
       "grid_gap": null,
       "grid_row": null,
       "grid_template_areas": null,
       "grid_template_columns": null,
       "grid_template_rows": null,
       "height": null,
       "justify_content": null,
       "justify_items": null,
       "left": null,
       "margin": null,
       "max_height": null,
       "max_width": null,
       "min_height": null,
       "min_width": null,
       "object_fit": null,
       "object_position": null,
       "order": null,
       "overflow": null,
       "overflow_x": null,
       "overflow_y": null,
       "padding": null,
       "right": null,
       "top": null,
       "visibility": null,
       "width": null
      }
     },
     "95f9e9d7ac3847fcb2f01505fb1ad3ae": {
      "model_module": "@jupyter-widgets/controls",
      "model_module_version": "1.5.0",
      "model_name": "DescriptionStyleModel",
      "state": {
       "_model_module": "@jupyter-widgets/controls",
       "_model_module_version": "1.5.0",
       "_model_name": "DescriptionStyleModel",
       "_view_count": null,
       "_view_module": "@jupyter-widgets/base",
       "_view_module_version": "1.2.0",
       "_view_name": "StyleView",
       "description_width": ""
      }
     },
     "966c70e5992a4da49beaa8c0721f1248": {
      "model_module": "@jupyter-widgets/base",
      "model_module_version": "1.2.0",
      "model_name": "LayoutModel",
      "state": {
       "_model_module": "@jupyter-widgets/base",
       "_model_module_version": "1.2.0",
       "_model_name": "LayoutModel",
       "_view_count": null,
       "_view_module": "@jupyter-widgets/base",
       "_view_module_version": "1.2.0",
       "_view_name": "LayoutView",
       "align_content": null,
       "align_items": null,
       "align_self": null,
       "border": null,
       "bottom": null,
       "display": null,
       "flex": null,
       "flex_flow": null,
       "grid_area": null,
       "grid_auto_columns": null,
       "grid_auto_flow": null,
       "grid_auto_rows": null,
       "grid_column": null,
       "grid_gap": null,
       "grid_row": null,
       "grid_template_areas": null,
       "grid_template_columns": null,
       "grid_template_rows": null,
       "height": null,
       "justify_content": null,
       "justify_items": null,
       "left": null,
       "margin": null,
       "max_height": null,
       "max_width": null,
       "min_height": null,
       "min_width": null,
       "object_fit": null,
       "object_position": null,
       "order": null,
       "overflow": null,
       "overflow_x": null,
       "overflow_y": null,
       "padding": null,
       "right": null,
       "top": null,
       "visibility": null,
       "width": null
      }
     },
     "96920d0801c94353979791fbfbb3dfb4": {
      "model_module": "@jupyter-widgets/controls",
      "model_module_version": "1.5.0",
      "model_name": "HTMLModel",
      "state": {
       "_dom_classes": [],
       "_model_module": "@jupyter-widgets/controls",
       "_model_module_version": "1.5.0",
       "_model_name": "HTMLModel",
       "_view_count": null,
       "_view_module": "@jupyter-widgets/controls",
       "_view_module_version": "1.5.0",
       "_view_name": "HTMLView",
       "description": "",
       "description_tooltip": null,
       "layout": "IPY_MODEL_fe01f6938570451b8304424c7cbf22a4",
       "placeholder": "​",
       "style": "IPY_MODEL_23a4498a78454e1bb08dd485de81e1bf",
       "value": "tokenizer_config.json: 100%"
      }
     },
     "987f5419d5f641ba861e17bc83dfe0aa": {
      "model_module": "@jupyter-widgets/base",
      "model_module_version": "1.2.0",
      "model_name": "LayoutModel",
      "state": {
       "_model_module": "@jupyter-widgets/base",
       "_model_module_version": "1.2.0",
       "_model_name": "LayoutModel",
       "_view_count": null,
       "_view_module": "@jupyter-widgets/base",
       "_view_module_version": "1.2.0",
       "_view_name": "LayoutView",
       "align_content": null,
       "align_items": null,
       "align_self": null,
       "border": null,
       "bottom": null,
       "display": null,
       "flex": null,
       "flex_flow": null,
       "grid_area": null,
       "grid_auto_columns": null,
       "grid_auto_flow": null,
       "grid_auto_rows": null,
       "grid_column": null,
       "grid_gap": null,
       "grid_row": null,
       "grid_template_areas": null,
       "grid_template_columns": null,
       "grid_template_rows": null,
       "height": null,
       "justify_content": null,
       "justify_items": null,
       "left": null,
       "margin": null,
       "max_height": null,
       "max_width": null,
       "min_height": null,
       "min_width": null,
       "object_fit": null,
       "object_position": null,
       "order": null,
       "overflow": null,
       "overflow_x": null,
       "overflow_y": null,
       "padding": null,
       "right": null,
       "top": null,
       "visibility": null,
       "width": null
      }
     },
     "98eb288922494c2e909d816e8e5c4a8c": {
      "model_module": "@jupyter-widgets/controls",
      "model_module_version": "1.5.0",
      "model_name": "FloatProgressModel",
      "state": {
       "_dom_classes": [],
       "_model_module": "@jupyter-widgets/controls",
       "_model_module_version": "1.5.0",
       "_model_name": "FloatProgressModel",
       "_view_count": null,
       "_view_module": "@jupyter-widgets/controls",
       "_view_module_version": "1.5.0",
       "_view_name": "ProgressView",
       "bar_style": "success",
       "description": "",
       "description_tooltip": null,
       "layout": "IPY_MODEL_987f5419d5f641ba861e17bc83dfe0aa",
       "max": 313,
       "min": 0,
       "orientation": "horizontal",
       "style": "IPY_MODEL_40fa9db5580547a5aafae5ff2e7cbb94",
       "value": 313
      }
     },
     "99dc6686b20f4a2c8fc2dd1817ae0314": {
      "model_module": "@jupyter-widgets/base",
      "model_module_version": "1.2.0",
      "model_name": "LayoutModel",
      "state": {
       "_model_module": "@jupyter-widgets/base",
       "_model_module_version": "1.2.0",
       "_model_name": "LayoutModel",
       "_view_count": null,
       "_view_module": "@jupyter-widgets/base",
       "_view_module_version": "1.2.0",
       "_view_name": "LayoutView",
       "align_content": null,
       "align_items": null,
       "align_self": null,
       "border": null,
       "bottom": null,
       "display": null,
       "flex": null,
       "flex_flow": null,
       "grid_area": null,
       "grid_auto_columns": null,
       "grid_auto_flow": null,
       "grid_auto_rows": null,
       "grid_column": null,
       "grid_gap": null,
       "grid_row": null,
       "grid_template_areas": null,
       "grid_template_columns": null,
       "grid_template_rows": null,
       "height": null,
       "justify_content": null,
       "justify_items": null,
       "left": null,
       "margin": null,
       "max_height": null,
       "max_width": null,
       "min_height": null,
       "min_width": null,
       "object_fit": null,
       "object_position": null,
       "order": null,
       "overflow": null,
       "overflow_x": null,
       "overflow_y": null,
       "padding": null,
       "right": null,
       "top": null,
       "visibility": null,
       "width": null
      }
     },
     "9a3bd30b02f047baa74b1e46726bbec1": {
      "model_module": "@jupyter-widgets/base",
      "model_module_version": "1.2.0",
      "model_name": "LayoutModel",
      "state": {
       "_model_module": "@jupyter-widgets/base",
       "_model_module_version": "1.2.0",
       "_model_name": "LayoutModel",
       "_view_count": null,
       "_view_module": "@jupyter-widgets/base",
       "_view_module_version": "1.2.0",
       "_view_name": "LayoutView",
       "align_content": null,
       "align_items": null,
       "align_self": null,
       "border": null,
       "bottom": null,
       "display": null,
       "flex": null,
       "flex_flow": null,
       "grid_area": null,
       "grid_auto_columns": null,
       "grid_auto_flow": null,
       "grid_auto_rows": null,
       "grid_column": null,
       "grid_gap": null,
       "grid_row": null,
       "grid_template_areas": null,
       "grid_template_columns": null,
       "grid_template_rows": null,
       "height": null,
       "justify_content": null,
       "justify_items": null,
       "left": null,
       "margin": null,
       "max_height": null,
       "max_width": null,
       "min_height": null,
       "min_width": null,
       "object_fit": null,
       "object_position": null,
       "order": null,
       "overflow": null,
       "overflow_x": null,
       "overflow_y": null,
       "padding": null,
       "right": null,
       "top": null,
       "visibility": null,
       "width": null
      }
     },
     "9b84c4521cd044c9b91a422bae176a93": {
      "model_module": "@jupyter-widgets/controls",
      "model_module_version": "1.5.0",
      "model_name": "FloatProgressModel",
      "state": {
       "_dom_classes": [],
       "_model_module": "@jupyter-widgets/controls",
       "_model_module_version": "1.5.0",
       "_model_name": "FloatProgressModel",
       "_view_count": null,
       "_view_module": "@jupyter-widgets/controls",
       "_view_module_version": "1.5.0",
       "_view_name": "ProgressView",
       "bar_style": "success",
       "description": "",
       "description_tooltip": null,
       "layout": "IPY_MODEL_21a97f101dbd4776bf6e8f2616008574",
       "max": 313,
       "min": 0,
       "orientation": "horizontal",
       "style": "IPY_MODEL_231a574dc592454c8aeb0df1af72b052",
       "value": 313
      }
     },
     "9c276bbfe2f04ff397ec04cb36458f95": {
      "model_module": "@jupyter-widgets/controls",
      "model_module_version": "1.5.0",
      "model_name": "HBoxModel",
      "state": {
       "_dom_classes": [],
       "_model_module": "@jupyter-widgets/controls",
       "_model_module_version": "1.5.0",
       "_model_name": "HBoxModel",
       "_view_count": null,
       "_view_module": "@jupyter-widgets/controls",
       "_view_module_version": "1.5.0",
       "_view_name": "HBoxView",
       "box_style": "",
       "children": [
        "IPY_MODEL_de7c961a3b3248b0aa833f9a71ebe16c",
        "IPY_MODEL_2543da517d0945a0859a62f76c58a936",
        "IPY_MODEL_c891c59e25e1499ca6b3973b9349dbeb"
       ],
       "layout": "IPY_MODEL_428fb5503f5f470c902c6e5aa7a9d582"
      }
     },
     "a372f224cf6649d3a22255263323832d": {
      "model_module": "@jupyter-widgets/controls",
      "model_module_version": "1.5.0",
      "model_name": "HTMLModel",
      "state": {
       "_dom_classes": [],
       "_model_module": "@jupyter-widgets/controls",
       "_model_module_version": "1.5.0",
       "_model_name": "HTMLModel",
       "_view_count": null,
       "_view_module": "@jupyter-widgets/controls",
       "_view_module_version": "1.5.0",
       "_view_name": "HTMLView",
       "description": "",
       "description_tooltip": null,
       "layout": "IPY_MODEL_966c70e5992a4da49beaa8c0721f1248",
       "placeholder": "​",
       "style": "IPY_MODEL_95f9e9d7ac3847fcb2f01505fb1ad3ae",
       "value": " 48.0/48.0 [00:00&lt;00:00, 3.99kB/s]"
      }
     },
     "a3bc2c00b1fa40c1a661141c7cfd6766": {
      "model_module": "@jupyter-widgets/controls",
      "model_module_version": "1.5.0",
      "model_name": "HBoxModel",
      "state": {
       "_dom_classes": [],
       "_model_module": "@jupyter-widgets/controls",
       "_model_module_version": "1.5.0",
       "_model_name": "HBoxModel",
       "_view_count": null,
       "_view_module": "@jupyter-widgets/controls",
       "_view_module_version": "1.5.0",
       "_view_name": "HBoxView",
       "box_style": "",
       "children": [
        "IPY_MODEL_848676551264450bba713fca7056fa5e",
        "IPY_MODEL_98eb288922494c2e909d816e8e5c4a8c",
        "IPY_MODEL_708b4e86aa704f8e827f8c1781b6b63d"
       ],
       "layout": "IPY_MODEL_78bdd20e4c3543d49f9d686933a81ab8"
      }
     },
     "a42634ea6eee483fbc79ff6d36c21893": {
      "model_module": "@jupyter-widgets/base",
      "model_module_version": "1.2.0",
      "model_name": "LayoutModel",
      "state": {
       "_model_module": "@jupyter-widgets/base",
       "_model_module_version": "1.2.0",
       "_model_name": "LayoutModel",
       "_view_count": null,
       "_view_module": "@jupyter-widgets/base",
       "_view_module_version": "1.2.0",
       "_view_name": "LayoutView",
       "align_content": null,
       "align_items": null,
       "align_self": null,
       "border": null,
       "bottom": null,
       "display": null,
       "flex": null,
       "flex_flow": null,
       "grid_area": null,
       "grid_auto_columns": null,
       "grid_auto_flow": null,
       "grid_auto_rows": null,
       "grid_column": null,
       "grid_gap": null,
       "grid_row": null,
       "grid_template_areas": null,
       "grid_template_columns": null,
       "grid_template_rows": null,
       "height": null,
       "justify_content": null,
       "justify_items": null,
       "left": null,
       "margin": null,
       "max_height": null,
       "max_width": null,
       "min_height": null,
       "min_width": null,
       "object_fit": null,
       "object_position": null,
       "order": null,
       "overflow": null,
       "overflow_x": null,
       "overflow_y": null,
       "padding": null,
       "right": null,
       "top": null,
       "visibility": null,
       "width": null
      }
     },
     "aa92230fe85344d09f656ce2c7b28bc1": {
      "model_module": "@jupyter-widgets/controls",
      "model_module_version": "1.5.0",
      "model_name": "DescriptionStyleModel",
      "state": {
       "_model_module": "@jupyter-widgets/controls",
       "_model_module_version": "1.5.0",
       "_model_name": "DescriptionStyleModel",
       "_view_count": null,
       "_view_module": "@jupyter-widgets/base",
       "_view_module_version": "1.2.0",
       "_view_name": "StyleView",
       "description_width": ""
      }
     },
     "af5089e56abf40a594eccd834be101e1": {
      "model_module": "@jupyter-widgets/controls",
      "model_module_version": "1.5.0",
      "model_name": "DescriptionStyleModel",
      "state": {
       "_model_module": "@jupyter-widgets/controls",
       "_model_module_version": "1.5.0",
       "_model_name": "DescriptionStyleModel",
       "_view_count": null,
       "_view_module": "@jupyter-widgets/base",
       "_view_module_version": "1.2.0",
       "_view_name": "StyleView",
       "description_width": ""
      }
     },
     "b65b8272a2ce42eebe7460d93821a9d6": {
      "model_module": "@jupyter-widgets/base",
      "model_module_version": "1.2.0",
      "model_name": "LayoutModel",
      "state": {
       "_model_module": "@jupyter-widgets/base",
       "_model_module_version": "1.2.0",
       "_model_name": "LayoutModel",
       "_view_count": null,
       "_view_module": "@jupyter-widgets/base",
       "_view_module_version": "1.2.0",
       "_view_name": "LayoutView",
       "align_content": null,
       "align_items": null,
       "align_self": null,
       "border": null,
       "bottom": null,
       "display": null,
       "flex": null,
       "flex_flow": null,
       "grid_area": null,
       "grid_auto_columns": null,
       "grid_auto_flow": null,
       "grid_auto_rows": null,
       "grid_column": null,
       "grid_gap": null,
       "grid_row": null,
       "grid_template_areas": null,
       "grid_template_columns": null,
       "grid_template_rows": null,
       "height": null,
       "justify_content": null,
       "justify_items": null,
       "left": null,
       "margin": null,
       "max_height": null,
       "max_width": null,
       "min_height": null,
       "min_width": null,
       "object_fit": null,
       "object_position": null,
       "order": null,
       "overflow": null,
       "overflow_x": null,
       "overflow_y": null,
       "padding": null,
       "right": null,
       "top": null,
       "visibility": null,
       "width": null
      }
     },
     "b6dc1d945f3e428182ad60685d8695f8": {
      "model_module": "@jupyter-widgets/controls",
      "model_module_version": "1.5.0",
      "model_name": "DescriptionStyleModel",
      "state": {
       "_model_module": "@jupyter-widgets/controls",
       "_model_module_version": "1.5.0",
       "_model_name": "DescriptionStyleModel",
       "_view_count": null,
       "_view_module": "@jupyter-widgets/base",
       "_view_module_version": "1.2.0",
       "_view_name": "StyleView",
       "description_width": ""
      }
     },
     "bc65df3a8b34469188ae27cb56739f5b": {
      "model_module": "@jupyter-widgets/base",
      "model_module_version": "1.2.0",
      "model_name": "LayoutModel",
      "state": {
       "_model_module": "@jupyter-widgets/base",
       "_model_module_version": "1.2.0",
       "_model_name": "LayoutModel",
       "_view_count": null,
       "_view_module": "@jupyter-widgets/base",
       "_view_module_version": "1.2.0",
       "_view_name": "LayoutView",
       "align_content": null,
       "align_items": null,
       "align_self": null,
       "border": null,
       "bottom": null,
       "display": null,
       "flex": null,
       "flex_flow": null,
       "grid_area": null,
       "grid_auto_columns": null,
       "grid_auto_flow": null,
       "grid_auto_rows": null,
       "grid_column": null,
       "grid_gap": null,
       "grid_row": null,
       "grid_template_areas": null,
       "grid_template_columns": null,
       "grid_template_rows": null,
       "height": null,
       "justify_content": null,
       "justify_items": null,
       "left": null,
       "margin": null,
       "max_height": null,
       "max_width": null,
       "min_height": null,
       "min_width": null,
       "object_fit": null,
       "object_position": null,
       "order": null,
       "overflow": null,
       "overflow_x": null,
       "overflow_y": null,
       "padding": null,
       "right": null,
       "top": null,
       "visibility": null,
       "width": null
      }
     },
     "bde6401ca6c24a1eb3b69a5c0f2d4a71": {
      "model_module": "@jupyter-widgets/controls",
      "model_module_version": "1.5.0",
      "model_name": "FloatProgressModel",
      "state": {
       "_dom_classes": [],
       "_model_module": "@jupyter-widgets/controls",
       "_model_module_version": "1.5.0",
       "_model_name": "FloatProgressModel",
       "_view_count": null,
       "_view_module": "@jupyter-widgets/controls",
       "_view_module_version": "1.5.0",
       "_view_name": "ProgressView",
       "bar_style": "success",
       "description": "",
       "description_tooltip": null,
       "layout": "IPY_MODEL_fc62ac6842ab4cbdbdc01baac7de2b3f",
       "max": 231508,
       "min": 0,
       "orientation": "horizontal",
       "style": "IPY_MODEL_504f05322ec5481cbdf535c3cbf254fa",
       "value": 231508
      }
     },
     "c53dc43b21f3458eb79e1a779bd0a4b5": {
      "model_module": "@jupyter-widgets/controls",
      "model_module_version": "1.5.0",
      "model_name": "FloatProgressModel",
      "state": {
       "_dom_classes": [],
       "_model_module": "@jupyter-widgets/controls",
       "_model_module_version": "1.5.0",
       "_model_name": "FloatProgressModel",
       "_view_count": null,
       "_view_module": "@jupyter-widgets/controls",
       "_view_module_version": "1.5.0",
       "_view_name": "ProgressView",
       "bar_style": "success",
       "description": "",
       "description_tooltip": null,
       "layout": "IPY_MODEL_b65b8272a2ce42eebe7460d93821a9d6",
       "max": 313,
       "min": 0,
       "orientation": "horizontal",
       "style": "IPY_MODEL_d42b8baa0d7f4fe5abe874a1d5d30455",
       "value": 313
      }
     },
     "c891c59e25e1499ca6b3973b9349dbeb": {
      "model_module": "@jupyter-widgets/controls",
      "model_module_version": "1.5.0",
      "model_name": "HTMLModel",
      "state": {
       "_dom_classes": [],
       "_model_module": "@jupyter-widgets/controls",
       "_model_module_version": "1.5.0",
       "_model_name": "HTMLModel",
       "_view_count": null,
       "_view_module": "@jupyter-widgets/controls",
       "_view_module_version": "1.5.0",
       "_view_name": "HTMLView",
       "description": "",
       "description_tooltip": null,
       "layout": "IPY_MODEL_1d657e0b88e44b19a09b001b2c7e3d48",
       "placeholder": "​",
       "style": "IPY_MODEL_26990fbc740b44868bf94133ba424d58",
       "value": " 313/313 [04:30&lt;00:00,  1.16batch/s]"
      }
     },
     "c8db29752d56405a910855114d434b62": {
      "model_module": "@jupyter-widgets/controls",
      "model_module_version": "1.5.0",
      "model_name": "DescriptionStyleModel",
      "state": {
       "_model_module": "@jupyter-widgets/controls",
       "_model_module_version": "1.5.0",
       "_model_name": "DescriptionStyleModel",
       "_view_count": null,
       "_view_module": "@jupyter-widgets/base",
       "_view_module_version": "1.2.0",
       "_view_name": "StyleView",
       "description_width": ""
      }
     },
     "cdd5edd453684a929d7555e820ba2c35": {
      "model_module": "@jupyter-widgets/controls",
      "model_module_version": "1.5.0",
      "model_name": "DescriptionStyleModel",
      "state": {
       "_model_module": "@jupyter-widgets/controls",
       "_model_module_version": "1.5.0",
       "_model_name": "DescriptionStyleModel",
       "_view_count": null,
       "_view_module": "@jupyter-widgets/base",
       "_view_module_version": "1.2.0",
       "_view_name": "StyleView",
       "description_width": ""
      }
     },
     "d2d9fe04cc814b978828306b477a09a9": {
      "model_module": "@jupyter-widgets/base",
      "model_module_version": "1.2.0",
      "model_name": "LayoutModel",
      "state": {
       "_model_module": "@jupyter-widgets/base",
       "_model_module_version": "1.2.0",
       "_model_name": "LayoutModel",
       "_view_count": null,
       "_view_module": "@jupyter-widgets/base",
       "_view_module_version": "1.2.0",
       "_view_name": "LayoutView",
       "align_content": null,
       "align_items": null,
       "align_self": null,
       "border": null,
       "bottom": null,
       "display": null,
       "flex": null,
       "flex_flow": null,
       "grid_area": null,
       "grid_auto_columns": null,
       "grid_auto_flow": null,
       "grid_auto_rows": null,
       "grid_column": null,
       "grid_gap": null,
       "grid_row": null,
       "grid_template_areas": null,
       "grid_template_columns": null,
       "grid_template_rows": null,
       "height": null,
       "justify_content": null,
       "justify_items": null,
       "left": null,
       "margin": null,
       "max_height": null,
       "max_width": null,
       "min_height": null,
       "min_width": null,
       "object_fit": null,
       "object_position": null,
       "order": null,
       "overflow": null,
       "overflow_x": null,
       "overflow_y": null,
       "padding": null,
       "right": null,
       "top": null,
       "visibility": null,
       "width": null
      }
     },
     "d42b8baa0d7f4fe5abe874a1d5d30455": {
      "model_module": "@jupyter-widgets/controls",
      "model_module_version": "1.5.0",
      "model_name": "ProgressStyleModel",
      "state": {
       "_model_module": "@jupyter-widgets/controls",
       "_model_module_version": "1.5.0",
       "_model_name": "ProgressStyleModel",
       "_view_count": null,
       "_view_module": "@jupyter-widgets/base",
       "_view_module_version": "1.2.0",
       "_view_name": "StyleView",
       "bar_color": null,
       "description_width": ""
      }
     },
     "d9e752174e0c474e8a5b2b3bdb5c4614": {
      "model_module": "@jupyter-widgets/controls",
      "model_module_version": "1.5.0",
      "model_name": "DescriptionStyleModel",
      "state": {
       "_model_module": "@jupyter-widgets/controls",
       "_model_module_version": "1.5.0",
       "_model_name": "DescriptionStyleModel",
       "_view_count": null,
       "_view_module": "@jupyter-widgets/base",
       "_view_module_version": "1.2.0",
       "_view_name": "StyleView",
       "description_width": ""
      }
     },
     "db5d5be661a0448aa28bba7f81ab9941": {
      "model_module": "@jupyter-widgets/base",
      "model_module_version": "1.2.0",
      "model_name": "LayoutModel",
      "state": {
       "_model_module": "@jupyter-widgets/base",
       "_model_module_version": "1.2.0",
       "_model_name": "LayoutModel",
       "_view_count": null,
       "_view_module": "@jupyter-widgets/base",
       "_view_module_version": "1.2.0",
       "_view_name": "LayoutView",
       "align_content": null,
       "align_items": null,
       "align_self": null,
       "border": null,
       "bottom": null,
       "display": null,
       "flex": null,
       "flex_flow": null,
       "grid_area": null,
       "grid_auto_columns": null,
       "grid_auto_flow": null,
       "grid_auto_rows": null,
       "grid_column": null,
       "grid_gap": null,
       "grid_row": null,
       "grid_template_areas": null,
       "grid_template_columns": null,
       "grid_template_rows": null,
       "height": null,
       "justify_content": null,
       "justify_items": null,
       "left": null,
       "margin": null,
       "max_height": null,
       "max_width": null,
       "min_height": null,
       "min_width": null,
       "object_fit": null,
       "object_position": null,
       "order": null,
       "overflow": null,
       "overflow_x": null,
       "overflow_y": null,
       "padding": null,
       "right": null,
       "top": null,
       "visibility": null,
       "width": null
      }
     },
     "dd9b31fc7766442c8e6869658c8cd5ba": {
      "model_module": "@jupyter-widgets/controls",
      "model_module_version": "1.5.0",
      "model_name": "DescriptionStyleModel",
      "state": {
       "_model_module": "@jupyter-widgets/controls",
       "_model_module_version": "1.5.0",
       "_model_name": "DescriptionStyleModel",
       "_view_count": null,
       "_view_module": "@jupyter-widgets/base",
       "_view_module_version": "1.2.0",
       "_view_name": "StyleView",
       "description_width": ""
      }
     },
     "de7c961a3b3248b0aa833f9a71ebe16c": {
      "model_module": "@jupyter-widgets/controls",
      "model_module_version": "1.5.0",
      "model_name": "HTMLModel",
      "state": {
       "_dom_classes": [],
       "_model_module": "@jupyter-widgets/controls",
       "_model_module_version": "1.5.0",
       "_model_name": "HTMLModel",
       "_view_count": null,
       "_view_module": "@jupyter-widgets/controls",
       "_view_module_version": "1.5.0",
       "_view_name": "HTMLView",
       "description": "",
       "description_tooltip": null,
       "layout": "IPY_MODEL_9a3bd30b02f047baa74b1e46726bbec1",
       "placeholder": "​",
       "style": "IPY_MODEL_c8db29752d56405a910855114d434b62",
       "value": "Training epoch: 2: 100%"
      }
     },
     "dff4a8fa2bad4d22ab0788cbd2a850a1": {
      "model_module": "@jupyter-widgets/controls",
      "model_module_version": "1.5.0",
      "model_name": "ProgressStyleModel",
      "state": {
       "_model_module": "@jupyter-widgets/controls",
       "_model_module_version": "1.5.0",
       "_model_name": "ProgressStyleModel",
       "_view_count": null,
       "_view_module": "@jupyter-widgets/base",
       "_view_module_version": "1.2.0",
       "_view_name": "StyleView",
       "bar_color": null,
       "description_width": ""
      }
     },
     "e28ed43b630441fea5f967aa30a680e6": {
      "model_module": "@jupyter-widgets/controls",
      "model_module_version": "1.5.0",
      "model_name": "HTMLModel",
      "state": {
       "_dom_classes": [],
       "_model_module": "@jupyter-widgets/controls",
       "_model_module_version": "1.5.0",
       "_model_name": "HTMLModel",
       "_view_count": null,
       "_view_module": "@jupyter-widgets/controls",
       "_view_module_version": "1.5.0",
       "_view_name": "HTMLView",
       "description": "",
       "description_tooltip": null,
       "layout": "IPY_MODEL_d2d9fe04cc814b978828306b477a09a9",
       "placeholder": "​",
       "style": "IPY_MODEL_137707da2ef440329549321f9251659b",
       "value": "tokenizer.json: 100%"
      }
     },
     "e5fd777fcfb747078604981c3f90bd74": {
      "model_module": "@jupyter-widgets/controls",
      "model_module_version": "1.5.0",
      "model_name": "ProgressStyleModel",
      "state": {
       "_model_module": "@jupyter-widgets/controls",
       "_model_module_version": "1.5.0",
       "_model_name": "ProgressStyleModel",
       "_view_count": null,
       "_view_module": "@jupyter-widgets/base",
       "_view_module_version": "1.2.0",
       "_view_name": "StyleView",
       "bar_color": null,
       "description_width": ""
      }
     },
     "ea2c04436e4c480a820fa41fdee1834b": {
      "model_module": "@jupyter-widgets/controls",
      "model_module_version": "1.5.0",
      "model_name": "DescriptionStyleModel",
      "state": {
       "_model_module": "@jupyter-widgets/controls",
       "_model_module_version": "1.5.0",
       "_model_name": "DescriptionStyleModel",
       "_view_count": null,
       "_view_module": "@jupyter-widgets/base",
       "_view_module_version": "1.2.0",
       "_view_name": "StyleView",
       "description_width": ""
      }
     },
     "eb069401f5564cb78b14399ab3b0ff1a": {
      "model_module": "@jupyter-widgets/base",
      "model_module_version": "1.2.0",
      "model_name": "LayoutModel",
      "state": {
       "_model_module": "@jupyter-widgets/base",
       "_model_module_version": "1.2.0",
       "_model_name": "LayoutModel",
       "_view_count": null,
       "_view_module": "@jupyter-widgets/base",
       "_view_module_version": "1.2.0",
       "_view_name": "LayoutView",
       "align_content": null,
       "align_items": null,
       "align_self": null,
       "border": null,
       "bottom": null,
       "display": null,
       "flex": null,
       "flex_flow": null,
       "grid_area": null,
       "grid_auto_columns": null,
       "grid_auto_flow": null,
       "grid_auto_rows": null,
       "grid_column": null,
       "grid_gap": null,
       "grid_row": null,
       "grid_template_areas": null,
       "grid_template_columns": null,
       "grid_template_rows": null,
       "height": null,
       "justify_content": null,
       "justify_items": null,
       "left": null,
       "margin": null,
       "max_height": null,
       "max_width": null,
       "min_height": null,
       "min_width": null,
       "object_fit": null,
       "object_position": null,
       "order": null,
       "overflow": null,
       "overflow_x": null,
       "overflow_y": null,
       "padding": null,
       "right": null,
       "top": null,
       "visibility": null,
       "width": null
      }
     },
     "f10d1d328e6f46158b8cc92c35a98a61": {
      "model_module": "@jupyter-widgets/base",
      "model_module_version": "1.2.0",
      "model_name": "LayoutModel",
      "state": {
       "_model_module": "@jupyter-widgets/base",
       "_model_module_version": "1.2.0",
       "_model_name": "LayoutModel",
       "_view_count": null,
       "_view_module": "@jupyter-widgets/base",
       "_view_module_version": "1.2.0",
       "_view_name": "LayoutView",
       "align_content": null,
       "align_items": null,
       "align_self": null,
       "border": null,
       "bottom": null,
       "display": null,
       "flex": null,
       "flex_flow": null,
       "grid_area": null,
       "grid_auto_columns": null,
       "grid_auto_flow": null,
       "grid_auto_rows": null,
       "grid_column": null,
       "grid_gap": null,
       "grid_row": null,
       "grid_template_areas": null,
       "grid_template_columns": null,
       "grid_template_rows": null,
       "height": null,
       "justify_content": null,
       "justify_items": null,
       "left": null,
       "margin": null,
       "max_height": null,
       "max_width": null,
       "min_height": null,
       "min_width": null,
       "object_fit": null,
       "object_position": null,
       "order": null,
       "overflow": null,
       "overflow_x": null,
       "overflow_y": null,
       "padding": null,
       "right": null,
       "top": null,
       "visibility": null,
       "width": null
      }
     },
     "f12b82c47f134b8aac4b843aa49310d8": {
      "model_module": "@jupyter-widgets/base",
      "model_module_version": "1.2.0",
      "model_name": "LayoutModel",
      "state": {
       "_model_module": "@jupyter-widgets/base",
       "_model_module_version": "1.2.0",
       "_model_name": "LayoutModel",
       "_view_count": null,
       "_view_module": "@jupyter-widgets/base",
       "_view_module_version": "1.2.0",
       "_view_name": "LayoutView",
       "align_content": null,
       "align_items": null,
       "align_self": null,
       "border": null,
       "bottom": null,
       "display": null,
       "flex": null,
       "flex_flow": null,
       "grid_area": null,
       "grid_auto_columns": null,
       "grid_auto_flow": null,
       "grid_auto_rows": null,
       "grid_column": null,
       "grid_gap": null,
       "grid_row": null,
       "grid_template_areas": null,
       "grid_template_columns": null,
       "grid_template_rows": null,
       "height": null,
       "justify_content": null,
       "justify_items": null,
       "left": null,
       "margin": null,
       "max_height": null,
       "max_width": null,
       "min_height": null,
       "min_width": null,
       "object_fit": null,
       "object_position": null,
       "order": null,
       "overflow": null,
       "overflow_x": null,
       "overflow_y": null,
       "padding": null,
       "right": null,
       "top": null,
       "visibility": null,
       "width": null
      }
     },
     "f56f96c6ac3b4a32bf16ba5d39ff9544": {
      "model_module": "@jupyter-widgets/controls",
      "model_module_version": "1.5.0",
      "model_name": "FloatProgressModel",
      "state": {
       "_dom_classes": [],
       "_model_module": "@jupyter-widgets/controls",
       "_model_module_version": "1.5.0",
       "_model_name": "FloatProgressModel",
       "_view_count": null,
       "_view_module": "@jupyter-widgets/controls",
       "_view_module_version": "1.5.0",
       "_view_name": "ProgressView",
       "bar_style": "success",
       "description": "",
       "description_tooltip": null,
       "layout": "IPY_MODEL_450c6683f6d145b1b871ca5a91541cce",
       "max": 483,
       "min": 0,
       "orientation": "horizontal",
       "style": "IPY_MODEL_f78566fa61dd4f2d966f538e31a44992",
       "value": 483
      }
     },
     "f78566fa61dd4f2d966f538e31a44992": {
      "model_module": "@jupyter-widgets/controls",
      "model_module_version": "1.5.0",
      "model_name": "ProgressStyleModel",
      "state": {
       "_model_module": "@jupyter-widgets/controls",
       "_model_module_version": "1.5.0",
       "_model_name": "ProgressStyleModel",
       "_view_count": null,
       "_view_module": "@jupyter-widgets/base",
       "_view_module_version": "1.2.0",
       "_view_name": "StyleView",
       "bar_color": null,
       "description_width": ""
      }
     },
     "f8051532d6a24b9fa0cdba39330b6170": {
      "model_module": "@jupyter-widgets/base",
      "model_module_version": "1.2.0",
      "model_name": "LayoutModel",
      "state": {
       "_model_module": "@jupyter-widgets/base",
       "_model_module_version": "1.2.0",
       "_model_name": "LayoutModel",
       "_view_count": null,
       "_view_module": "@jupyter-widgets/base",
       "_view_module_version": "1.2.0",
       "_view_name": "LayoutView",
       "align_content": null,
       "align_items": null,
       "align_self": null,
       "border": null,
       "bottom": null,
       "display": null,
       "flex": null,
       "flex_flow": null,
       "grid_area": null,
       "grid_auto_columns": null,
       "grid_auto_flow": null,
       "grid_auto_rows": null,
       "grid_column": null,
       "grid_gap": null,
       "grid_row": null,
       "grid_template_areas": null,
       "grid_template_columns": null,
       "grid_template_rows": null,
       "height": null,
       "justify_content": null,
       "justify_items": null,
       "left": null,
       "margin": null,
       "max_height": null,
       "max_width": null,
       "min_height": null,
       "min_width": null,
       "object_fit": null,
       "object_position": null,
       "order": null,
       "overflow": null,
       "overflow_x": null,
       "overflow_y": null,
       "padding": null,
       "right": null,
       "top": null,
       "visibility": null,
       "width": null
      }
     },
     "fa788cbab87547cc99b7bfb03bd07325": {
      "model_module": "@jupyter-widgets/base",
      "model_module_version": "1.2.0",
      "model_name": "LayoutModel",
      "state": {
       "_model_module": "@jupyter-widgets/base",
       "_model_module_version": "1.2.0",
       "_model_name": "LayoutModel",
       "_view_count": null,
       "_view_module": "@jupyter-widgets/base",
       "_view_module_version": "1.2.0",
       "_view_name": "LayoutView",
       "align_content": null,
       "align_items": null,
       "align_self": null,
       "border": null,
       "bottom": null,
       "display": null,
       "flex": null,
       "flex_flow": null,
       "grid_area": null,
       "grid_auto_columns": null,
       "grid_auto_flow": null,
       "grid_auto_rows": null,
       "grid_column": null,
       "grid_gap": null,
       "grid_row": null,
       "grid_template_areas": null,
       "grid_template_columns": null,
       "grid_template_rows": null,
       "height": null,
       "justify_content": null,
       "justify_items": null,
       "left": null,
       "margin": null,
       "max_height": null,
       "max_width": null,
       "min_height": null,
       "min_width": null,
       "object_fit": null,
       "object_position": null,
       "order": null,
       "overflow": null,
       "overflow_x": null,
       "overflow_y": null,
       "padding": null,
       "right": null,
       "top": null,
       "visibility": null,
       "width": null
      }
     },
     "fa7cb5e1083640b6ababccbe4e64fa8c": {
      "model_module": "@jupyter-widgets/base",
      "model_module_version": "1.2.0",
      "model_name": "LayoutModel",
      "state": {
       "_model_module": "@jupyter-widgets/base",
       "_model_module_version": "1.2.0",
       "_model_name": "LayoutModel",
       "_view_count": null,
       "_view_module": "@jupyter-widgets/base",
       "_view_module_version": "1.2.0",
       "_view_name": "LayoutView",
       "align_content": null,
       "align_items": null,
       "align_self": null,
       "border": null,
       "bottom": null,
       "display": null,
       "flex": null,
       "flex_flow": null,
       "grid_area": null,
       "grid_auto_columns": null,
       "grid_auto_flow": null,
       "grid_auto_rows": null,
       "grid_column": null,
       "grid_gap": null,
       "grid_row": null,
       "grid_template_areas": null,
       "grid_template_columns": null,
       "grid_template_rows": null,
       "height": null,
       "justify_content": null,
       "justify_items": null,
       "left": null,
       "margin": null,
       "max_height": null,
       "max_width": null,
       "min_height": null,
       "min_width": null,
       "object_fit": null,
       "object_position": null,
       "order": null,
       "overflow": null,
       "overflow_x": null,
       "overflow_y": null,
       "padding": null,
       "right": null,
       "top": null,
       "visibility": null,
       "width": null
      }
     },
     "fc62ac6842ab4cbdbdc01baac7de2b3f": {
      "model_module": "@jupyter-widgets/base",
      "model_module_version": "1.2.0",
      "model_name": "LayoutModel",
      "state": {
       "_model_module": "@jupyter-widgets/base",
       "_model_module_version": "1.2.0",
       "_model_name": "LayoutModel",
       "_view_count": null,
       "_view_module": "@jupyter-widgets/base",
       "_view_module_version": "1.2.0",
       "_view_name": "LayoutView",
       "align_content": null,
       "align_items": null,
       "align_self": null,
       "border": null,
       "bottom": null,
       "display": null,
       "flex": null,
       "flex_flow": null,
       "grid_area": null,
       "grid_auto_columns": null,
       "grid_auto_flow": null,
       "grid_auto_rows": null,
       "grid_column": null,
       "grid_gap": null,
       "grid_row": null,
       "grid_template_areas": null,
       "grid_template_columns": null,
       "grid_template_rows": null,
       "height": null,
       "justify_content": null,
       "justify_items": null,
       "left": null,
       "margin": null,
       "max_height": null,
       "max_width": null,
       "min_height": null,
       "min_width": null,
       "object_fit": null,
       "object_position": null,
       "order": null,
       "overflow": null,
       "overflow_x": null,
       "overflow_y": null,
       "padding": null,
       "right": null,
       "top": null,
       "visibility": null,
       "width": null
      }
     },
     "fc70b3909ed0444e809f948d54532905": {
      "model_module": "@jupyter-widgets/controls",
      "model_module_version": "1.5.0",
      "model_name": "HTMLModel",
      "state": {
       "_dom_classes": [],
       "_model_module": "@jupyter-widgets/controls",
       "_model_module_version": "1.5.0",
       "_model_name": "HTMLModel",
       "_view_count": null,
       "_view_module": "@jupyter-widgets/controls",
       "_view_module_version": "1.5.0",
       "_view_name": "HTMLView",
       "description": "",
       "description_tooltip": null,
       "layout": "IPY_MODEL_fa788cbab87547cc99b7bfb03bd07325",
       "placeholder": "​",
       "style": "IPY_MODEL_d9e752174e0c474e8a5b2b3bdb5c4614",
       "value": "Training epoch: 3: 100%"
      }
     },
     "fe01f6938570451b8304424c7cbf22a4": {
      "model_module": "@jupyter-widgets/base",
      "model_module_version": "1.2.0",
      "model_name": "LayoutModel",
      "state": {
       "_model_module": "@jupyter-widgets/base",
       "_model_module_version": "1.2.0",
       "_model_name": "LayoutModel",
       "_view_count": null,
       "_view_module": "@jupyter-widgets/base",
       "_view_module_version": "1.2.0",
       "_view_name": "LayoutView",
       "align_content": null,
       "align_items": null,
       "align_self": null,
       "border": null,
       "bottom": null,
       "display": null,
       "flex": null,
       "flex_flow": null,
       "grid_area": null,
       "grid_auto_columns": null,
       "grid_auto_flow": null,
       "grid_auto_rows": null,
       "grid_column": null,
       "grid_gap": null,
       "grid_row": null,
       "grid_template_areas": null,
       "grid_template_columns": null,
       "grid_template_rows": null,
       "height": null,
       "justify_content": null,
       "justify_items": null,
       "left": null,
       "margin": null,
       "max_height": null,
       "max_width": null,
       "min_height": null,
       "min_width": null,
       "object_fit": null,
       "object_position": null,
       "order": null,
       "overflow": null,
       "overflow_x": null,
       "overflow_y": null,
       "padding": null,
       "right": null,
       "top": null,
       "visibility": null,
       "width": null
      }
     }
    },
    "version_major": 2,
    "version_minor": 0
   }
  }
 },
 "nbformat": 4,
 "nbformat_minor": 5
}
