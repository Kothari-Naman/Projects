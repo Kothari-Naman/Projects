{
 "cells": [
  {
   "cell_type": "markdown",
   "id": "d8ad7e4d",
   "metadata": {},
   "source": [
    "Dataset link on kaggle- https://www.kaggle.com/datasets/yasharjebraeily/drowsy-detection-dataset"
   ]
  },
  {
   "cell_type": "markdown",
   "id": "195dab6a",
   "metadata": {
    "papermill": {
     "duration": 0.013699,
     "end_time": "2024-07-20T10:46:09.278266",
     "exception": false,
     "start_time": "2024-07-20T10:46:09.264567",
     "status": "completed"
    },
    "tags": []
   },
   "source": [
    "###  **Pseudo Code**\n",
    "\n",
    "* `Lenet-5` (https://www.analyticsvidhya.com/blog/2021/03/the-architecture-of-lenet-5/)\n",
    "* `Custom model of my own`\n",
    "\n",
    "**Data Loading and Preprocessing**\n",
    "\n",
    "Converted data files into PyTorch ImageFolder Datasets that uses `torchvision.transforms.ToTensor()` to directly get image tensors of the form( tensor(color_channels ,height, width), label). After utilizing ToTensor() method ,we get rid of the duplicate grayscale color channels by accessing only the first index and changing the shape as `(3,48,48) ->(1,48,48)` for preprocessing before converting into DataLoaders using `torch.utils.data.DataLoaders`\n",
    "\n",
    "**Lenet-5 Architecture**\n",
    "\n",
    "Upon training Lenet-5 using the following hyperparameters , i got a test accuracy close to ***92%***\n",
    "* *110* Epochs\n",
    "* Learning Rate- *0.001*\n",
    "* Regularization factor- *0.009* in the loss function\n",
    "\n",
    "Training longer led to increase in Test losses and decrease in Test Accuracies while the train loss/accuracies kept improving, indicating overfitting, so i stopped at 110 epochs.\n",
    "\n",
    "**Custom Model Architecture**\n",
    "\n",
    "The Previous model might have been complex for our simple dataset so thsi model (model_1) consists of only two blocks:\n",
    "`block_1 ->block_2`:\n",
    "\n",
    "*block_1:`Conv2d -> ReLU -> MaxPool2d`\n",
    "*block_2:`Conv2d -> Flatten -> Linear -> Linear`\n",
    "\n",
    "By Printing out the shapes after each layer, we can find out what shape goes as in_features in the Linear layer.\n",
    "\n",
    "Upon training using the following hyperparameters , i got a test accuracy close to ***85%***\n",
    "* *110* Epochs\n",
    "* lr-*0.000968*\n",
    "* regularization factor-*0.099*\n",
    "\n",
    "The model didn't learn much for initial 50 epochs, giving around ***50%*** Test accuracy but gradually picked up to ***87%*** in later epochs."
   ]
  },
  {
   "cell_type": "markdown",
   "id": "a2e24858",
   "metadata": {},
   "source": []
  },
  {
   "cell_type": "code",
   "execution_count": 1,
   "id": "c0fc786c",
   "metadata": {
    "_cell_guid": "b1076dfc-b9ad-4769-8c92-a6c4dae69d19",
    "_uuid": "8f2839f25d086af736a60e9eeb907d3b93b6e0e5",
    "execution": {
     "iopub.execute_input": "2024-07-20T10:46:09.305903Z",
     "iopub.status.busy": "2024-07-20T10:46:09.305561Z",
     "iopub.status.idle": "2024-07-20T10:46:17.158194Z",
     "shell.execute_reply": "2024-07-20T10:46:17.157391Z"
    },
    "papermill": {
     "duration": 7.869193,
     "end_time": "2024-07-20T10:46:17.160623",
     "exception": false,
     "start_time": "2024-07-20T10:46:09.291430",
     "status": "completed"
    },
    "tags": []
   },
   "outputs": [],
   "source": [
    "# This Python 3 environment comes with many helpful analytics libraries installed\n",
    "# It is defined by the kaggle/python Docker image: https://github.com/kaggle/docker-python\n",
    "# For example, here's several helpful packages to load\n",
    "\n",
    "import numpy as np # linear algebra\n",
    "import pandas as pd # data processing, CSV file I/O (e.g. pd.read_csv)\n",
    "\n",
    "# Input data files are available in the read-only \"../input/\" directory\n",
    "# For example, running this (by clicking run or pressing Shift+Enter) will list all files under the input directory\n",
    "paths=[]\n",
    "import os\n",
    "for dirname, _, filenames in os.walk('/kaggle/input'):\n",
    "    for filename in filenames:\n",
    "        paths.append(os.path.join(dirname, filename))\n",
    "\n",
    "# You can write up to 20GB to the current directory (/kaggle/working/) that gets preserved as output when you create a version using \"Save & Run All\" \n",
    "# You can also write temporary files to /kaggle/temp/, but they won't be saved outside of the current session"
   ]
  },
  {
   "cell_type": "code",
   "execution_count": 2,
   "id": "284eb4f4",
   "metadata": {
    "execution": {
     "iopub.execute_input": "2024-07-20T10:46:17.189122Z",
     "iopub.status.busy": "2024-07-20T10:46:17.188694Z",
     "iopub.status.idle": "2024-07-20T10:46:17.195245Z",
     "shell.execute_reply": "2024-07-20T10:46:17.194459Z"
    },
    "papermill": {
     "duration": 0.022728,
     "end_time": "2024-07-20T10:46:17.197347",
     "exception": false,
     "start_time": "2024-07-20T10:46:17.174619",
     "status": "completed"
    },
    "tags": []
   },
   "outputs": [
    {
     "data": {
      "text/plain": [
       "'/kaggle/input/drowsy-detection-dataset/Drowsy_datset/test/DROWSY/815.png'"
      ]
     },
     "execution_count": 2,
     "metadata": {},
     "output_type": "execute_result"
    }
   ],
   "source": [
    "paths[0]"
   ]
  },
  {
   "cell_type": "code",
   "execution_count": 3,
   "id": "8d56fa9f",
   "metadata": {
    "execution": {
     "iopub.execute_input": "2024-07-20T10:46:17.226751Z",
     "iopub.status.busy": "2024-07-20T10:46:17.226431Z",
     "iopub.status.idle": "2024-07-20T10:46:23.107645Z",
     "shell.execute_reply": "2024-07-20T10:46:23.106724Z"
    },
    "papermill": {
     "duration": 5.898181,
     "end_time": "2024-07-20T10:46:23.109994",
     "exception": false,
     "start_time": "2024-07-20T10:46:17.211813",
     "status": "completed"
    },
    "tags": []
   },
   "outputs": [],
   "source": [
    "import torch\n",
    "from torch import nn\n",
    "from torch.nn.parallel import DataParallel\n",
    "from torchvision import transforms\n",
    "from torchvision import datasets\n",
    "from torch.utils.data import DataLoader\n",
    "import random\n",
    "from timeit import default_timer as timer\n",
    "from tqdm.auto import tqdm\n",
    "from torchvision.transforms import ToTensor, Lambda\n",
    "import matplotlib.pyplot as plt\n",
    "import cv2\n",
    "import pickle\n",
    "import csv\n",
    "\n"
   ]
  },
  {
   "cell_type": "markdown",
   "id": "7c566c0f",
   "metadata": {
    "papermill": {
     "duration": 0.013388,
     "end_time": "2024-07-20T10:46:23.137066",
     "exception": false,
     "start_time": "2024-07-20T10:46:23.123678",
     "status": "completed"
    },
    "tags": []
   },
   "source": [
    "## setup device agnostic code"
   ]
  },
  {
   "cell_type": "code",
   "execution_count": 4,
   "id": "97c5de00",
   "metadata": {
    "execution": {
     "iopub.execute_input": "2024-07-20T10:46:23.165996Z",
     "iopub.status.busy": "2024-07-20T10:46:23.165262Z",
     "iopub.status.idle": "2024-07-20T10:46:23.261145Z",
     "shell.execute_reply": "2024-07-20T10:46:23.260189Z"
    },
    "papermill": {
     "duration": 0.113214,
     "end_time": "2024-07-20T10:46:23.263674",
     "exception": false,
     "start_time": "2024-07-20T10:46:23.150460",
     "status": "completed"
    },
    "tags": []
   },
   "outputs": [
    {
     "data": {
      "text/plain": [
       "'cuda'"
      ]
     },
     "execution_count": 4,
     "metadata": {},
     "output_type": "execute_result"
    }
   ],
   "source": [
    "device=\"cuda\" if torch.cuda.is_available() else \"cpu\"\n",
    "device"
   ]
  },
  {
   "cell_type": "code",
   "execution_count": 5,
   "id": "9882e83c",
   "metadata": {
    "execution": {
     "iopub.execute_input": "2024-07-20T10:46:23.295348Z",
     "iopub.status.busy": "2024-07-20T10:46:23.294569Z",
     "iopub.status.idle": "2024-07-20T10:46:23.299239Z",
     "shell.execute_reply": "2024-07-20T10:46:23.298348Z"
    },
    "papermill": {
     "duration": 0.021015,
     "end_time": "2024-07-20T10:46:23.301178",
     "exception": false,
     "start_time": "2024-07-20T10:46:23.280163",
     "status": "completed"
    },
    "tags": []
   },
   "outputs": [],
   "source": [
    "test_data_paths=paths[:1483]\n",
    "train_data_paths=paths[1483:]"
   ]
  },
  {
   "cell_type": "code",
   "execution_count": 6,
   "id": "23ef3957",
   "metadata": {
    "execution": {
     "iopub.execute_input": "2024-07-20T10:46:23.329594Z",
     "iopub.status.busy": "2024-07-20T10:46:23.329313Z",
     "iopub.status.idle": "2024-07-20T10:46:23.335385Z",
     "shell.execute_reply": "2024-07-20T10:46:23.334494Z"
    },
    "papermill": {
     "duration": 0.02251,
     "end_time": "2024-07-20T10:46:23.337232",
     "exception": false,
     "start_time": "2024-07-20T10:46:23.314722",
     "status": "completed"
    },
    "tags": []
   },
   "outputs": [
    {
     "data": {
      "text/plain": [
       "('/kaggle/input/drowsy-detection-dataset/Drowsy_datset/test/DROWSY/815.png',\n",
       " '/kaggle/input/drowsy-detection-dataset/Drowsy_datset/train/DROWSY/699.jpg_0.png')"
      ]
     },
     "execution_count": 6,
     "metadata": {},
     "output_type": "execute_result"
    }
   ],
   "source": [
    "test_data_paths[0],train_data_paths[0]"
   ]
  },
  {
   "cell_type": "code",
   "execution_count": 7,
   "id": "03e9ad3f",
   "metadata": {
    "execution": {
     "iopub.execute_input": "2024-07-20T10:46:23.365624Z",
     "iopub.status.busy": "2024-07-20T10:46:23.365358Z",
     "iopub.status.idle": "2024-07-20T10:46:23.370641Z",
     "shell.execute_reply": "2024-07-20T10:46:23.369827Z"
    },
    "papermill": {
     "duration": 0.021653,
     "end_time": "2024-07-20T10:46:23.372468",
     "exception": false,
     "start_time": "2024-07-20T10:46:23.350815",
     "status": "completed"
    },
    "tags": []
   },
   "outputs": [
    {
     "data": {
      "text/plain": [
       "5859"
      ]
     },
     "execution_count": 7,
     "metadata": {},
     "output_type": "execute_result"
    }
   ],
   "source": [
    "len(train_data_paths)"
   ]
  },
  {
   "cell_type": "code",
   "execution_count": 8,
   "id": "43c4d1fb",
   "metadata": {
    "execution": {
     "iopub.execute_input": "2024-07-20T10:46:23.401065Z",
     "iopub.status.busy": "2024-07-20T10:46:23.400800Z",
     "iopub.status.idle": "2024-07-20T10:46:23.424210Z",
     "shell.execute_reply": "2024-07-20T10:46:23.423532Z"
    },
    "papermill": {
     "duration": 0.040019,
     "end_time": "2024-07-20T10:46:23.426138",
     "exception": false,
     "start_time": "2024-07-20T10:46:23.386119",
     "status": "completed"
    },
    "tags": []
   },
   "outputs": [],
   "source": [
    "img=cv2.imread(train_data_paths[0])"
   ]
  },
  {
   "cell_type": "code",
   "execution_count": 9,
   "id": "5711f2ea",
   "metadata": {
    "execution": {
     "iopub.execute_input": "2024-07-20T10:46:23.454825Z",
     "iopub.status.busy": "2024-07-20T10:46:23.454544Z",
     "iopub.status.idle": "2024-07-20T10:46:23.460152Z",
     "shell.execute_reply": "2024-07-20T10:46:23.459322Z"
    },
    "papermill": {
     "duration": 0.021782,
     "end_time": "2024-07-20T10:46:23.462045",
     "exception": false,
     "start_time": "2024-07-20T10:46:23.440263",
     "status": "completed"
    },
    "tags": []
   },
   "outputs": [
    {
     "data": {
      "text/plain": [
       "(48, 48, 3)"
      ]
     },
     "execution_count": 9,
     "metadata": {},
     "output_type": "execute_result"
    }
   ],
   "source": [
    "np.reshape(img,(48,48,3))\n",
    "img.shape"
   ]
  },
  {
   "cell_type": "code",
   "execution_count": 10,
   "id": "7929dd12",
   "metadata": {
    "execution": {
     "iopub.execute_input": "2024-07-20T10:46:23.490637Z",
     "iopub.status.busy": "2024-07-20T10:46:23.490146Z",
     "iopub.status.idle": "2024-07-20T10:46:23.496380Z",
     "shell.execute_reply": "2024-07-20T10:46:23.495575Z"
    },
    "papermill": {
     "duration": 0.022549,
     "end_time": "2024-07-20T10:46:23.498287",
     "exception": false,
     "start_time": "2024-07-20T10:46:23.475738",
     "status": "completed"
    },
    "tags": []
   },
   "outputs": [
    {
     "data": {
      "text/plain": [
       "array([[ 1,  1,  0, ..., 25, 13, 25],\n",
       "       [ 1,  1,  0, ..., 29, 26, 25],\n",
       "       [ 1,  1,  0, ..., 30, 40, 29],\n",
       "       ...,\n",
       "       [ 2,  1,  1, ..., 14, 18, 28],\n",
       "       [ 1,  1,  0, ..., 21, 22, 25],\n",
       "       [ 1,  1,  1, ..., 23, 23, 23]], dtype=uint8)"
      ]
     },
     "execution_count": 10,
     "metadata": {},
     "output_type": "execute_result"
    }
   ],
   "source": [
    "img[:,:,0].shape\n",
    "img[:,:,0]"
   ]
  },
  {
   "cell_type": "code",
   "execution_count": 11,
   "id": "d0329786",
   "metadata": {
    "execution": {
     "iopub.execute_input": "2024-07-20T10:46:23.526903Z",
     "iopub.status.busy": "2024-07-20T10:46:23.526649Z",
     "iopub.status.idle": "2024-07-20T10:46:23.533004Z",
     "shell.execute_reply": "2024-07-20T10:46:23.532175Z"
    },
    "papermill": {
     "duration": 0.022956,
     "end_time": "2024-07-20T10:46:23.535064",
     "exception": false,
     "start_time": "2024-07-20T10:46:23.512108",
     "status": "completed"
    },
    "tags": []
   },
   "outputs": [
    {
     "data": {
      "text/plain": [
       "(array([[ True,  True,  True, ...,  True,  True,  True],\n",
       "        [ True,  True,  True, ...,  True,  True,  True],\n",
       "        [ True,  True,  True, ...,  True,  True,  True],\n",
       "        ...,\n",
       "        [ True,  True,  True, ...,  True,  True,  True],\n",
       "        [ True,  True,  True, ...,  True,  True,  True],\n",
       "        [ True,  True,  True, ...,  True,  True,  True]]),\n",
       " array([[ True,  True,  True, ...,  True,  True,  True],\n",
       "        [ True,  True,  True, ...,  True,  True,  True],\n",
       "        [ True,  True,  True, ...,  True,  True,  True],\n",
       "        ...,\n",
       "        [ True,  True,  True, ...,  True,  True,  True],\n",
       "        [ True,  True,  True, ...,  True,  True,  True],\n",
       "        [ True,  True,  True, ...,  True,  True,  True]]))"
      ]
     },
     "execution_count": 11,
     "metadata": {},
     "output_type": "execute_result"
    }
   ],
   "source": [
    "img[:,:,1]==img[:,:,0],img[:,:,0]==img[:,:,2]\n",
    "# every image has all 3 channels as grayscale which are duplicates of each other, so we consider only one of those channels."
   ]
  },
  {
   "cell_type": "markdown",
   "id": "8dae4219",
   "metadata": {
    "papermill": {
     "duration": 0.013809,
     "end_time": "2024-07-20T10:46:23.563151",
     "exception": false,
     "start_time": "2024-07-20T10:46:23.549342",
     "status": "completed"
    },
    "tags": []
   },
   "source": [
    "## Convert into datasets"
   ]
  },
  {
   "cell_type": "code",
   "execution_count": 12,
   "id": "5a533c33",
   "metadata": {
    "execution": {
     "iopub.execute_input": "2024-07-20T10:46:23.592036Z",
     "iopub.status.busy": "2024-07-20T10:46:23.591786Z",
     "iopub.status.idle": "2024-07-20T10:46:23.595520Z",
     "shell.execute_reply": "2024-07-20T10:46:23.594676Z"
    },
    "papermill": {
     "duration": 0.020312,
     "end_time": "2024-07-20T10:46:23.597374",
     "exception": false,
     "start_time": "2024-07-20T10:46:23.577062",
     "status": "completed"
    },
    "tags": []
   },
   "outputs": [],
   "source": [
    "data_transform=transforms.ToTensor()"
   ]
  },
  {
   "cell_type": "code",
   "execution_count": 13,
   "id": "addd5382",
   "metadata": {
    "execution": {
     "iopub.execute_input": "2024-07-20T10:46:23.626484Z",
     "iopub.status.busy": "2024-07-20T10:46:23.626242Z",
     "iopub.status.idle": "2024-07-20T10:46:25.056369Z",
     "shell.execute_reply": "2024-07-20T10:46:25.055399Z"
    },
    "papermill": {
     "duration": 1.447237,
     "end_time": "2024-07-20T10:46:25.058550",
     "exception": false,
     "start_time": "2024-07-20T10:46:23.611313",
     "status": "completed"
    },
    "tags": []
   },
   "outputs": [
    {
     "data": {
      "text/plain": [
       "(Dataset ImageFolder\n",
       "     Number of datapoints: 5859\n",
       "     Root location: /kaggle/input/drowsy-detection-dataset/Drowsy_datset/train\n",
       "     StandardTransform\n",
       " Transform: ToTensor(),\n",
       " Dataset ImageFolder\n",
       "     Number of datapoints: 1483\n",
       "     Root location: /kaggle/input/drowsy-detection-dataset/Drowsy_datset/test\n",
       "     StandardTransform\n",
       " Transform: ToTensor())"
      ]
     },
     "execution_count": 13,
     "metadata": {},
     "output_type": "execute_result"
    }
   ],
   "source": [
    "train_data=datasets.ImageFolder(root=\"/kaggle/input/drowsy-detection-dataset/Drowsy_datset/train\",\n",
    "                              transform=data_transform,\n",
    "                              target_transform=None)\n",
    "test_data=datasets.ImageFolder(root=\"/kaggle/input/drowsy-detection-dataset/Drowsy_datset/test\",\n",
    "                              transform=data_transform,\n",
    "                              target_transform=None)\n",
    "train_data,test_data"
   ]
  },
  {
   "cell_type": "code",
   "execution_count": 14,
   "id": "8b3fc2ac",
   "metadata": {
    "execution": {
     "iopub.execute_input": "2024-07-20T10:46:25.090414Z",
     "iopub.status.busy": "2024-07-20T10:46:25.090126Z",
     "iopub.status.idle": "2024-07-20T10:46:25.095769Z",
     "shell.execute_reply": "2024-07-20T10:46:25.094778Z"
    },
    "papermill": {
     "duration": 0.023125,
     "end_time": "2024-07-20T10:46:25.097974",
     "exception": false,
     "start_time": "2024-07-20T10:46:25.074849",
     "status": "completed"
    },
    "tags": []
   },
   "outputs": [
    {
     "data": {
      "text/plain": [
       "['DROWSY', 'NATURAL']"
      ]
     },
     "execution_count": 14,
     "metadata": {},
     "output_type": "execute_result"
    }
   ],
   "source": [
    "# we can access different properties like class names of the dataset by using torchvision.datasets.folder.ImageFolder\n",
    "class_names=train_data.classes\n",
    "class_names"
   ]
  },
  {
   "cell_type": "code",
   "execution_count": 15,
   "id": "06134ae8",
   "metadata": {
    "execution": {
     "iopub.execute_input": "2024-07-20T10:46:25.128884Z",
     "iopub.status.busy": "2024-07-20T10:46:25.128308Z",
     "iopub.status.idle": "2024-07-20T10:46:25.134033Z",
     "shell.execute_reply": "2024-07-20T10:46:25.133120Z"
    },
    "papermill": {
     "duration": 0.023256,
     "end_time": "2024-07-20T10:46:25.136091",
     "exception": false,
     "start_time": "2024-07-20T10:46:25.112835",
     "status": "completed"
    },
    "tags": []
   },
   "outputs": [
    {
     "data": {
      "text/plain": [
       "torchvision.datasets.folder.ImageFolder"
      ]
     },
     "execution_count": 15,
     "metadata": {},
     "output_type": "execute_result"
    }
   ],
   "source": [
    "type(train_data)"
   ]
  },
  {
   "cell_type": "code",
   "execution_count": 16,
   "id": "cd522fb2",
   "metadata": {
    "execution": {
     "iopub.execute_input": "2024-07-20T10:46:25.166262Z",
     "iopub.status.busy": "2024-07-20T10:46:25.165964Z",
     "iopub.status.idle": "2024-07-20T10:46:25.245577Z",
     "shell.execute_reply": "2024-07-20T10:46:25.244619Z"
    },
    "papermill": {
     "duration": 0.09703,
     "end_time": "2024-07-20T10:46:25.247515",
     "exception": false,
     "start_time": "2024-07-20T10:46:25.150485",
     "status": "completed"
    },
    "tags": []
   },
   "outputs": [
    {
     "data": {
      "text/plain": [
       "(True, True)"
      ]
     },
     "execution_count": 16,
     "metadata": {},
     "output_type": "execute_result"
    }
   ],
   "source": [
    "# all 3 color channels are copies of the same ie. grayscale\n",
    "torch.equal(train_data[0][0][0],train_data[0][0][1]) , torch.equal(train_data[0][0][2],train_data[0][0][1])"
   ]
  },
  {
   "cell_type": "markdown",
   "id": "ea9c157f",
   "metadata": {
    "papermill": {
     "duration": 0.014676,
     "end_time": "2024-07-20T10:46:25.276924",
     "exception": false,
     "start_time": "2024-07-20T10:46:25.262248",
     "status": "completed"
    },
    "tags": []
   },
   "source": [
    "## Getting rid of extra duplicate dimentions (3,48,48) -> (1,48,48)"
   ]
  },
  {
   "cell_type": "code",
   "execution_count": 17,
   "id": "576dc9c4",
   "metadata": {
    "execution": {
     "iopub.execute_input": "2024-07-20T10:46:25.307463Z",
     "iopub.status.busy": "2024-07-20T10:46:25.307189Z",
     "iopub.status.idle": "2024-07-20T10:47:12.214331Z",
     "shell.execute_reply": "2024-07-20T10:47:12.213266Z"
    },
    "papermill": {
     "duration": 46.92541,
     "end_time": "2024-07-20T10:47:12.216918",
     "exception": false,
     "start_time": "2024-07-20T10:46:25.291508",
     "status": "completed"
    },
    "tags": []
   },
   "outputs": [],
   "source": [
    "# train_data=[(img_1,label_1),(img_2,label_2).....] same format for test data aas well\n",
    "train_data=[(train_data[i][0][0].unsqueeze(dim=0),train_data[i][1]) for i in range(len(train_data))]\n",
    "test_data=[(test_data[i][0][0].unsqueeze(dim=0),test_data[i][1]) for i in range(len(test_data))]"
   ]
  },
  {
   "cell_type": "markdown",
   "id": "110d75eb",
   "metadata": {
    "papermill": {
     "duration": 0.054853,
     "end_time": "2024-07-20T10:47:12.287815",
     "exception": false,
     "start_time": "2024-07-20T10:47:12.232962",
     "status": "completed"
    },
    "tags": []
   },
   "source": [
    "## Visualising some samples from the dataset"
   ]
  },
  {
   "cell_type": "code",
   "execution_count": 18,
   "id": "8af8bbb9",
   "metadata": {
    "execution": {
     "iopub.execute_input": "2024-07-20T10:47:12.318833Z",
     "iopub.status.busy": "2024-07-20T10:47:12.318105Z",
     "iopub.status.idle": "2024-07-20T10:47:12.322950Z",
     "shell.execute_reply": "2024-07-20T10:47:12.322103Z"
    },
    "papermill": {
     "duration": 0.02253,
     "end_time": "2024-07-20T10:47:12.324845",
     "exception": false,
     "start_time": "2024-07-20T10:47:12.302315",
     "status": "completed"
    },
    "tags": []
   },
   "outputs": [],
   "source": [
    "samples=[]\n",
    "labels=[]\n",
    "for sample,label in random.sample(test_data,k=9):\n",
    "    samples.append(sample)\n",
    "    labels.append(label)"
   ]
  },
  {
   "cell_type": "code",
   "execution_count": 19,
   "id": "6ef08bcf",
   "metadata": {
    "execution": {
     "iopub.execute_input": "2024-07-20T10:47:12.356061Z",
     "iopub.status.busy": "2024-07-20T10:47:12.355460Z",
     "iopub.status.idle": "2024-07-20T10:47:13.088667Z",
     "shell.execute_reply": "2024-07-20T10:47:13.087828Z"
    },
    "papermill": {
     "duration": 0.751028,
     "end_time": "2024-07-20T10:47:13.091016",
     "exception": false,
     "start_time": "2024-07-20T10:47:12.339988",
     "status": "completed"
    },
    "tags": []
   },
   "outputs": [
    {
     "data": {
      "image/png": "[encoded data removed]",
      "text/plain": [
       "<Figure size 700x700 with 9 Axes>"
      ]
     },
     "metadata": {},
     "output_type": "display_data"
    }
   ],
   "source": [
    "plt.figure(figsize=(7,7))\n",
    "rows,cols=3,3\n",
    "for i in range(1,rows*cols+1):\n",
    "    plt.subplot(3,3,i)\n",
    "    plt.imshow(samples[i-1].squeeze(),cmap=\"gray\")\n",
    "    plt.title(class_names[labels[i-1]])\n",
    "    plt.axis(False)"
   ]
  },
  {
   "cell_type": "markdown",
   "id": "ed46ccc3",
   "metadata": {
    "papermill": {
     "duration": 0.015304,
     "end_time": "2024-07-20T10:47:13.122062",
     "exception": false,
     "start_time": "2024-07-20T10:47:13.106758",
     "status": "completed"
    },
    "tags": []
   },
   "source": [
    "## Converting datasets into iterable batched dataloaders"
   ]
  },
  {
   "cell_type": "code",
   "execution_count": 20,
   "id": "7bc7d07a",
   "metadata": {
    "execution": {
     "iopub.execute_input": "2024-07-20T10:47:13.154106Z",
     "iopub.status.busy": "2024-07-20T10:47:13.153726Z",
     "iopub.status.idle": "2024-07-20T10:47:13.160669Z",
     "shell.execute_reply": "2024-07-20T10:47:13.159846Z"
    },
    "papermill": {
     "duration": 0.025222,
     "end_time": "2024-07-20T10:47:13.162570",
     "exception": false,
     "start_time": "2024-07-20T10:47:13.137348",
     "status": "completed"
    },
    "tags": []
   },
   "outputs": [
    {
     "data": {
      "text/plain": [
       "(<torch.utils.data.dataloader.DataLoader at 0x7fe4f4584400>,\n",
       " <torch.utils.data.dataloader.DataLoader at 0x7fe4f4584c70>)"
      ]
     },
     "execution_count": 20,
     "metadata": {},
     "output_type": "execute_result"
    }
   ],
   "source": [
    "## Upon experimenting with batch_size 16,32,64,128 -> 32 gives best results keeping rest of the hyperparams same\n",
    "train_dataloader=DataLoader(dataset=train_data,\n",
    "                           batch_size=32, \n",
    "                           shuffle=True)\n",
    "test_dataloader=DataLoader(dataset=test_data,\n",
    "                          batch_size=32,\n",
    "                          shuffle=True)\n",
    "train_dataloader,test_dataloader"
   ]
  },
  {
   "cell_type": "markdown",
   "id": "d6c02118",
   "metadata": {
    "papermill": {
     "duration": 0.017016,
     "end_time": "2024-07-20T10:47:13.195263",
     "exception": false,
     "start_time": "2024-07-20T10:47:13.178247",
     "status": "completed"
    },
    "tags": []
   },
   "source": [
    "## Building CNN architecture : Lenet-5\n",
    "https://www.analyticsvidhya.com/blog/2021/03/the-architecture-of-lenet-5/"
   ]
  },
  {
   "cell_type": "code",
   "execution_count": 21,
   "id": "775d3f88",
   "metadata": {
    "execution": {
     "iopub.execute_input": "2024-07-20T10:47:13.229131Z",
     "iopub.status.busy": "2024-07-20T10:47:13.228853Z",
     "iopub.status.idle": "2024-07-20T10:47:13.240282Z",
     "shell.execute_reply": "2024-07-20T10:47:13.239389Z"
    },
    "papermill": {
     "duration": 0.030737,
     "end_time": "2024-07-20T10:47:13.242251",
     "exception": false,
     "start_time": "2024-07-20T10:47:13.211514",
     "status": "completed"
    },
    "tags": []
   },
   "outputs": [],
   "source": [
    "class  DrowsyModelV0(nn.Module):\n",
    "    def __init__(self,input_shape:int,\n",
    "                 #hidden_units:int,\n",
    "                 output_shape:int):\n",
    "        super().__init__()\n",
    "        \n",
    "        self.block1=nn.Sequential(\n",
    "            nn.Conv2d(in_channels=input_shape,\n",
    "                     out_channels=6,\n",
    "                     kernel_size=5,\n",
    "                     padding=0,\n",
    "                     stride=1),\n",
    "            nn.Tanh(),\n",
    "            nn.AvgPool2d(kernel_size=2,\n",
    "                        stride=2)\n",
    "        )\n",
    "        self.block2=nn.Sequential(\n",
    "            nn.Conv2d(in_channels=6,\n",
    "                     out_channels=16,\n",
    "                     kernel_size=5,\n",
    "                     padding=0,\n",
    "                     stride=1),\n",
    "            nn.Tanh(),\n",
    "            nn.AvgPool2d(kernel_size=2,\n",
    "                        stride=2)\n",
    "        )\n",
    "        self.block3=nn.Sequential(\n",
    "            nn.Conv2d(in_channels=16,\n",
    "                     out_channels=120,\n",
    "                     kernel_size=9,\n",
    "                     padding=0,\n",
    "                     stride=1),\n",
    "            nn.Tanh(),\n",
    "            nn.Flatten())\n",
    "        self.classifier=nn.Sequential(\n",
    "            nn.Linear(in_features=120,out_features=84),\n",
    "            nn.Tanh(),\n",
    "            nn.Linear(in_features=84,out_features=output_shape),\n",
    "            \n",
    "        )\n",
    "        \n",
    "    def forward(self,x):\n",
    "        x=self.block1(x)\n",
    "#         print(x.shape)\n",
    "        x=self.block2(x)\n",
    "#         print(x.shape)\n",
    "        x=self.block3(x)\n",
    "#         print(x.shape)\n",
    "        x=self.classifier(x)\n",
    "#         print(x.shape)\n",
    "        return x\n",
    "        \n",
    "        "
   ]
  },
  {
   "cell_type": "code",
   "execution_count": 22,
   "id": "03663a0f",
   "metadata": {
    "execution": {
     "iopub.execute_input": "2024-07-20T10:47:13.274629Z",
     "iopub.status.busy": "2024-07-20T10:47:13.274346Z",
     "iopub.status.idle": "2024-07-20T10:47:13.278663Z",
     "shell.execute_reply": "2024-07-20T10:47:13.277858Z"
    },
    "papermill": {
     "duration": 0.022887,
     "end_time": "2024-07-20T10:47:13.280551",
     "exception": false,
     "start_time": "2024-07-20T10:47:13.257664",
     "status": "completed"
    },
    "tags": []
   },
   "outputs": [],
   "source": [
    "def accuracy_fn(y_true,y_preds):\n",
    "    correct=torch.eq(y_true,y_preds).sum().item()\n",
    "    acc=correct/len(y_true)*100\n",
    "    return acc"
   ]
  },
  {
   "cell_type": "code",
   "execution_count": 23,
   "id": "a54a9858",
   "metadata": {
    "execution": {
     "iopub.execute_input": "2024-07-20T10:47:13.312897Z",
     "iopub.status.busy": "2024-07-20T10:47:13.312582Z",
     "iopub.status.idle": "2024-07-20T10:47:13.507206Z",
     "shell.execute_reply": "2024-07-20T10:47:13.506413Z"
    },
    "papermill": {
     "duration": 0.213332,
     "end_time": "2024-07-20T10:47:13.509629",
     "exception": false,
     "start_time": "2024-07-20T10:47:13.296297",
     "status": "completed"
    },
    "tags": []
   },
   "outputs": [],
   "source": [
    "torch.manual_seed(42)\n",
    "torch.cuda.manual_seed(42)\n",
    "model_0=DrowsyModelV0(input_shape=1,output_shape=1).to(device)\n",
    "model_0=DataParallel(model_0)# To ustilize both T4 GPUs at the same time"
   ]
  },
  {
   "cell_type": "markdown",
   "id": "fa7a1bbe",
   "metadata": {
    "papermill": {
     "duration": 0.015543,
     "end_time": "2024-07-20T10:47:13.541230",
     "exception": false,
     "start_time": "2024-07-20T10:47:13.525687",
     "status": "completed"
    },
    "tags": []
   },
   "source": [
    "## Setting up loss function and optimizer"
   ]
  },
  {
   "cell_type": "code",
   "execution_count": 24,
   "id": "baa4642c",
   "metadata": {
    "execution": {
     "iopub.execute_input": "2024-07-20T10:47:13.573675Z",
     "iopub.status.busy": "2024-07-20T10:47:13.573356Z",
     "iopub.status.idle": "2024-07-20T10:47:13.578271Z",
     "shell.execute_reply": "2024-07-20T10:47:13.577453Z"
    },
    "papermill": {
     "duration": 0.023249,
     "end_time": "2024-07-20T10:47:13.580128",
     "exception": false,
     "start_time": "2024-07-20T10:47:13.556879",
     "status": "completed"
    },
    "tags": []
   },
   "outputs": [],
   "source": [
    "loss_fn=nn.BCEWithLogitsLoss()\n",
    "optimizer=torch.optim.SGD(params=model_0.parameters(),\n",
    "                          lr=0.001,weight_decay=0.009)"
   ]
  },
  {
   "cell_type": "markdown",
   "id": "374323da",
   "metadata": {
    "papermill": {
     "duration": 0.015255,
     "end_time": "2024-07-20T10:47:13.611115",
     "exception": false,
     "start_time": "2024-07-20T10:47:13.595860",
     "status": "completed"
    },
    "tags": []
   },
   "source": [
    "## Training loop"
   ]
  },
  {
   "cell_type": "code",
   "execution_count": 25,
   "id": "f15f4d91",
   "metadata": {
    "execution": {
     "iopub.execute_input": "2024-07-20T10:47:13.643649Z",
     "iopub.status.busy": "2024-07-20T10:47:13.643354Z",
     "iopub.status.idle": "2024-07-20T10:51:51.757940Z",
     "shell.execute_reply": "2024-07-20T10:51:51.757108Z"
    },
    "papermill": {
     "duration": 278.133349,
     "end_time": "2024-07-20T10:51:51.760371",
     "exception": false,
     "start_time": "2024-07-20T10:47:13.627022",
     "status": "completed"
    },
    "tags": []
   },
   "outputs": [
    {
     "name": "stdout",
     "output_type": "stream",
     "text": [
      "Epoch:0 | Train loss:0.6942 | Train Accuracy:47.87% | Test Loss:0.6901 | Test Accuracy:51.22%\n",
      "Epoch:10 | Train loss:0.6788 | Train Accuracy:54.50% | Test Loss:0.6827 | Test Accuracy:51.30%\n",
      "Epoch:20 | Train loss:0.6567 | Train Accuracy:66.32% | Test Loss:0.6559 | Test Accuracy:66.13%\n",
      "Epoch:30 | Train loss:0.5963 | Train Accuracy:74.62% | Test Loss:0.5763 | Test Accuracy:78.93%\n",
      "Epoch:40 | Train loss:0.5029 | Train Accuracy:76.66% | Test Loss:0.4458 | Test Accuracy:81.53%\n",
      "Epoch:50 | Train loss:0.4414 | Train Accuracy:79.37% | Test Loss:0.3639 | Test Accuracy:82.92%\n",
      "Epoch:60 | Train loss:0.4035 | Train Accuracy:81.83% | Test Loss:0.2962 | Test Accuracy:86.77%\n",
      "Epoch:70 | Train loss:0.3794 | Train Accuracy:82.72% | Test Loss:0.2493 | Test Accuracy:91.29%\n",
      "Epoch:80 | Train loss:0.3588 | Train Accuracy:84.36% | Test Loss:0.2275 | Test Accuracy:91.37%\n",
      "Epoch:90 | Train loss:0.3422 | Train Accuracy:85.31% | Test Loss:0.2054 | Test Accuracy:92.43%\n",
      "Epoch:100 | Train loss:0.3282 | Train Accuracy:86.29% | Test Loss:0.1999 | Test Accuracy:92.03%\n"
     ]
    }
   ],
   "source": [
    "torch.manual_seed(42)\n",
    "torch.cuda.manual_seed(42)\n",
    "train_losses=[]\n",
    "test_losses=[]\n",
    "train_accuracies=[]\n",
    "test_accuracies=[]\n",
    "epoch_list=[]\n",
    "epochs=110\n",
    "for epoch in range(epochs):\n",
    "    epoch_list.append(epoch)\n",
    "    train_loss,train_acc=0,0\n",
    "    for X,y in train_dataloader:\n",
    "        X,y=X.to(device),y.to(device)\n",
    "        y_logits=model_0(X).squeeze()\n",
    "        loss=loss_fn(y_logits,y.float())\n",
    "        train_loss+=loss\n",
    "        y_preds=torch.round(torch.sigmoid(y_logits))\n",
    "        acc=accuracy_fn(y_true=y,\n",
    "                       y_preds=y_preds)\n",
    "        train_acc+=acc\n",
    "        \n",
    "        optimizer.zero_grad()\n",
    "        loss.backward()\n",
    "        optimizer.step()\n",
    "    \n",
    "    train_loss/=len(train_dataloader)    \n",
    "    train_losses.append(train_loss.item())\n",
    "    \n",
    "    train_acc/=len(train_dataloader)\n",
    "    train_accuracies.append(train_acc)\n",
    "    \n",
    "    \n",
    "    model_0.eval()\n",
    "    test_loss,test_acc=0,0\n",
    "    with torch.inference_mode():\n",
    "        for X_test,y_test in test_dataloader:\n",
    "            X_test,y_test=X_test.to(device),y_test.to(device)\n",
    "            \n",
    "            test_logits=model_0(X_test).squeeze()\n",
    "            test_loss+=loss_fn(test_logits,y_test.float())\n",
    "            \n",
    "            test_preds=torch.round(torch.sigmoid(test_logits))\n",
    "            test_acc+=accuracy_fn(y_true=y_test,\n",
    "                                 y_preds=test_preds)\n",
    "        \n",
    "        test_loss/=len(test_dataloader)    \n",
    "        test_losses.append(test_loss.item())\n",
    "\n",
    "        test_acc/=len(test_dataloader)\n",
    "        test_accuracies.append(test_acc)\n",
    "    if epoch%10==0:\n",
    "        print(f\"Epoch:{epoch} | Train loss:{train_loss:.4f} | Train Accuracy:{train_acc:.2f}% | Test Loss:{test_loss:.4f} | Test Accuracy:{test_acc:.2f}%\")\n",
    "\n",
    "            \n",
    "        "
   ]
  },
  {
   "cell_type": "markdown",
   "id": "ab7c19fe",
   "metadata": {
    "papermill": {
     "duration": 0.016188,
     "end_time": "2024-07-20T10:51:51.793336",
     "exception": false,
     "start_time": "2024-07-20T10:51:51.777148",
     "status": "completed"
    },
    "tags": []
   },
   "source": [
    "## visualizing accuracy/loss curves"
   ]
  },
  {
   "cell_type": "code",
   "execution_count": 26,
   "id": "f668bdfc",
   "metadata": {
    "execution": {
     "iopub.execute_input": "2024-07-20T10:51:51.827804Z",
     "iopub.status.busy": "2024-07-20T10:51:51.827465Z",
     "iopub.status.idle": "2024-07-20T10:51:52.408560Z",
     "shell.execute_reply": "2024-07-20T10:51:52.407564Z"
    },
    "papermill": {
     "duration": 0.600473,
     "end_time": "2024-07-20T10:51:52.410532",
     "exception": false,
     "start_time": "2024-07-20T10:51:51.810059",
     "status": "completed"
    },
    "tags": []
   },
   "outputs": [
    {
     "data": {
      "text/plain": [
       "<matplotlib.legend.Legend at 0x7fe4f47be3b0>"
      ]
     },
     "execution_count": 26,
     "metadata": {},
     "output_type": "execute_result"
    },
    {
     "data": {
      "image/png": "[encoded data removed]",
      "text/plain": [
       "<Figure size 1500x700 with 2 Axes>"
      ]
     },
     "metadata": {},
     "output_type": "display_data"
    }
   ],
   "source": [
    "plt.figure(figsize=(15,7))\n",
    "plt.subplot(1,2,1)\n",
    "plt.plot(epoch_list,train_losses,label=\"Train loss\")\n",
    "plt.plot(epoch_list,test_losses,label=\"Test loss\")\n",
    "plt.title(\"Train and test losses vs epochs\")\n",
    "plt.xlabel(\"epochs\")\n",
    "plt.ylabel(\"loss\")\n",
    "plt.legend()\n",
    "\n",
    "plt.subplot(1,2,2)\n",
    "plt.plot(epoch_list,train_accuracies,label=\"Train Accuracy\")\n",
    "plt.plot(epoch_list,test_accuracies,label=\"Test Accuracy\")\n",
    "plt.title(\"Train and test Accuracies vs epochs\")\n",
    "plt.xlabel(\"epochs\")\n",
    "plt.ylabel(\"Accuracy\")\n",
    "plt.legend()\n",
    "\n"
   ]
  },
  {
   "cell_type": "markdown",
   "id": "fe099fd7",
   "metadata": {
    "papermill": {
     "duration": 0.017512,
     "end_time": "2024-07-20T10:51:52.446139",
     "exception": false,
     "start_time": "2024-07-20T10:51:52.428627",
     "status": "completed"
    },
    "tags": []
   },
   "source": [
    "## Evaluating model_0"
   ]
  },
  {
   "cell_type": "code",
   "execution_count": 27,
   "id": "91945a68",
   "metadata": {
    "execution": {
     "iopub.execute_input": "2024-07-20T10:51:52.482948Z",
     "iopub.status.busy": "2024-07-20T10:51:52.482611Z",
     "iopub.status.idle": "2024-07-20T10:51:52.914977Z",
     "shell.execute_reply": "2024-07-20T10:51:52.913795Z"
    },
    "papermill": {
     "duration": 0.453108,
     "end_time": "2024-07-20T10:51:52.917021",
     "exception": false,
     "start_time": "2024-07-20T10:51:52.463913",
     "status": "completed"
    },
    "tags": []
   },
   "outputs": [
    {
     "name": "stdout",
     "output_type": "stream",
     "text": [
      "Test Loss:0.1907 | Test Accuracy:91.96%\n"
     ]
    }
   ],
   "source": [
    "model_0.eval()\n",
    "pred_labels_0=[]\n",
    "test_loss,test_acc=0,0\n",
    "with torch.inference_mode():\n",
    "    for X_test,y_test in test_dataloader:\n",
    "        X_test,y_test=X_test.to(device),y_test.to(device)\n",
    "\n",
    "        test_logits=model_0(X_test).squeeze()\n",
    "        test_loss+=loss_fn(test_logits,y_test.float())\n",
    "\n",
    "        test_preds=torch.round(torch.sigmoid(test_logits))\n",
    "        pred_labels_0.extend(test_preds)\n",
    "        test_acc+=accuracy_fn(y_true=y_test,\n",
    "                             y_preds=test_preds)\n",
    "\n",
    "    test_loss/=len(test_dataloader)    \n",
    "    test_acc/=len(test_dataloader)\n",
    "    \n",
    "    print(f\"Test Loss:{test_loss:.4f} | Test Accuracy:{test_acc:.2f}%\")"
   ]
  },
  {
   "cell_type": "code",
   "execution_count": 28,
   "id": "9759361a",
   "metadata": {
    "execution": {
     "iopub.execute_input": "2024-07-20T10:51:52.954724Z",
     "iopub.status.busy": "2024-07-20T10:51:52.954023Z",
     "iopub.status.idle": "2024-07-20T10:51:52.975510Z",
     "shell.execute_reply": "2024-07-20T10:51:52.974667Z"
    },
    "papermill": {
     "duration": 0.042371,
     "end_time": "2024-07-20T10:51:52.977478",
     "exception": false,
     "start_time": "2024-07-20T10:51:52.935107",
     "status": "completed"
    },
    "tags": []
   },
   "outputs": [],
   "source": [
    "pred_labels_0=[int(i.item()) for i in pred_labels_0]"
   ]
  },
  {
   "cell_type": "markdown",
   "id": "a3294c49",
   "metadata": {
    "papermill": {
     "duration": 0.017442,
     "end_time": "2024-07-20T10:51:53.012666",
     "exception": false,
     "start_time": "2024-07-20T10:51:52.995224",
     "status": "completed"
    },
    "tags": []
   },
   "source": [
    "## Saving model_0 weights(state_dict)"
   ]
  },
  {
   "cell_type": "code",
   "execution_count": 29,
   "id": "7a8260d4",
   "metadata": {
    "execution": {
     "iopub.execute_input": "2024-07-20T10:51:53.049844Z",
     "iopub.status.busy": "2024-07-20T10:51:53.049186Z",
     "iopub.status.idle": "2024-07-20T10:51:53.056794Z",
     "shell.execute_reply": "2024-07-20T10:51:53.055955Z"
    },
    "papermill": {
     "duration": 0.028558,
     "end_time": "2024-07-20T10:51:53.058784",
     "exception": false,
     "start_time": "2024-07-20T10:51:53.030226",
     "status": "completed"
    },
    "tags": []
   },
   "outputs": [],
   "source": [
    "model_0_state_dict=model_0.state_dict()\n",
    "path_0=\"/kaggle/working/model_0_weights.pkl\"\n",
    "\n",
    "with open(path_0,'wb') as f:\n",
    "    pickle.dump(model_0_state_dict,f)"
   ]
  },
  {
   "cell_type": "markdown",
   "id": "fa4a090a",
   "metadata": {
    "papermill": {
     "duration": 0.017276,
     "end_time": "2024-07-20T10:51:53.093677",
     "exception": false,
     "start_time": "2024-07-20T10:51:53.076401",
     "status": "completed"
    },
    "tags": []
   },
   "source": [
    "## Saving model_0 predictions"
   ]
  },
  {
   "cell_type": "code",
   "execution_count": 30,
   "id": "4fb11895",
   "metadata": {
    "execution": {
     "iopub.execute_input": "2024-07-20T10:51:53.130809Z",
     "iopub.status.busy": "2024-07-20T10:51:53.130198Z",
     "iopub.status.idle": "2024-07-20T10:51:53.136117Z",
     "shell.execute_reply": "2024-07-20T10:51:53.135428Z"
    },
    "papermill": {
     "duration": 0.026631,
     "end_time": "2024-07-20T10:51:53.137944",
     "exception": false,
     "start_time": "2024-07-20T10:51:53.111313",
     "status": "completed"
    },
    "tags": []
   },
   "outputs": [],
   "source": [
    "with open(\"model_0_preds.csv\",'w') as file:\n",
    "    wobj=csv.writer(file)\n",
    "    for i in pred_labels_0:\n",
    "        wobj.writerow([i])"
   ]
  },
  {
   "cell_type": "markdown",
   "id": "628c3d56",
   "metadata": {
    "papermill": {
     "duration": 0.017518,
     "end_time": "2024-07-20T10:51:53.173054",
     "exception": false,
     "start_time": "2024-07-20T10:51:53.155536",
     "status": "completed"
    },
    "tags": []
   },
   "source": [
    "## Making custom model DrowsyModelV1"
   ]
  },
  {
   "cell_type": "code",
   "execution_count": 31,
   "id": "4b0458a7",
   "metadata": {
    "execution": {
     "iopub.execute_input": "2024-07-20T10:51:53.210991Z",
     "iopub.status.busy": "2024-07-20T10:51:53.210618Z",
     "iopub.status.idle": "2024-07-20T10:51:53.218373Z",
     "shell.execute_reply": "2024-07-20T10:51:53.217524Z"
    },
    "papermill": {
     "duration": 0.029451,
     "end_time": "2024-07-20T10:51:53.220300",
     "exception": false,
     "start_time": "2024-07-20T10:51:53.190849",
     "status": "completed"
    },
    "tags": []
   },
   "outputs": [],
   "source": [
    "class DrowsyModelV1(nn.Module):\n",
    "    def __init__(self,input_shape,output_shape):\n",
    "        super().__init__()\n",
    "        \n",
    "        self.block1=nn.Sequential(\n",
    "            nn.Conv2d(in_channels=input_shape,\n",
    "                     out_channels=16,\n",
    "                     kernel_size=5,\n",
    "                     stride=1,\n",
    "                     padding=1),\n",
    "            nn.ReLU(),\n",
    "            nn.MaxPool2d(kernel_size=3,\n",
    "                         stride=2)\n",
    "        )\n",
    "\n",
    "        self.block2=nn.Sequential(\n",
    "            nn.Conv2d(in_channels=16,\n",
    "                     out_channels=5,\n",
    "                     kernel_size=4,\n",
    "                     padding=1,\n",
    "                     stride=2),\n",
    "            nn.Flatten(),\n",
    "            nn.Linear(in_features=5*11*11,\n",
    "                     out_features=64),\n",
    "            nn.Linear(in_features=64,out_features=output_shape)\n",
    "        )\n",
    "    def forward(self,x):\n",
    "        x=self.block1(x)\n",
    "#         print(x.shape)\n",
    "        x=self.block2(x)\n",
    "#         print(x.shape)\n",
    "        return x"
   ]
  },
  {
   "cell_type": "code",
   "execution_count": 32,
   "id": "c2443edc",
   "metadata": {
    "execution": {
     "iopub.execute_input": "2024-07-20T10:51:53.257596Z",
     "iopub.status.busy": "2024-07-20T10:51:53.257319Z",
     "iopub.status.idle": "2024-07-20T10:51:53.263830Z",
     "shell.execute_reply": "2024-07-20T10:51:53.263157Z"
    },
    "papermill": {
     "duration": 0.027167,
     "end_time": "2024-07-20T10:51:53.265667",
     "exception": false,
     "start_time": "2024-07-20T10:51:53.238500",
     "status": "completed"
    },
    "tags": []
   },
   "outputs": [],
   "source": [
    "torch.manual_seed(42)\n",
    "torch.cuda.manual_seed(42)\n",
    "model_1=DrowsyModelV1(input_shape=1,output_shape=1).to(device)\n",
    "model_1=DataParallel(model_1)"
   ]
  },
  {
   "cell_type": "markdown",
   "id": "8bf50225",
   "metadata": {
    "papermill": {
     "duration": 0.0179,
     "end_time": "2024-07-20T10:51:53.301202",
     "exception": false,
     "start_time": "2024-07-20T10:51:53.283302",
     "status": "completed"
    },
    "tags": []
   },
   "source": [
    "## setting up loss function and optimizer"
   ]
  },
  {
   "cell_type": "code",
   "execution_count": 33,
   "id": "8aa79417",
   "metadata": {
    "execution": {
     "iopub.execute_input": "2024-07-20T10:51:53.337688Z",
     "iopub.status.busy": "2024-07-20T10:51:53.337391Z",
     "iopub.status.idle": "2024-07-20T10:51:53.341996Z",
     "shell.execute_reply": "2024-07-20T10:51:53.341208Z"
    },
    "papermill": {
     "duration": 0.025195,
     "end_time": "2024-07-20T10:51:53.343971",
     "exception": false,
     "start_time": "2024-07-20T10:51:53.318776",
     "status": "completed"
    },
    "tags": []
   },
   "outputs": [],
   "source": [
    "loss_fn=nn.BCEWithLogitsLoss()\n",
    "optimizer=torch.optim.SGD(params=model_1.parameters(),\n",
    "                          lr=0.000968,weight_decay=0.099)"
   ]
  },
  {
   "cell_type": "markdown",
   "id": "98b874a7",
   "metadata": {
    "papermill": {
     "duration": 0.01758,
     "end_time": "2024-07-20T10:51:53.379490",
     "exception": false,
     "start_time": "2024-07-20T10:51:53.361910",
     "status": "completed"
    },
    "tags": []
   },
   "source": [
    "## Training loop"
   ]
  },
  {
   "cell_type": "code",
   "execution_count": 34,
   "id": "8a2348a5",
   "metadata": {
    "execution": {
     "iopub.execute_input": "2024-07-20T10:51:53.415838Z",
     "iopub.status.busy": "2024-07-20T10:51:53.415557Z",
     "iopub.status.idle": "2024-07-20T10:55:25.728758Z",
     "shell.execute_reply": "2024-07-20T10:55:25.727756Z"
    },
    "papermill": {
     "duration": 212.334321,
     "end_time": "2024-07-20T10:55:25.731385",
     "exception": false,
     "start_time": "2024-07-20T10:51:53.397064",
     "status": "completed"
    },
    "tags": []
   },
   "outputs": [
    {
     "name": "stdout",
     "output_type": "stream",
     "text": [
      "Epoch:0 | Train loss:0.6917 | Train Accuracy:59.60% | Test Loss:0.6908 | Test Accuracy:56.21%\n",
      "Epoch:10 | Train loss:0.6884 | Train Accuracy:51.79% | Test Loss:0.6910 | Test Accuracy:48.91%\n",
      "Epoch:20 | Train loss:0.6866 | Train Accuracy:51.96% | Test Loss:0.6906 | Test Accuracy:48.65%\n",
      "Epoch:30 | Train loss:0.6850 | Train Accuracy:52.12% | Test Loss:0.6893 | Test Accuracy:48.78%\n",
      "Epoch:40 | Train loss:0.6822 | Train Accuracy:53.11% | Test Loss:0.6874 | Test Accuracy:49.11%\n",
      "Epoch:50 | Train loss:0.6776 | Train Accuracy:54.10% | Test Loss:0.6837 | Test Accuracy:49.78%\n",
      "Epoch:60 | Train loss:0.6657 | Train Accuracy:59.32% | Test Loss:0.6706 | Test Accuracy:56.73%\n",
      "Epoch:70 | Train loss:0.6198 | Train Accuracy:73.26% | Test Loss:0.6125 | Test Accuracy:76.80%\n",
      "Epoch:80 | Train loss:0.5126 | Train Accuracy:75.63% | Test Loss:0.4848 | Test Accuracy:74.49%\n",
      "Epoch:90 | Train loss:0.4542 | Train Accuracy:79.70% | Test Loss:0.4105 | Test Accuracy:77.80%\n",
      "Epoch:100 | Train loss:0.4284 | Train Accuracy:80.68% | Test Loss:0.3072 | Test Accuracy:86.99%\n"
     ]
    }
   ],
   "source": [
    "torch.manual_seed(42)\n",
    "torch.cuda.manual_seed(42)\n",
    "train_losses=[]\n",
    "test_losses=[]\n",
    "train_accuracies=[]\n",
    "test_accuracies=[]\n",
    "epoch_list=[]\n",
    "epochs=110\n",
    "for epoch in range(epochs):\n",
    "    epoch_list.append(epoch)\n",
    "    train_loss,train_acc=0,0\n",
    "    for X,y in train_dataloader:\n",
    "        X,y=X.to(device),y.to(device)\n",
    "        y_logits=model_1(X).squeeze()\n",
    "        loss=loss_fn(y_logits,y.float())\n",
    "        train_loss+=loss\n",
    "        y_preds=torch.round(torch.sigmoid(y_logits))\n",
    "        acc=accuracy_fn(y_true=y,\n",
    "                       y_preds=y_preds)\n",
    "        train_acc+=acc\n",
    "        \n",
    "        optimizer.zero_grad()\n",
    "        loss.backward()\n",
    "        optimizer.step()\n",
    "    \n",
    "    train_loss/=len(train_dataloader)    \n",
    "    train_losses.append(train_loss.item())\n",
    "    \n",
    "    train_acc/=len(train_dataloader)\n",
    "    train_accuracies.append(train_acc)\n",
    "    \n",
    "    \n",
    "    model_1.eval()\n",
    "    test_loss,test_acc=0,0\n",
    "    with torch.inference_mode():\n",
    "        for X_test,y_test in test_dataloader:\n",
    "            X_test,y_test=X_test.to(device),y_test.to(device)\n",
    "            \n",
    "            test_logits=model_1(X_test).squeeze()\n",
    "            test_loss+=loss_fn(test_logits,y_test.float())\n",
    "            \n",
    "            test_preds=torch.round(torch.sigmoid(test_logits))\n",
    "            test_acc+=accuracy_fn(y_true=y_test,\n",
    "                                 y_preds=test_preds)\n",
    "        \n",
    "        test_loss/=len(test_dataloader)    \n",
    "        test_losses.append(test_loss.item())\n",
    "\n",
    "        test_acc/=len(test_dataloader)\n",
    "        test_accuracies.append(test_acc)\n",
    "    if epoch%10==0:\n",
    "        print(f\"Epoch:{epoch} | Train loss:{train_loss:.4f} | Train Accuracy:{train_acc:.2f}% | Test Loss:{test_loss:.4f} | Test Accuracy:{test_acc:.2f}%\")\n",
    "\n",
    "            \n",
    "                    \n",
    "        "
   ]
  },
  {
   "cell_type": "code",
   "execution_count": 35,
   "id": "9208256b",
   "metadata": {
    "execution": {
     "iopub.execute_input": "2024-07-20T10:55:25.770866Z",
     "iopub.status.busy": "2024-07-20T10:55:25.770300Z",
     "iopub.status.idle": "2024-07-20T10:55:26.286679Z",
     "shell.execute_reply": "2024-07-20T10:55:26.285502Z"
    },
    "papermill": {
     "duration": 0.538522,
     "end_time": "2024-07-20T10:55:26.289130",
     "exception": false,
     "start_time": "2024-07-20T10:55:25.750608",
     "status": "completed"
    },
    "tags": []
   },
   "outputs": [
    {
     "data": {
      "text/plain": [
       "<matplotlib.legend.Legend at 0x7fe4f48a5210>"
      ]
     },
     "execution_count": 35,
     "metadata": {},
     "output_type": "execute_result"
    },
    {
     "data": {
      "image/png": "[encoded data removed]",
      "text/plain": [
       "<Figure size 1500x700 with 2 Axes>"
      ]
     },
     "metadata": {},
     "output_type": "display_data"
    }
   ],
   "source": [
    "plt.figure(figsize=(15,7))\n",
    "plt.subplot(1,2,1)\n",
    "plt.plot(epoch_list,train_losses,label=\"Train loss\")\n",
    "plt.plot(epoch_list,test_losses,label=\"Test loss\")\n",
    "plt.title(\"Train and test losses vs epochs\")\n",
    "plt.xlabel(\"epochs\")\n",
    "plt.ylabel(\"loss\")\n",
    "plt.legend()\n",
    "\n",
    "plt.subplot(1,2,2)\n",
    "plt.plot(epoch_list,train_accuracies,label=\"Train Accuracy\")\n",
    "plt.plot(epoch_list,test_accuracies,label=\"Test Accuracy\")\n",
    "plt.title(\"Train and test Accuracies vs epochs\")\n",
    "plt.xlabel(\"epochs\")\n",
    "plt.ylabel(\"Accuracy\")\n",
    "plt.legend()\n",
    "\n"
   ]
  },
  {
   "cell_type": "markdown",
   "id": "7c482b87",
   "metadata": {
    "papermill": {
     "duration": 0.019649,
     "end_time": "2024-07-20T10:55:26.329959",
     "exception": false,
     "start_time": "2024-07-20T10:55:26.310310",
     "status": "completed"
    },
    "tags": []
   },
   "source": [
    "## Evaluating model_1"
   ]
  },
  {
   "cell_type": "code",
   "execution_count": 36,
   "id": "bca424e0",
   "metadata": {
    "execution": {
     "iopub.execute_input": "2024-07-20T10:55:26.370675Z",
     "iopub.status.busy": "2024-07-20T10:55:26.370394Z",
     "iopub.status.idle": "2024-07-20T10:55:26.700496Z",
     "shell.execute_reply": "2024-07-20T10:55:26.699284Z"
    },
    "papermill": {
     "duration": 0.352918,
     "end_time": "2024-07-20T10:55:26.702663",
     "exception": false,
     "start_time": "2024-07-20T10:55:26.349745",
     "status": "completed"
    },
    "tags": []
   },
   "outputs": [
    {
     "name": "stdout",
     "output_type": "stream",
     "text": [
      "Test Loss:0.3088 | Test Accuracy:85.11%\n"
     ]
    }
   ],
   "source": [
    "model_1.eval()\n",
    "pred_labels_1=[]\n",
    "test_loss,test_acc=0,0\n",
    "with torch.inference_mode():\n",
    "    for X_test,y_test in test_dataloader:\n",
    "        X_test,y_test=X_test.to(device),y_test.to(device)\n",
    "\n",
    "        test_logits=model_1(X_test).squeeze()\n",
    "        test_loss+=loss_fn(test_logits,y_test.float())\n",
    "\n",
    "        test_preds=torch.round(torch.sigmoid(test_logits))\n",
    "        pred_labels_1.extend(test_preds)\n",
    "        test_acc+=accuracy_fn(y_true=y_test,\n",
    "                             y_preds=test_preds)\n",
    "\n",
    "    test_loss/=len(test_dataloader)    \n",
    "    test_acc/=len(test_dataloader)\n",
    "    print(f\"Test Loss:{test_loss:.4f} | Test Accuracy:{test_acc:.2f}%\")"
   ]
  },
  {
   "cell_type": "code",
   "execution_count": 37,
   "id": "98cfa237",
   "metadata": {
    "execution": {
     "iopub.execute_input": "2024-07-20T10:55:26.744657Z",
     "iopub.status.busy": "2024-07-20T10:55:26.744370Z",
     "iopub.status.idle": "2024-07-20T10:55:26.766315Z",
     "shell.execute_reply": "2024-07-20T10:55:26.765645Z"
    },
    "papermill": {
     "duration": 0.044582,
     "end_time": "2024-07-20T10:55:26.768147",
     "exception": false,
     "start_time": "2024-07-20T10:55:26.723565",
     "status": "completed"
    },
    "tags": []
   },
   "outputs": [],
   "source": [
    "pred_labels_1=[int(i.item()) for i in pred_labels_1]"
   ]
  },
  {
   "cell_type": "markdown",
   "id": "db8f6d7c",
   "metadata": {
    "papermill": {
     "duration": 0.019391,
     "end_time": "2024-07-20T10:55:26.807425",
     "exception": false,
     "start_time": "2024-07-20T10:55:26.788034",
     "status": "completed"
    },
    "tags": []
   },
   "source": [
    "## Saving model_1 weights (state_dict)\n"
   ]
  },
  {
   "cell_type": "code",
   "execution_count": 38,
   "id": "24150db0",
   "metadata": {
    "execution": {
     "iopub.execute_input": "2024-07-20T10:55:26.847685Z",
     "iopub.status.busy": "2024-07-20T10:55:26.847419Z",
     "iopub.status.idle": "2024-07-20T10:55:26.854811Z",
     "shell.execute_reply": "2024-07-20T10:55:26.854091Z"
    },
    "papermill": {
     "duration": 0.029894,
     "end_time": "2024-07-20T10:55:26.857016",
     "exception": false,
     "start_time": "2024-07-20T10:55:26.827122",
     "status": "completed"
    },
    "tags": []
   },
   "outputs": [],
   "source": [
    "model_1_state_dict=model_0.state_dict()\n",
    "path_1=\"/kaggle/working/model_1_weights.pkl\"\n",
    "\n",
    "with open(path_1,'wb') as f:\n",
    "    pickle.dump(model_1_state_dict,f)"
   ]
  },
  {
   "cell_type": "markdown",
   "id": "73fa03de",
   "metadata": {
    "papermill": {
     "duration": 0.01939,
     "end_time": "2024-07-20T10:55:26.895931",
     "exception": false,
     "start_time": "2024-07-20T10:55:26.876541",
     "status": "completed"
    },
    "tags": []
   },
   "source": [
    "## Saving model_1 predictions"
   ]
  },
  {
   "cell_type": "code",
   "execution_count": 39,
   "id": "e92bd9ca",
   "metadata": {
    "execution": {
     "iopub.execute_input": "2024-07-20T10:55:26.937323Z",
     "iopub.status.busy": "2024-07-20T10:55:26.936831Z",
     "iopub.status.idle": "2024-07-20T10:55:26.942280Z",
     "shell.execute_reply": "2024-07-20T10:55:26.941460Z"
    },
    "papermill": {
     "duration": 0.027973,
     "end_time": "2024-07-20T10:55:26.944103",
     "exception": false,
     "start_time": "2024-07-20T10:55:26.916130",
     "status": "completed"
    },
    "tags": []
   },
   "outputs": [],
   "source": [
    "with open(\"model_1_preds.csv\",'w') as file:\n",
    "    wobj=csv.writer(file)\n",
    "    for i in pred_labels_1:\n",
    "        wobj.writerow([i])"
   ]
  }
 ],
 "metadata": {
  "kaggle": {
   "accelerator": "nvidiaTeslaT4",
   "dataSources": [
    {
     "datasetId": 4937317,
     "sourceId": 8311245,
     "sourceType": "datasetVersion"
    }
   ],
   "dockerImageVersionId": 30732,
   "isGpuEnabled": true,
   "isInternetEnabled": true,
   "language": "python",
   "sourceType": "notebook"
  },
  "kernelspec": {
   "display_name": "Python 3",
   "language": "python",
   "name": "python3"
  },
  "language_info": {
   "codemirror_mode": {
    "name": "ipython",
    "version": 3
   },
   "file_extension": ".py",
   "mimetype": "text/x-python",
   "name": "python",
   "nbconvert_exporter": "python",
   "pygments_lexer": "ipython3",
   "version": "3.10.13"
  },
  "papermill": {
   "default_parameters": {},
   "duration": 562.152868,
   "end_time": "2024-07-20T10:55:28.587331",
   "environment_variables": {},
   "exception": null,
   "input_path": "__notebook__.ipynb",
   "output_path": "__notebook__.ipynb",
   "parameters": {},
   "start_time": "2024-07-20T10:46:06.434463",
   "version": "2.5.0"
  }
 },
 "nbformat": 4,
 "nbformat_minor": 5
}
