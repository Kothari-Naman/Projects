{
 "cells": [
  {
   "cell_type": "markdown",
   "id": "6abe484b",
   "metadata": {},
   "source": [
    "Synthetic Data Generation"
   ]
  },
  {
   "cell_type": "code",
   "execution_count": null,
   "id": "de0ca07f",
   "metadata": {},
   "outputs": [
    {
     "name": "stdout",
     "output_type": "stream",
     "text": [
      "Training and validation datasets generated successfully.\n"
     ]
    }
   ],
   "source": [
    "import numpy as np\n",
    "import pandas as pd\n",
    "\n",
    "def generate_frequency_points(start=0.8, stop=1.5, num=401):\n",
    "    return np.linspace(start, stop, num)\n",
    "\n",
    "# Given capacitor values\n",
    "cs_train = [0.9, 1.1, 1.3, 1.5, 1.7, 1.9, 2.1, 2.3, 2.5, 2.7, 2.9, 3.1, 3.3]\n",
    "cp_train = [1, 1.5, 2, 2.5, 3, 3.5, 4, 4.5, 5, 5.5, 6, 6.5, 7, 7.5, 8, 8.5, 9,\n",
    "            9.5, 10, 10.5, 11, 11.5, 12, 12.5, 13, 13.5, 14, 14.5, 15]\n",
    "\n",
    "cs_val = [1, 1.2, 1.4, 1.6, 1.8, 2, 2.2, 2.4, 2.6, 2.8, 3]\n",
    "cp_val = [1.1, 1.7, 2.3, 3.7, 5.5, 7.5, 9.5, 11.5, 13.5, 16]\n",
    "\n",
    "# Frequency points\n",
    "frequencies = generate_frequency_points()\n",
    "\n",
    "def generate_s11(cs, cp, freq):\n",
    "\n",
    "    f_res = 1 / (np.sqrt(cs * cp))  \n",
    "    return np.exp(-((freq - f_res) ** 2) / 0.02)  # Gaussian-like response\n",
    "\n",
    "# Generate training data\n",
    "train_data = []\n",
    "for cs in cs_train:\n",
    "    for cp in cp_train:\n",
    "        s11_values = generate_s11(cs, cp, frequencies)\n",
    "        train_data.append([cs, cp] + list(s11_values))\n",
    "\n",
    "train_df = pd.DataFrame(train_data, columns=[\"CS\", \"CP\"] + [f\"S11_{f:.3f}GHz\" for f in frequencies])\n",
    "train_df.to_csv(\"training_data.csv\", index=False)\n",
    "\n",
    "# Generate validation data\n",
    "val_data = []\n",
    "for cs in cs_val:\n",
    "    for cp in cp_val:\n",
    "        s11_values = generate_s11(cs, cp, frequencies)\n",
    "        val_data.append([cs, cp] + list(s11_values))\n",
    "\n",
    "val_df = pd.DataFrame(val_data, columns=[\"CS\", \"CP\"] + [f\"S11_{f:.3f}GHz\" for f in frequencies])\n",
    "val_df.to_csv(\"validation_data.csv\", index=False)\n",
    "\n",
    "print(\"Training and validation datasets generated successfully.\")\n"
   ]
  },
  {
   "cell_type": "markdown",
   "id": "b57cac54",
   "metadata": {},
   "source": []
  },
  {
   "cell_type": "code",
   "execution_count": null,
   "id": "7f349a0b",
   "metadata": {},
   "outputs": [],
   "source": [
    "import numpy as np\n",
    "import pandas as pd\n",
    "\n",
    "def generate_frequency_points(start=0.8, stop=1.5, num=401):\n",
    "    return np.linspace(start, stop, num)\n",
    "\n",
    "cs_train = [0.9, 1.1, 1.3, 1.5, 1.7, 1.9, 2.1, 2.3, 2.5, 2.7, 2.9, 3.1, 3.3]\n",
    "cp_train = [1, 1.5, 2, 2.5, 3, 3.5, 4, 4.5, 5, 5.5, 6, 6.5, 7, 7.5, 8, 8.5, 9,\n",
    "            9.5, 10, 10.5, 11, 11.5, 12, 12.5, 13, 13.5, 14, 14.5, 15]\n",
    "\n",
    "cs_val = [1, 1.2, 1.4, 1.6, 1.8, 2, 2.2, 2.4, 2.6, 2.8, 3]\n",
    "cp_val = [1.1, 1.7, 2.3, 3.7, 5.5, 7.5, 9.5, 11.5, 13.5, 16]\n",
    "\n",
    "frequencies = generate_frequency_points()\n",
    "\n",
    "def generate_s11(cs, cp, freq):\n",
    "    f_res = 1 / (np.sqrt(cs * cp))\n",
    "    return np.exp(-((freq - f_res) ** 2) / 0.02)\n",
    "\n",
    "train_data = []\n",
    "for cs in cs_train:\n",
    "    for cp in cp_train:\n",
    "        s11_values = generate_s11(cs, cp, frequencies)\n",
    "        train_data.append([cs, cp] + list(s11_values))\n",
    "\n",
    "train_df = pd.DataFrame(train_data, columns=[\"CS\", \"CP\"] + [f\"S11_{f:.3f}GHz\" for f in frequencies])\n",
    "train_df.to_csv(\"training_data.csv\", index=False)\n",
    "\n",
    "val_data = []\n",
    "for cs in cs_val:\n",
    "    for cp in cp_val:\n",
    "        s11_values = generate_s11(cs, cp, frequencies)\n",
    "        val_data.append([cs, cp] + list(s11_values))\n",
    "\n",
    "val_df = pd.DataFrame(val_data, columns=[\"CS\", \"CP\"] + [f\"S11_{f:.3f}GHz\" for f in frequencies])\n",
    "val_df.to_csv(\"validation_data.csv\", index=False)\n",
    "\n",
    "print(\"Training and validation datasets generated successfully.\")\n"
   ]
  }
 ],
 "metadata": {
  "kernelspec": {
   "display_name": "Python 3 (ipykernel)",
   "language": "python",
   "name": "python3"
  },
  "language_info": {
   "codemirror_mode": {
    "name": "ipython",
    "version": 3
   },
   "file_extension": ".py",
   "mimetype": "text/x-python",
   "name": "python",
   "nbconvert_exporter": "python",
   "pygments_lexer": "ipython3",
   "version": "3.11.5"
  }
 },
 "nbformat": 4,
 "nbformat_minor": 5
}
